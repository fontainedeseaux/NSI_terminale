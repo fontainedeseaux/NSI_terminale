{
 "cells": [
  {
   "cell_type": "code",
   "execution_count": null,
   "id": "4906b2af",
   "metadata": {},
   "outputs": [],
   "source": [
    "from outils import* # Lancer la cellule pour importer les outils nécessaires au notebook.\n",
    "from complements import* # import de fonctions nécessaires au jeu"
   ]
  },
  {
   "cell_type": "markdown",
   "id": "a74d4b51",
   "metadata": {},
   "source": [
    "# <div style = \"text-align : center;\"><span style=\"border: 2px solid;padding:6px;color:dodgerblue;\">L'algorithme MINIMAX / MAXIMIN</span></div> #\n",
    "\n",
    "## <span style=\"text-decoration: underline;color:red;\">I. Introduction :</span> ##\n",
    "● Nous allons présenter cet algorithme de façon générale. Nous l'appliquerons ensuite au puissance 4.<br>\n",
    "L'algorithme du MINIMAX est dû au mathématicien <i>John Von Neuman</i> (inventeur entre autre de l'architecture théorique d'un ordinateur).<br>\n",
    "![alt text](mes_images/von_neumann.jpg)<br>\n",
    "● Le principe est le suivant :<br>\n",
    "L'<strong>ordinateur</strong> dispose d'une <strong>heuristique</strong> permettant <strong>d'évaluer</strong> chaque situation de jeu <strong>de son point de vue</strong>.<br>\n",
    "<br>\n",
    "<br><span style=\"text-decoration: underline;\">Partant d'une situation initiale</span>, <span style=\"border: 2px solid;padding:6px;\">où l'ordinateur doit jouer</span>, on crée un <strong>noeud</strong> RACINE <strong>attaquant</strong> (en blanc ici).<br>\n",
    "<br>![alt text](mes_images/racine.png)<br>\n",
    "● <strong>Chaque coup possible</strong> depuis cette situation engendre une <strong>nouvelle situation</strong>, donc autant de noeuds <strong>fils défenseurs</strong> (en noir ici).<br>\n",
    "![alt text](mes_images/fils.png)<br>\n",
    "<br>\n",
    "![alt text](mes_images/defenseur.png)<br>\n",
    "● <strong>Si l'ordinateur ne joue qu'à un coup de profondeur</strong>, il va donc choisir le coup qui l'amène au fils d'heuristique MAXIMALE.<br>\n",
    "Mais on sait très bien, aux échecs par exemple, qu'un coup intéressant de prime abord, mais s'avérer catastrophique plus loin dans la partie...<br>\n",
    "<br><span style=\"border: 2px solid;padding:6px;\">Choisir le meilleur coup nécessite en effet de continuer à <strong>explorer l'arbre des coups</strong> en envisageant la réponse de chaque fils défenseur, etc...</span><br>\n",
    "<br>● Il est en général impossible de développer l'arbre jusqu'au bout, car il est souvent trop grand!<br>\n",
    "<br>\n",
    "● Aussi sera-t-il nécessaire de fixer une <strong>profondeur de développement maximale</strong> et de se limiter <strong>au parcours</strong> de cet arbre.<br>\n",
    "Par exemple, une profondeur de <strong>2</strong> revient à aller jusqu'aux <strong>petits-fils</strong> attaquants de la racine.<br>\n",
    "Une profondeur de <strong>3</strong> jusqu'à ses arrière-petit-fils défenseurs. Etc.<br>\n",
    "<div class=\"alert alert-block alert-info\"> On retiendra donc que les noeuds où l'<strong>ORDINATEUR</strong> doit jouer sont les noeuds <strong>ATTAQUANTS</strong>.<br>Et que les noeuds où <strong>HUMAIN</strong> doit jouer correspondent aux noeuds <strong>DEFENSEURS</strong>.</div><br>\n"
   ]
  },
  {
   "cell_type": "code",
   "execution_count": null,
   "id": "f06fa36c",
   "metadata": {},
   "outputs": [],
   "source": [
    "qcm.role_defenseur()"
   ]
  },
  {
   "cell_type": "markdown",
   "id": "ea1530f8",
   "metadata": {},
   "source": [
    "<span style=\"text-decoration: underline;font-style: italic;\">Remarque :</span><br>\n",
    "Vous comprenez à présent l'appellation <span style=\"font-family:Courier New;font-size: 100%;\">MaxiMin</span> ou <span style=\"font-family:Courier New;font-size: 100%;\">MiniMax</span> de cet algorithme.<br>\n",
    "Un noeud attaquant MAXImise les MINinmum remontés par ses fils défenseurs.<br>\n",
    "Alors qu'un noeud défenseur MINImise les MAXimums remontées par ses fils attaquants!\n",
    "## <span style=\"text-decoration: underline;color:red;\">II. Notion de score :</span> ##\n",
    "### <span style=\"text-decoration: underline;color:green;\">1. Définition :</span> ###\n",
    "Pour choisir le meilleur coup possible, l'ordinateur va devoir calculer le <strong>score</strong> de chaque noeud.<br>\n",
    "<br>\n",
    "Voici la façon dont il est <strong>récursivement</strong> défini :<br>\n",
    "&nbsp;&nbsp;&nbsp;&nbsp;→ <span style=\"text-decoration: underline;\">cas de base</span> : si le noeud est une <strong>feuille</strong> <span style=\"text-decoration: underline;\">ou</span> de <strong>profondeur maximale est atteinte</strong>, le score du noeud est égal à son heuristique.<br>\n",
    "&nbsp;&nbsp;&nbsp;&nbsp;→ <span style=\"text-decoration: underline;\">cas récursif</span>  : si le noeud est <strong>attaquant</strong>, son score est égal au <strong>maximum</strong> des scores fils<br>\n",
    "&nbsp;&nbsp;&nbsp;&nbsp;&nbsp;&nbsp;&nbsp;&nbsp;&nbsp;&nbsp;&nbsp;&nbsp;&nbsp;&nbsp;&nbsp;&nbsp;&nbsp;&nbsp;&nbsp;&nbsp;&nbsp;&nbsp;&nbsp;&nbsp;&nbsp;&nbsp;&nbsp;&nbsp;&nbsp;&nbsp;si le noeud est <strong>défenseur</strong>, son score est légal au <strong>minimum</strong> des score fils<br>\n",
    "<br>\n",
    "⚠️ Ne pas confondre <strong>heuristique</strong> et <strong>score</strong>. Il ne sont égaux que sur les feuilles de l'arbre (ou à la profondeur maximale).<br>\n"
   ]
  },
  {
   "cell_type": "markdown",
   "id": "2cc092b4",
   "metadata": {},
   "source": [
    "### <span style=\"text-decoration: underline;color:green;\">2. Etudes de situations :</span> ###\n",
    "#### <span style=\"text-decoration: underline;color:blue;\">a. Situation n°1 :</span> ####\n",
    "Considérons l'arbre des coups suivants :<br>\n",
    "<img src=\"mes_images/situation_1.png\"><br>\n",
    "On a indiqué le score de chaque noeud feuille (cas de base) à l'aide d'une heuristique.<br>\n"
   ]
  },
  {
   "cell_type": "code",
   "execution_count": null,
   "id": "105ee4a4",
   "metadata": {},
   "outputs": [],
   "source": [
    "question.profondeur_max_1()"
   ]
  },
  {
   "cell_type": "code",
   "execution_count": null,
   "id": "4c95c5fd",
   "metadata": {},
   "outputs": [],
   "source": [
    "question.score_1()"
   ]
  },
  {
   "cell_type": "markdown",
   "id": "6719ca52",
   "metadata": {},
   "source": [
    "#### <span style=\"text-decoration: underline;color:blue;\">b. Situation n°2 :</span> ####\n",
    "Considérons l'arbre des coups suivants :<br>\n",
    "![alt text](mes_images/situation_2.png)<br>\n"
   ]
  },
  {
   "cell_type": "code",
   "execution_count": null,
   "id": "db69417b",
   "metadata": {},
   "outputs": [],
   "source": [
    "question.profondeur_max_2()"
   ]
  },
  {
   "cell_type": "code",
   "execution_count": null,
   "id": "8e1f0eec",
   "metadata": {},
   "outputs": [],
   "source": [
    "question.score_2()"
   ]
  },
  {
   "cell_type": "code",
   "execution_count": null,
   "id": "e83aa26e",
   "metadata": {},
   "outputs": [],
   "source": [
    "qcm.parcours()"
   ]
  },
  {
   "cell_type": "markdown",
   "id": "ff42b1f6",
   "metadata": {},
   "source": [
    "### <span style=\"text-decoration: underline;color:green;\">3. Algorithme:</span> ###\n",
    "Voici, dans le langage de la POO,  l'algorithme du MINIMAX qui permet de coder la méthode <span style=\"font-family:Courier New;font-size: 100%;\">remonter&#95;score</span> depuis les noeuds enfants :<br>\n",
    "<br>\n",
    "<code>méthode remonter\\_score :<br>&nbsp;&nbsp;&nbsp;&nbsp;si noeud est une feuille ou de profondeur maximale :<br>&nbsp;&nbsp;&nbsp;&nbsp;&nbsp;&nbsp;&nbsp;&nbsp;score\\_noeud =  son heuristique<br>&nbsp;&nbsp;&nbsp;&nbsp;sinon:<br>&nbsp;&nbsp;&nbsp;&nbsp;&nbsp;&nbsp;&nbsp;&nbsp;si noeud est attaquant:<br>&nbsp;&nbsp;&nbsp;&nbsp;&nbsp;&nbsp;&nbsp;&nbsp;&nbsp;&nbsp;&nbsp;&nbsp;score\\_noeud = - infini <br>&nbsp;&nbsp;&nbsp;&nbsp;&nbsp;&nbsp;&nbsp;&nbsp;&nbsp;&nbsp;&nbsp;&nbsp;pour chaque fils:<br>&nbsp;&nbsp;&nbsp;&nbsp;&nbsp;&nbsp;&nbsp;&nbsp;&nbsp;&nbsp;&nbsp;&nbsp;&nbsp;&nbsp;&nbsp;&nbsp;score\\_fils = fils.remonter\\_score()<br>&nbsp;&nbsp;&nbsp;&nbsp;&nbsp;&nbsp;&nbsp;&nbsp;&nbsp;&nbsp;&nbsp;&nbsp;&nbsp;&nbsp;&nbsp;&nbsp;score\\_noeud = max(score\\_noeud, score\\_fils)<br>&nbsp;&nbsp;&nbsp;&nbsp;&nbsp;&nbsp;&nbsp;&nbsp;sinon: \\# noeud est défenseur<br>&nbsp;&nbsp;&nbsp;&nbsp;&nbsp;&nbsp;&nbsp;&nbsp;&nbsp;&nbsp;&nbsp;&nbsp;score\\_noeud = + infini <br>&nbsp;&nbsp;&nbsp;&nbsp;&nbsp;&nbsp;&nbsp;&nbsp;&nbsp;&nbsp;&nbsp;&nbsp;pour chaque fils:<br>&nbsp;&nbsp;&nbsp;&nbsp;&nbsp;&nbsp;&nbsp;&nbsp;&nbsp;&nbsp;&nbsp;&nbsp;&nbsp;&nbsp;&nbsp;&nbsp;score\\_fils = fils.remonter\\_score()<br>&nbsp;&nbsp;&nbsp;&nbsp;&nbsp;&nbsp;&nbsp;&nbsp;&nbsp;&nbsp;&nbsp;&nbsp;&nbsp;&nbsp;&nbsp;&nbsp;score\\_noeud = min(score\\_noeud, score\\_fils)<br>&nbsp;&nbsp;&nbsp;&nbsp;renvoyer score\\_noeud<br></code><br>\n",
    "<span style=\"text-decoration: underline;font-style: italic;\">Remarque :</span><br>\n",
    "Il sera intéressant de créer un attribut <span style=\"font-family:Courier New;font-size: 100%;\">score</span> lors de l'implémentation pour converver le score de chaque noeud.<br>\n"
   ]
  },
  {
   "cell_type": "markdown",
   "id": "bbae94fe",
   "metadata": {},
   "source": [
    "## <span style=\"text-decoration: underline;color:red;\">III. Application au puissance 4 :</span> ##\n",
    "### <span style=\"text-decoration: underline;color:green;\">1. Les fonctions nécessaires :</span> ###\n",
    "COPIER-COLLEZ le code des fonctions <span style=\"font-family:Courier New;font-size: 100%;\">grille&#95;vierge, grille&#95;complete, hauteur, jouer</span> et <span style=\"font-family:Courier New;font-size: 100%;\">heuristique</span> codées dans le notebook précédent.<br>\n"
   ]
  },
  {
   "cell_type": "code",
   "execution_count": null,
   "id": "f2a46e3a",
   "metadata": {},
   "outputs": [],
   "source": [
    "# Code des fonctions nécessaires au jeu"
   ]
  },
  {
   "cell_type": "markdown",
   "id": "181e432f",
   "metadata": {},
   "source": [
    "### <span style=\"text-decoration: underline;color:green;\">2. La classe <span style=\"font-family:Courier New;font-size: 100%;\">Noeud</span> :</span> ###\n",
    "Un noeud est caractérisé par les <strong>attributs</strong> suivants, <strong>fournis au constructeur</strong> :<br>\n",
    "&nbsp;&nbsp;&nbsp;&nbsp;→ l'entier <span style=\"font-family:Courier New;font-size: 100%;\">pion&#95;ordi = 1 ou 2</span>, afin de pouvoir calculer l'heuristique dans chaque situation<br>\n",
    "&nbsp;&nbsp;&nbsp;&nbsp;→ le booléen <span style=\"font-family:Courier New;font-size: 100%;\">attaquant</span> : <br>\n",
    "&nbsp;&nbsp;&nbsp;&nbsp;&nbsp;&nbsp;&nbsp;&nbsp;&nbsp;&nbsp;&nbsp;&nbsp;si <span style=\"font-family:Courier New;font-size: 100%;\">attaquant == True</span>, c'est un noeud <strong>attaquant</strong>, donc un noeud où l'ordinateur doit jouer.<br>\n",
    "&nbsp;&nbsp;&nbsp;&nbsp;&nbsp;&nbsp;&nbsp;&nbsp;&nbsp;&nbsp;&nbsp;&nbsp;si <span style=\"font-family:Courier New;font-size: 100%;\">attaquant == False</span>, c'est un noeud <strong>défenseur</strong>, donc une situation où l'humain est simulé<br>\n",
    "&nbsp;&nbsp;&nbsp;&nbsp;→ la liste des colonnes <br>\n",
    "&nbsp;&nbsp;&nbsp;&nbsp;→ sa profondeur (0 par défaut pour le noeud racine)<br>\n",
    "&nbsp;&nbsp;&nbsp;&nbsp;→ le dernier coup ayant permis d'arriver à lui (<span style=\"font-family:Courier New;font-size: 100%;\">None</span> par défaut pour le noeud racine)<br>\n",
    "<br>\n",
    "Ce à quoi on ajoute un attribut <span style=\"font-family:Courier New;font-size: 100%;\">fils</span> :  une liste de fils, initialement vide.<br>\n"
   ]
  },
  {
   "cell_type": "code",
   "execution_count": null,
   "id": "938f1d9a",
   "metadata": {},
   "outputs": [],
   "source": [
    "class Noeud:\n",
    "\n",
    "    def __init__(self, pion_ordi, lst_colonnes, attaquant = True , profondeur = 0, dernier_coup = None): \n",
    "        self.pion_ordi = pion_ordi # fixé en début de partie. Permet de calculer l'heuristique\n",
    "        self.colonnes = lst_colonnes # état du jeu\n",
    "        self.attaquant = attaquant # la racine est un noeud attaquant par défaut. Ses fils défenseurs, etc.\n",
    "        self.profondeur = profondeur\n",
    "        self.dernier_coup = dernier_coup\n",
    "        # attributs ajoutés :\n",
    "        self.pion_humain = 3 - self.pion_ordi\n",
    "        self.pion_a_placer = self.pion_ordi if self.attaquant else self.pion_humain\n",
    "        self.fils = []\n",
    "\n",
    "    def est_feuille(self, profondeur_max):\n",
    "        '''renvoie True s'il y a un vainqueur, ou si la grille est complète ou si le noeud est de profondeur profondeur_max'''\n",
    "        pass\n",
    "\n",
    "    def creer_fils(self, x, y):\n",
    "        '''Crée un fils en jouant en colonne x hauteur y'''\n",
    "        pass\n",
    "\n",
    "    def remonter_score(self, profondeur_max):\n",
    "        '''remonte les scores selon l'algorithme du minimax avec une profondeur_max d'exploration'''\n",
    "        pass\n",
    "        \n",
    "        return self.score\n",
    "            \n",
    "    def meilleur_coup(self, profondeur_max):\n",
    "        '''renvoie la colonne x permettant d'obtenir le meilleur score'''\n",
    "        pass"
   ]
  },
  {
   "cell_type": "markdown",
   "id": "54939423",
   "metadata": {},
   "source": [
    "### <span style=\"text-decoration: underline;color:green;\">3. Méthode <span style=\"font-family:Courier New;font-size: 100%;\">est&#95;feuille</span> :</span> ###\n",
    "Complétez la méthode <span style=\"font-family:Courier New;font-size: 100%;\">est&#95;feuille(self, profondeur&#95;max)</span>.<br>\n",
    "On considèrera qu'un noeud est une feuille si l'heuristique vaut $\\pm\\infty$ <strong>ou</strong> si la profondeur du noeud est égal à <span style=\"font-family:Courier New;font-size: 100%;\">profondeur&#95;max</span>.<br>\n"
   ]
  },
  {
   "cell_type": "code",
   "execution_count": null,
   "id": "0888c388",
   "metadata": {},
   "outputs": [],
   "source": [
    "solution.est_feuille()"
   ]
  },
  {
   "cell_type": "markdown",
   "id": "6811c56a",
   "metadata": {},
   "source": [
    "### <span style=\"text-decoration: underline;color:green;\">4. Méthode <span style=\"font-family:Courier New;font-size: 100%;\">creer&#95;fils</span> :</span> ###\n",
    "Complétez la méthode <span style=\"font-family:Courier New;font-size: 100%;\">est&#95;creer&#95;fils(self, x, y)</span>.<br>\n",
    "Cette méthode <strong>renvoie</strong> et ajoute à la liste <span style=\"font-family:Courier New;font-size: 100%;\">self.fils</span> l'instance <span style=\"font-family:Courier New;font-size: 100%;\">MiniMax</span> obtenue en jouant en colonne d'index <span style=\"font-family:Courier New;font-size: 100%;\">x</span> hauteur <span style=\"font-family:Courier New;font-size: 100%;\">y</span>.<br>\n"
   ]
  },
  {
   "cell_type": "code",
   "execution_count": null,
   "id": "a81ce26a",
   "metadata": {},
   "outputs": [],
   "source": [
    "# test de la méthode creer_fils :\n",
    "from copy import deepcopy\n",
    "lst_col = grille_vierge()\n",
    "racine = Noeud(1, lst_col) # le noeud racine est attaquant.\n",
    "for x in range(7):\n",
    "    fils = racine.creer_fils(x, 0)\n",
    "    afficher(racine.fils[x].colonnes)\n",
    "    print(\"attaquant:\", fils.attaquant)"
   ]
  },
  {
   "cell_type": "code",
   "execution_count": null,
   "id": "7b499c39",
   "metadata": {},
   "outputs": [],
   "source": [
    "solution.creer_fils()"
   ]
  },
  {
   "cell_type": "markdown",
   "id": "c68c0aaf",
   "metadata": {},
   "source": [
    "### <span style=\"text-decoration: underline;color:green;\">5. Méthode <span style=\"font-family:Courier New;font-size: 100%;\">remonter&#95;score</span>:</span> ###\n",
    "Complétez la méthode <span style=\"font-family:Courier New;font-size: 100%;\">remonter&#95;score(self, profondeur&#95;max)</span>.<br>\n",
    "Cette méthode :<br>\n",
    "&nbsp;&nbsp;&nbsp;&nbsp;→ renvoie le score du noeud en appliquant l'algorithme du minimax<br>\n",
    "&nbsp;&nbsp;&nbsp;&nbsp;→ ajoute un attribut <span style=\"font-family:Courier New;font-size: 100%;\">score</span> au noeud égal à cette valeur<br>\n"
   ]
  },
  {
   "cell_type": "code",
   "execution_count": null,
   "id": "1963e37f",
   "metadata": {},
   "outputs": [],
   "source": [
    "lst_col = grille_vierge()\n",
    "racine = Noeud(1, lst_col) # la racine est toujours un noeud attaquant\n",
    "racine.remonter_score(2)\n",
    "num_fils = 1\n",
    "for fils in racine.fils:\n",
    "    print(\"le score du fils n°\", num_fils, \"est :\", fils.score)\n",
    "    afficher(fils.colonnes)\n",
    "    print(\"    obtenu en MINIMISANT les petits fils suivants :\")\n",
    "    num_petit_fils = 1\n",
    "    for petit_fils in fils.fils:\n",
    "        print(\"    score petit_fils n°\", num_petit_fils, \":\", petit_fils.score)\n",
    "        afficher(petit_fils.colonnes)\n",
    "        num_petit_fils += 1\n",
    "    print(\"#\" * 50)\n",
    "    num_fils += 1\n",
    "print(\"\\nVoici la liste des scores fils de la racine :\", [fils.score for fils in racine.fils])\n",
    "print(\"La racine est un noeud attaquant qui les MAXIMISE, pour obtenir un score à un profondeur deux de :\", racine.score)"
   ]
  },
  {
   "cell_type": "code",
   "execution_count": null,
   "id": "3495cdf5",
   "metadata": {},
   "outputs": [],
   "source": [
    "assert racine.remonter_score(1) == 7, \"si ordi commence à jouer, score max de 7 après un coup\"\n",
    "assert racine.remonter_score(2) == -3, \"si ordi commence à jouer, score max de -3 après deux coup\"\n",
    "assert racine.remonter_score(3) == 9, \"si ordi commence à jouer, score max de 9 après trois coup\"\n",
    "assert racine.remonter_score(4) == -2, \"si ordi commence à jouer, score max de -2 après quatre coup\""
   ]
  },
  {
   "cell_type": "code",
   "execution_count": null,
   "id": "c83aadd9",
   "metadata": {},
   "outputs": [],
   "source": [
    "solution.remonter_score()"
   ]
  },
  {
   "cell_type": "markdown",
   "id": "94e86afb",
   "metadata": {},
   "source": [
    "### <span style=\"text-decoration: underline;color:green;\">6. Méthode <span style=\"font-family:Courier New;font-size: 100%;\">meilleur&#95;coup</span> :</span> ###\n",
    "Complétez la méthode <span style=\"font-family:Courier New;font-size: 100%;\">meilleur&#95;coup(self, profondeur&#95;max)</span>.<br>\n",
    "Le principe est simple!<br>\n",
    "On remonte les scores à la profondeur <span style=\"font-family:Courier New;font-size: 100%;\">profondeur&#95;max</span><br>\n",
    "On sait que le score du noeud père est égal, soit au maximum, soit au minimum de ses noeuds fils.<br>\n",
    "En bouclant sur les noeuds fils, on renvoie alors le dernier coup du premier fils qui a un score égal à celui de son père!<br>\n",
    "Cette méthode renvoie le la colonne <span style=\"font-family:Courier New;font-size: 100%;\">x</span> qui correspond à la colonne où doit jouer l'ordinateur.<br>\n",
    "<br>\n",
    "⚠️ Le résultats ci-dessous dépendent évidemment de l'ordre dans lequel on parcourt les fils (de la colonne 0 à la colonne 6 dans notre cas)<br>\n"
   ]
  },
  {
   "cell_type": "code",
   "execution_count": null,
   "id": "12693176",
   "metadata": {},
   "outputs": [],
   "source": [
    "lst_col = grille_vierge()\n",
    "racine = Noeud(1, lst_col)\n",
    "assert racine.meilleur_coup(1) == 3, \"A une profondeur de 1, le meilleur est en colonne 3\"\n",
    "assert racine.meilleur_coup(2) == 1, \"A une profondeur de 2, le meilleur est en colonne 1\"\n",
    "assert racine.meilleur_coup(3) == 3, \"A une profondeur de 3, le meilleur est en colonne 3\"\n",
    "assert racine.meilleur_coup(4) == 3, \"A une profondeur de 2, le meilleur est en colonne 1\""
   ]
  },
  {
   "cell_type": "code",
   "execution_count": null,
   "id": "c5856c47",
   "metadata": {},
   "outputs": [],
   "source": [
    "solution.Noeud()"
   ]
  },
  {
   "cell_type": "markdown",
   "id": "2dcf376e",
   "metadata": {},
   "source": [
    "## <span style=\"text-decoration: underline;color:red;\">IV. Match homme-IA:</span> ##\n",
    "La fonction <span style=\"font-family:Courier New;font-size: 100%;\">match</span> ci-dessous permet d'engager un match contre l'ordinateur.<br>\n",
    "Testez votre IA!!!<br>\n"
   ]
  },
  {
   "cell_type": "code",
   "execution_count": null,
   "id": "68df4b49",
   "metadata": {},
   "outputs": [],
   "source": [
    "# Match homme - IA :\n",
    "# Match homme - IA :\n",
    "def match(prof_max, affichage = 1): # affichage = 1 pour pion de couleur ou 2 pour croix et rond\n",
    "    pion_ordi = int(input(\"Qui commence? (Ordi : 1, humain : 2) :\"))\n",
    "    pion_humain = 3 - pion_ordi\n",
    "    tour_humain = True\n",
    "    if pion_ordi == 1:\n",
    "        tour_humain = False\n",
    "    lst_col = grille_vierge()\n",
    "    num_joueur = 1\n",
    "    dic_joueurs = {pion_ordi : \"Ordinateur\", pion_humain : \"Humain\"}\n",
    "    x = None\n",
    "    while True:\n",
    "        effacer()\n",
    "        afficher(lst_col, affichage)\n",
    "        if x is not None and num_joueur == pion_humain: # on affiche toujours ou vient de jouer Ordi\n",
    "            print(dic_joueurs[pion_ordi], \"a joué en colonne\", x)\n",
    "        if num_joueur == pion_humain: # on interroge humain \n",
    "            while True: # on demande un coup valide à l'humain\n",
    "                x = input(\"En quelle colonne souhaitez-vous jouer?\")\n",
    "                if x == \"q\":# On quitte le jeu\n",
    "                    return\n",
    "                try: # On détecte les choix invalides (colonne complète, invalide ou erreur de saisie)\n",
    "                    x = int(x)\n",
    "                    y = hauteur(x, lst_col)\n",
    "                    if y != -1:\n",
    "                        break\n",
    "                except:\n",
    "                    print(\"choix invalide\")\n",
    "            # on actualise la grille :\n",
    "            lst_col = jouer(x, y, pion_humain, lst_col)\n",
    "            \n",
    "        else:\n",
    "            # ordi joue\n",
    "            racine = Noeud(pion_ordi, lst_col) # la racine est un noeud attaquant par défaut\n",
    "            x = racine.meilleur_coup(prof_max)\n",
    "            y = hauteur(x, lst_col)\n",
    "            lst_col = jouer(x, y, pion_ordi, lst_col)\n",
    "        # vainqueur ou nulle?\n",
    "        if abs(heuristique(lst_col, pion_ordi)) == float(\"inf\"):\n",
    "            effacer()\n",
    "            afficher(lst_col, affichage)\n",
    "            print(dic_joueurs[num_joueur], \"gagne!\")\n",
    "            return\n",
    "        if grille_complete(lst_col):\n",
    "            effacer()\n",
    "            afficher(lst_col, affichage)\n",
    "            print(\"match nul!\")\n",
    "            return\n",
    "        num_joueur = 3 - num_joueur        \n",
    "        \n",
    "match(4) # match avec une profondeur max de 4"
   ]
  }
 ],
 "metadata": {},
 "nbformat": 4,
 "nbformat_minor": 5
}
