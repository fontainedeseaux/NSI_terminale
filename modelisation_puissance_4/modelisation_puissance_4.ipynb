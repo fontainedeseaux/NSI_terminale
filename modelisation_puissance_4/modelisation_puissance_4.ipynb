{
 "cells": [
  {
   "cell_type": "code",
   "execution_count": null,
   "id": "3cd7ba16",
   "metadata": {},
   "outputs": [],
   "source": [
    "from outils import* # Lancer la cellule pour importer les outils nécessaires au notebook.\n",
    "from complements import* # import de fonctions nécessaires au jeu"
   ]
  },
  {
   "cell_type": "markdown",
   "id": "a07e3aba",
   "metadata": {},
   "source": [
    "# <div style = \"text-align : center;\"><span style=\"border: 2px solid;padding:6px;color:dodgerblue;\">IA puissance 4 partie I</span></div> #\n",
    "\n",
    "Le 11 mai 1997, <i>Gary Kasparov</i> était battu aux échecs par <i>Deep Blue</i>, une intelligence artificielle créée par IBM...<br>\n",
    "<img src = \"mes_images/Kasparov.jpg\"><br>\n",
    "<br>\n",
    "L'objectif de cette série de notebooks est de présenter le principe de l'algorithme qui a été utilisé : le <i>MINIMAX</i> (ou <i>MAXIMIN</i>)<br>\n",
    "Nous l'appliquerons ensuite pour créer une IA qui puisse jouer au puissance 4.<br>\n",
    "\n",
    "## <span style=\"text-decoration: underline;color:red;\">I. Modélisation du jeu :</span> ##\n",
    "Nous jouerons avec des pions blancs (codés 1) et des pions noirs (codés 2).<br>\n",
    "Le puissance 4 est composé :<br>\n",
    "&nbsp;&nbsp;&nbsp;&nbsp;→  de 7 colonnes indexées de <span style=\"font-family:Courier New;font-size: 100%;\">x = 0</span> à <span style=\"font-family:Courier New;font-size: 100%;\">x = 6</span> <br>\n",
    "&nbsp;&nbsp;&nbsp;&nbsp;→  qui contiennent chacune 6 emplacements dont la hauteur varie de <span style=\"font-family:Courier New;font-size: 100%;\">y = 0</span> à <span style=\"font-family:Courier New;font-size: 100%;\">y = 5</span>.<br>\n",
    "<br>\n",
    "La configuration suivante :<br>\n",
    "<img src = \"mes_images/configuration.png\"><br>\n",
    "est alors modélisée par :<br>\n"
   ]
  },
  {
   "cell_type": "code",
   "execution_count": null,
   "id": "5c31e491",
   "metadata": {},
   "outputs": [],
   "source": [
    "lst_col = [[0]*6, [1] + 5*[0], [2, 1] + 4*[0], [2, 2, 1, 2, 0, 0], [0] *6, [1] + [0]*5, [0]*6]"
   ]
  },
  {
   "cell_type": "markdown",
   "id": "906f6159",
   "metadata": {},
   "source": [
    "● Le module <span style=\"font-family:Courier New;font-size: 100%;\">complements</span> permet d'importer la fonction <span style=\"font-family:Courier New;font-size: 100%;\">afficher(lst&#95;col)</span> afin de visualiser l'état du jeu à chaque instant.<br>\n",
    "&nbsp;&nbsp;&nbsp;Le joueur 1 a pour symbole '⭕' et le joueur 2 '⚫'<br>\n",
    "<br>\n",
    "⚠️ Si l'affichage ne se fait pas correctement, vous pouvez opter pour la deuxième option d'affichage <span style=\"font-family:Courier New;font-size: 100%;\">afficher(lst&#95;col, 2)</span>.<br>\n",
    "&nbsp;&nbsp;&nbsp;&nbsp;&nbsp;&nbsp;Le joueur 1 a alors pour symbole <span style=\"font-family:Courier New;font-size: 100%;\">x</span> et le joueur 2 <span style=\"font-family:Courier New;font-size: 100%;\">o</span><br>\n"
   ]
  },
  {
   "cell_type": "code",
   "execution_count": null,
   "id": "40fc29e1",
   "metadata": {},
   "outputs": [],
   "source": [
    "afficher(lst_col)\n",
    "afficher(lst_col, 2)"
   ]
  },
  {
   "cell_type": "markdown",
   "id": "0162588d",
   "metadata": {},
   "source": [
    "● Chaque case est donc identifiée par ses coordonnées <span style=\"font-family:Courier New;font-size: 100%;\">(x, y)</span> où :<br>\n",
    "&nbsp;&nbsp;&nbsp;&nbsp;→  <span style=\"font-family:Courier New;font-size: 100%;\">x</span> est l'index de la colonne qui la contient<br>\n",
    "&nbsp;&nbsp;&nbsp;&nbsp;→  <span style=\"font-family:Courier New;font-size: 100%;\">y</span> l'index de la case dans cette colonne<br>\n",
    "<img src = \"mes_images/identifiee.png\"><br>\n"
   ]
  },
  {
   "cell_type": "code",
   "execution_count": null,
   "id": "4f520609",
   "metadata": {},
   "outputs": [],
   "source": [
    "question.nb_alignements_possibles()"
   ]
  },
  {
   "cell_type": "markdown",
   "id": "c893ce5c",
   "metadata": {},
   "source": [
    "● la liste <span style=\"font-family:Courier New;font-size: 100%;\">ALIGNEMENTS</span>, importée du module <span style=\"font-family:Courier New;font-size: 100%;\">complements</span> correspond à la liste de ces 69 alignements possibles.<br>\n"
   ]
  },
  {
   "cell_type": "code",
   "execution_count": null,
   "id": "b29a8663",
   "metadata": {},
   "outputs": [],
   "source": [
    "ALIGNEMENTS"
   ]
  },
  {
   "cell_type": "markdown",
   "id": "142d39cc",
   "metadata": {},
   "source": [
    "● Chaque alignement de cette liste est un <span style=\"font-family:Courier New;font-size: 100%;\">tuple</span> composé de 4 coordonnées <span style=\"font-family:Courier New;font-size: 100%;\">(x, y) </span> de cases qui se touchent.<br>\n",
    "Par exemple, l'alignement <span style=\"font-family:Courier New;font-size: 100%;\">((2, 1), (3, 2), (4, 3), (5, 4))</span> correspond à :<br>\n",
    "<img src = \"mes_images/exemple.png\">\n",
    "## <span style=\"text-decoration: underline;color:red;\">II. Codage des fonctions de base :</span> ##\n",
    "### <span style=\"text-decoration: underline;color:green;\">1. La fonction <span style=\"font-family:Courier New;font-size: 100%;\">grille&#95;vierge</span> :</span> ###\n",
    "A l'aide d'une <strong>compréhension de liste</strong>, codez la fonction <span style=\"font-family:Courier New;font-size: 100%;\">grille&#95;vierge()</span> qui renvoie la liste suivante :<br>\n",
    "<code>[[0, 0, 0, 0, 0, 0],<br>&nbsp;[0, 0, 0, 0, 0, 0],<br>&nbsp;[0, 0, 0, 0, 0, 0],<br>&nbsp;[0, 0, 0, 0, 0, 0],<br>&nbsp;[0, 0, 0, 0, 0, 0],<br>&nbsp;[0, 0, 0, 0, 0, 0],<br>&nbsp;[0, 0, 0, 0, 0, 0]]<br></code>"
   ]
  },
  {
   "cell_type": "code",
   "execution_count": null,
   "id": "0ac10606",
   "metadata": {},
   "outputs": [],
   "source": [
    "def grille_vierge():\n",
    "    pass # une colonne vide répétée 7 fois\n",
    "\n",
    "afficher(grille_vierge())"
   ]
  },
  {
   "cell_type": "code",
   "execution_count": null,
   "id": "ffba18ed",
   "metadata": {},
   "outputs": [],
   "source": [
    "solution.grille_vierge()"
   ]
  },
  {
   "cell_type": "markdown",
   "id": "2ede293e",
   "metadata": {},
   "source": [
    "### <span style=\"text-decoration: underline;color:green;\">2. La fonction <span style=\"font-family:Courier New;font-size: 100%;\">grille&#95;complete</span> :</span> ###\n",
    "Codez la fonction <span style=\"font-family:Courier New;font-size: 100%;\">grille&#95;complete(lst&#95;col)</span> qui renvoie <span style=\"font-family:Courier New;font-size: 100%;\">True</span> si la grille est complète et <span style=\"font-family:Courier New;font-size: 100%;\">False</span> sinon<br>\n"
   ]
  },
  {
   "cell_type": "code",
   "execution_count": null,
   "id": "88326384",
   "metadata": {},
   "outputs": [],
   "source": [
    "def grille_complete(lst_col):\n",
    "    pass\n",
    "\n",
    "lst_col =  [[0]*6, [1] + 5*[0], [2, 1] + 4*[0], [2, 2, 1, 2, 0, 0], [0] *6, [1] + [0]*5, [0]*6]\n",
    "afficher(lst_col)\n",
    "assert grille_complete(lst_col) == False, \"erreur : grille 1 non complète\"\n",
    "\n",
    "lst_col =  [[1,2,1,2,2,1]*6, [1,2,2,1,2,2], [2,1,1,2,1,2], [1,1,1,2,1,2], [2,1,1,2,2,1], [1,2,2,1,1,1], [2,1,1,2,2,2]]\n",
    "afficher(lst_col)\n",
    "assert grille_complete(lst_col) == True, \"erreur : grille 2 complète\""
   ]
  },
  {
   "cell_type": "code",
   "execution_count": null,
   "id": "245ee019",
   "metadata": {},
   "outputs": [],
   "source": [
    "solution.grille_complete()"
   ]
  },
  {
   "cell_type": "markdown",
   "id": "9d53caa9",
   "metadata": {},
   "source": [
    "### <span style=\"text-decoration: underline;color:green;\">3. La fonction <span style=\"font-family:Courier New;font-size: 100%;\">hauteur</span> :</span> ###\n",
    "Codez la fonction <span style=\"font-family:Courier New;font-size: 100%;\">hauteur(x, lst&#95;col)</span>:<br>\n",
    "Cette fonction renvoie la hauteur à laquelle on peut jouer le prochain pion dans la colonne d'index <span style=\"font-family:Courier New;font-size: 100%;\">x</span>. L'état des colonnées étant <span style=\"font-family:Courier New;font-size: 100%;\">lst&#95;col</span>.<br>\n",
    "La fonction renvoie <span style=\"font-family:Courier New;font-size: 100%;\">-1</span> si la colonne d'index <span style=\"font-family:Courier New;font-size: 100%;\">x</span> est pleine.<br>\n"
   ]
  },
  {
   "cell_type": "code",
   "execution_count": null,
   "id": "28ad2226",
   "metadata": {},
   "outputs": [],
   "source": [
    "def hauteur(x, lst_col):\n",
    "    \"\"\"renvoie la hauteur à laquelle on peut jouer le prochain pion dans la colonne d'index x.\n",
    "    -1 si colonne pleine\"\"\"\n",
    "    pass\n",
    "\n",
    "lst_col =  [[1, 2, 1] + 3*[0], [1] + 5*[0], [2, 1] + 4*[0], [2, 2, 1, 2, 1, 2], [1, 1, 2, 2, 0, 0], [1] + 5*[0], [1, 2] +4*[0]]\n",
    "afficher(lst_col)\n",
    "assert hauteur(0, lst_col) == 3, \"erreur colonne 0\"\n",
    "assert hauteur(1, lst_col) == 1, \"erreur colonne 1\"\n",
    "assert hauteur(2, lst_col) == 2, \"erreur colonne 2\"\n",
    "assert hauteur(3, lst_col) == -1, \"erreur colonne 3\"\n",
    "assert hauteur(4, lst_col) == 4, \"erreur colonne 4\"\n",
    "assert hauteur(5, lst_col) == 1, \"erreur colonne 5\"\n",
    "assert hauteur(6, lst_col) == 2, \"erreur colonne 6\""
   ]
  },
  {
   "cell_type": "code",
   "execution_count": null,
   "id": "c5281adb",
   "metadata": {},
   "outputs": [],
   "source": [
    "solution.hauteur()"
   ]
  },
  {
   "cell_type": "markdown",
   "id": "5d0d5dd8",
   "metadata": {},
   "source": [
    "### <span style=\"text-decoration: underline;color:green;\">3. La fonction <span style=\"font-family:Courier New;font-size: 100%;\">jouer</span> :</span> ###\n",
    "● Lorsqu'un joueur joue en colonne d'index <span style=\"font-family:Courier New;font-size: 100%;\">x</span> à la hauteur <span style=\"font-family:Courier New;font-size: 100%;\">y</span>, on doit remplacer le <span style=\"font-family:Courier New;font-size: 100%;\">0</span> par un <span style=\"font-family:Courier New;font-size: 100%;\">1</span> ou un <span style=\"font-family:Courier New;font-size: 100%;\">2</span> selon <span style=\"font-family:Courier New;font-size: 100%;\">num&#95;joueur</span>.<br>\n",
    "<br>\n",
    "● Codez la fonction <span style=\"font-family:Courier New;font-size: 100%;\">jouer(x, y, num&#95;joueur, lst&#95;col)</span> qui doit <strong>renvoyer</strong> la nouvelle liste des colonnes <strong>sans modifier</strong> le paramètre <span style=\"font-family:Courier New;font-size: 100%;\">lst&#95;col</span>.<br>\n",
    "<br>\n",
    "● Le paramètre <span style=\"font-family:Courier New;font-size: 100%;\">num&#95;joueur</span> vaut <span style=\"font-family:Courier New;font-size: 100%;\">1</span> ou <span style=\"font-family:Courier New;font-size: 100%;\">2</span> selon le numéro du joueur qui joue.<br>\n",
    "&nbsp;&nbsp;&nbsp;On rappelle que la fonction <span style=\"font-family:Courier New;font-size: 100%;\">copy</span> du module <span style=\"font-family:Courier New;font-size: 100%;\">deepcopy</span> permet de réaliser une copie <strong>indépendante</strong> d'une liste, d'un dictionnaire ou plus généralement de tout objet.<br>\n",
    "<br>\n",
    "&nbsp;&nbsp;&nbsp;Il suffit d'écrire :<br>\n",
    "&nbsp;&nbsp;&nbsp;<span style=\"font-family:Courier New;font-size: 100%;\">list&#95;2 = deepcopy(liste&#95;1)</span><br>\n"
   ]
  },
  {
   "cell_type": "code",
   "execution_count": null,
   "id": "bd02e4b9",
   "metadata": {},
   "outputs": [],
   "source": [
    "from copy import deepcopy\n",
    "\n",
    "def jouer(x, y, num_joueur, lst_col):\n",
    "    '''renvoie la liste des colonnes après que num_joueur ait joué en colonne x'''\n",
    "    pass\n",
    "\n",
    "lst_col = grille_vierge()\n",
    "lst_col = jouer(3, 0, 1, lst_col)\n",
    "lst_col = jouer(2, 0, 2, lst_col)\n",
    "lst_col = jouer(4, 0, 1, lst_col)\n",
    "lst_col = jouer(2, 1, 2, lst_col)\n",
    "afficher(lst_col)\n",
    "assert lst_col == [[0, 0, 0, 0, 0, 0], [0, 0, 0, 0, 0, 0], [2, 2, 0, 0, 0, 0], [1, 0, 0, 0, 0, 0], [1, 0, 0, 0, 0, 0], [0, 0, 0, 0, 0, 0], [0, 0, 0, 0, 0, 0]], \"erreur jouer\""
   ]
  },
  {
   "cell_type": "code",
   "execution_count": null,
   "id": "9d02db94",
   "metadata": {},
   "outputs": [],
   "source": [
    "solution.jouer()"
   ]
  },
  {
   "cell_type": "markdown",
   "id": "80286800",
   "metadata": {},
   "source": [
    "## <span style=\"text-decoration: underline;color:red;\">III. Heuristique :</span> ##\n",
    "● Lorsqu'on souhaite faire jouer un ordinateur, un des rôles essentiel du programmeur est d'indiquer <strong>à quel point une situation est bonne pour lui</strong>.<br>\n",
    "&nbsp;&nbsp;&nbsp;C'est précisemment le rôle de <strong>l'heuristique</strong>.<br>\n",
    "<br>\n",
    "● C'est donc <strong>du point de vue de l'ordinateur</strong> que nous allons définir l'heuristique.<br>\n",
    "&nbsp;&nbsp;&nbsp;Il est donc nécessaire de connaître le numéro du pion de l'ordinateur :<br>\n",
    "&nbsp;&nbsp;&nbsp;<span style=\"font-family:Courier New;font-size: 100%;\">pion&#95;ordi = 1</span> si l'ordinateur commence, et <span style=\"font-family:Courier New;font-size: 100%;\">pion&#95;ordi = 2</span> sinon.<br>\n",
    "<br><span style=\"border: 2px solid;padding:6px;\"><strong>Meilleure</strong> est l'heuristique, <strong>meilleure</strong> est la situation pour l'ordinateur.</span><br>\n",
    "<br>A l'inverse, moins bonne est l'heuristique, moins bonne est la situation pour l'ordinateur, donc meilleure pour le joueur (humain).<br>\n"
   ]
  },
  {
   "cell_type": "code",
   "execution_count": null,
   "id": "06e339ee",
   "metadata": {},
   "outputs": [],
   "source": [
    "qcm.heuristique()"
   ]
  },
  {
   "cell_type": "markdown",
   "id": "62229a77",
   "metadata": {},
   "source": [
    "● Pour la suite du notebook, nous allons définir l'heuristique ainsi :<br>\n",
    "&nbsp;&nbsp;&nbsp;&nbsp;→ si une série contient quatre fois <span style=\"font-family:Courier New;font-size: 100%;\">pion&#95;ordi</span>, elle renvoie $+\\infty$<br>\n",
    "&nbsp;&nbsp;&nbsp;&nbsp;→ si une série contient quatre fois le pion humain, elle renvoie $-\\infty$<br>\n",
    "&nbsp;&nbsp;&nbsp;&nbsp;→ Sinon, elle renvoie, en dénombrant parmi les 69 alignements : <br>\n",
    "<br>&nbsp;&nbsp;&nbsp;&nbsp;&nbsp;&nbsp;&nbsp;&nbsp;&nbsp;&nbsp;<span style=\"border: 2px solid;padding:6px;\">le nombre d'alignements encore possibles pour ordinateur - le nombre d'alignements encore possibles pour joueur humain</span><br>\n",
    "<br><br>\n",
    "Supposons que l'ordinateur (<span style=\"font-family:Courier New;font-size: 100%;\">x</span>) a commencé :<br>\n"
   ]
  },
  {
   "cell_type": "code",
   "execution_count": null,
   "id": "546ee9d1",
   "metadata": {},
   "outputs": [],
   "source": [
    "col = [6*[0], 6*[0], 6*[0], [1]+5*[0],[1]+5*[0], [2]+5*[0], 6*[0]]\n",
    "afficher(col)\n",
    "question.calcul_heuristique()"
   ]
  },
  {
   "cell_type": "code",
   "execution_count": null,
   "id": "b146defc",
   "metadata": {},
   "outputs": [],
   "source": [
    "qcm.pion_humain()"
   ]
  },
  {
   "cell_type": "markdown",
   "id": "bbab106e",
   "metadata": {},
   "source": [
    "● Codez la fonction <span style=\"font-family:Courier New;font-size: 100%;\">heuristique(lst&#95;col, pion&#95;ordi)</span>.<br>\n"
   ]
  },
  {
   "cell_type": "code",
   "execution_count": null,
   "id": "7acced5f",
   "metadata": {},
   "outputs": [],
   "source": [
    "def heuristique(lst_col, pion_ordi):\n",
    "    pass\n",
    "\n",
    "grille_1 =  [[1, 2, 1] + 3*[0], [1] + 5*[0], [2, 1] + 4*[0], [2, 2, 1, 2, 1, 2], [1, 1, 2, 2, 0, 0], [1] + 5*[0], [1, 2] +4*[0]]\n",
    "afficher(grille_1)\n",
    "assert heuristique(grille_1, 1) == -5, \"erreur heuristique grille 1 si ordi commence\"\n",
    "assert heuristique(grille_1, 2) == 5, \"erreur heuristique grille 1 si humain commence\"\n",
    "\n",
    "grille_2 =  [[2, 1, 2, 0, 0, 0], [2, 0, 0, 0, 0, 0], [1, 2, 0, 0, 0, 0], [1, 1, 2, 1, 2, 1], [2, 2, 1, 1, 1, 0], [2, 0, 0, 0, 0, 0], [2, 1, 0, 0, 0, 0]]\n",
    "afficher(grille_2)\n",
    "assert heuristique(grille_2, 1) == 8, \"erreur grille 2 si ordi commence\"\n",
    "assert heuristique(grille_2, 2) == -8, \"erreur grille 2 si humain commence\""
   ]
  },
  {
   "cell_type": "code",
   "execution_count": null,
   "id": "e48804e9",
   "metadata": {},
   "outputs": [],
   "source": [
    "solution.heuristique()"
   ]
  },
  {
   "cell_type": "markdown",
   "id": "2c28902d",
   "metadata": {},
   "source": [
    "● Nous avons fini la première partie de notre IA.<br>\n",
    "Reste maintenant à découvrir l'algorithme du minimax...<br>\n"
   ]
  }
 ],
 "metadata": {},
 "nbformat": 4,
 "nbformat_minor": 5
}
