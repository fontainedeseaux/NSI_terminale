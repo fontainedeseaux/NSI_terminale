{
 "cells": [
  {
   "cell_type": "code",
   "execution_count": null,
   "metadata": {},
   "outputs": [],
   "source": [
    "from outils import* # import des outils nécessaires au notebook"
   ]
  },
  {
   "cell_type": "markdown",
   "metadata": {},
   "source": [
    "# <div style = \"text-align : center;\"><span style=\"border: 2px solid;padding:6px;color:dodgerblue;\">Exercices sur la POO</span></div> #\n",
    "\n",
    "## <span style=\"text-decoration: underline;color:green;\">Exercice 1:</span> ##\n",
    "On considère le code suivant :<br>\n"
   ]
  },
  {
   "cell_type": "code",
   "execution_count": null,
   "metadata": {},
   "outputs": [],
   "source": [
    "class EtreVivant:\n",
    "    def __init__(self, nom, age):\n",
    "        self.nom = nom\n",
    "        self.age = age\n",
    "\n",
    "    def Veillir(self, duree):\n",
    "        self.age += duree\n",
    "\n",
    "moi = EtreVivant(\"Albert\", 51)\n",
    "mon_chien = EtreVivant(\"Rex\", 14)"
   ]
  },
  {
   "cell_type": "markdown",
   "metadata": {},
   "source": [
    "<img src=\"mes_images/maitre_chien.png\" style=\"float:left;\"> <br>\n",
    "<br>\n",
    "Répondez aux questions suivantes :<br>\n"
   ]
  },
  {
   "cell_type": "code",
   "execution_count": null,
   "metadata": {},
   "outputs": [],
   "source": [
    "question.init()"
   ]
  },
  {
   "cell_type": "code",
   "execution_count": null,
   "metadata": {},
   "outputs": [],
   "source": [
    "question.moi()"
   ]
  },
  {
   "cell_type": "code",
   "execution_count": null,
   "metadata": {},
   "outputs": [],
   "source": [
    "question.nom_et_personne()"
   ]
  },
  {
   "cell_type": "code",
   "execution_count": null,
   "metadata": {},
   "outputs": [],
   "source": [
    "question.vieillir()"
   ]
  },
  {
   "cell_type": "code",
   "execution_count": null,
   "metadata": {},
   "outputs": [],
   "source": [
    "question.boucle()"
   ]
  },
  {
   "cell_type": "markdown",
   "metadata": {},
   "source": [
    "## <span style=\"text-decoration: underline;color:green;\">Exercice 2:</span> ##\n",
    "Considérons le code suivant :<br>\n"
   ]
  },
  {
   "cell_type": "code",
   "execution_count": null,
   "metadata": {},
   "outputs": [],
   "source": [
    "class Rectangle:\n",
    "    def __init__(self, longueur, largeur):\n",
    "        self.longueur = longueur\n",
    "        self.largeur = largeur\n",
    "\n",
    "    def perimetre(self):\n",
    "        '''renvoie le périmètre du rectangle'''\n",
    "        p = 2*(self.largeur + self.longueur)\n",
    "        return p\n",
    "\n",
    "    def aire(self):\n",
    "        '''renvoie l'aire du rectangle'''\n",
    "        pass\n",
    "    \n",
    "    def diagonale(self):\n",
    "        '''renvoie la longueur de la diagonale'''\n",
    "        pass\n",
    "\n",
    "R1 = Rectangle(4, 3)\n",
    "R2 = Rectangle(5, 6)"
   ]
  },
  {
   "cell_type": "code",
   "execution_count": null,
   "metadata": {},
   "outputs": [],
   "source": [
    "question.attributs()"
   ]
  },
  {
   "cell_type": "markdown",
   "metadata": {},
   "source": [
    "<img src=\"mes_images/rectangle.png\" style=\"float:left;\"><br>\n",
    "&nbsp;&nbsp;&nbsp;&nbsp;<br>\n",
    "&nbsp;&nbsp;&nbsp;&nbsp;Complétez les méthodes <span style=\"font-family:Courier New;font-size: 100%;\">aire</span> et <span style=\"font-family:Courier New;font-size: 100%;\">diagonale</span>.<br>\n"
   ]
  },
  {
   "cell_type": "code",
   "execution_count": null,
   "metadata": {},
   "outputs": [],
   "source": [
    "solution.aire_et_diagonale()"
   ]
  },
  {
   "cell_type": "code",
   "execution_count": null,
   "metadata": {},
   "outputs": [],
   "source": [
    "qcm.modifier()"
   ]
  },
  {
   "cell_type": "code",
   "execution_count": null,
   "metadata": {},
   "outputs": [],
   "source": [
    "question.aire()"
   ]
  },
  {
   "cell_type": "markdown",
   "metadata": {},
   "source": [
    "● <span style=\"text-decoration: underline;\">En utilisant la méthode <span style=\"font-family:Courier New;font-size: 100%;\">diagonale</span></span>, ajouter une méthode <span style=\"font-family:Courier New;font-size: 100%;\">plus&#95;grande&#95;diag(self, autre&#95;rectangle)</span> à la classe <span style=\"font-family:Courier New;font-size: 100%;\">Rectangle</span>.<br>\n",
    "<span style=\"font-family:Courier New;font-size: 100%;\">autre&#95;rectangle</span> est une instance de la classe <span style=\"font-family:Courier New;font-size: 100%;\">Rectangle</span>, et cette méthode renvoie :<br>\n",
    "<span style=\"font-family:Courier New;font-size: 100%;\">False</span> si <span style=\"font-family:Courier New;font-size: 100%;\">autre&#95;rectangle</span> a une diagonale plus grande, <span style=\"font-family:Courier New;font-size: 100%;\">True</span> sinon.<br>\n",
    "<br>\n",
    "Puis testez votre méthode :<br>\n"
   ]
  },
  {
   "cell_type": "code",
   "execution_count": null,
   "metadata": {},
   "outputs": [],
   "source": [
    "# on teste la méthode comparer_diag:\n",
    "R1.plus_grande_diag(R2)"
   ]
  },
  {
   "cell_type": "code",
   "execution_count": null,
   "metadata": {},
   "outputs": [],
   "source": [
    "solution.plus_grande_diag()"
   ]
  },
  {
   "cell_type": "markdown",
   "metadata": {},
   "source": [
    "## <span style=\"text-decoration: underline;color:green;\">Exercice 3:</span> ##\n",
    "<img src=\"mes_images/location.jpg\" style=\"float:left;\"> <br>\n",
    "&nbsp;&nbsp;&nbsp;Les loueurs de voitures doivent gérer l’entretien des voitures de location.<br>\n",
    "&nbsp;&nbsp;&nbsp;En principe il faut effectuer une révision <strong>tous les 20 000 km</strong>.<br>\n",
    "<br>\n",
    "<br>\n",
    "<br>\n",
    "Voici le code de la classe <span style=\"font-family:Courier New;font-size: 100%;\">Vehicule</span> :<br>\n"
   ]
  },
  {
   "cell_type": "code",
   "execution_count": null,
   "metadata": {},
   "outputs": [],
   "source": [
    "class Vehicule:\n",
    "    def __init__(self, marque, modele, nb_km):\n",
    "        self.marque = marque\n",
    "        self.modele = modele\n",
    "        self.nb_km = nb_km\n",
    "\n",
    "    def calculer_revisions(self):\n",
    "        '''adapte l'attribut nb_revisions en fonction de nb_km parcourus dans la vie du véhicule'''\n",
    "        pass\n",
    "    \n",
    "    def bilan(self):\n",
    "        '''affiche la marque, le modèle et le kilométrage'''\n",
    "        pass\n",
    "\n",
    "    def rouler(self, distance):\n",
    "        '''actualise le kilométrage et le nombre de révisions'''\n",
    "        pass"
   ]
  },
  {
   "cell_type": "markdown",
   "metadata": {},
   "source": [
    "● Lorsque l'on crée un véhicule avec cette classe, ou souhaiterait que l'attribut <span style=\"font-family:Courier New;font-size: 100%;\">nb&#95;revisions</span> correspondant au nombre de révisions qui auraient dû être faites soit <strong>automatiquement calculé</strong>.<br>\n",
    "1) Complétez la méthode <span style=\"font-family:Courier New;font-size: 100%;\">calculer&#95;revisions</span>, qui :<br>\n",
    "&nbsp;&nbsp;&nbsp;&nbsp;&nbsp;&nbsp;&nbsp;&nbsp;→ crée un attribut <span style=\"font-family:Courier New;font-size: 100%;\">nb&#95;revisions</span><br>\n",
    "&nbsp;&nbsp;&nbsp;&nbsp;&nbsp;&nbsp;&nbsp;&nbsp;→ et adapte sa valeur en fonction du nombre de kilomètres <span style=\"font-family:Courier New;font-size: 100%;\">nb&#95;km</span> affiché au compteur du véhicule.<br>\n",
    "<br>\n",
    "Appliquez cette méthode <strong>depuis le constructeur</strong> de sorte qu'à la création d'une instance, le véhicule ait le bon attribut <span style=\"font-family:Courier New;font-size: 100%;\">nb&#95;revisions</span>.<br>\n"
   ]
  },
  {
   "cell_type": "code",
   "execution_count": null,
   "metadata": {},
   "outputs": [],
   "source": [
    "solution.calculer_revisions()"
   ]
  },
  {
   "cell_type": "markdown",
   "metadata": {},
   "source": [
    "2) Dans la même cellule que celle qui contient la classe <span style=\"font-family:Courier New;font-size: 100%;\">Vehicule</span>, créez les 3 véhicules suivants :<br>\n",
    "&nbsp;&nbsp;&nbsp;&nbsp;&nbsp;&nbsp;&nbsp;&nbsp;→ <span style=\"font-family:Courier New;font-size: 100%;\">v1</span> : une Peugeot 107 toute neuve<br>\n",
    "&nbsp;&nbsp;&nbsp;&nbsp;&nbsp;&nbsp;&nbsp;&nbsp;→ <span style=\"font-family:Courier New;font-size: 100%;\">v2</span> : une Peugeot 207 de 15 000 km<br>\n",
    "&nbsp;&nbsp;&nbsp;&nbsp;&nbsp;&nbsp;&nbsp;&nbsp;→ <span style=\"font-family:Courier New;font-size: 100%;\">v3</span> : une Peugeot 307 de 26 000 km<br>\n",
    "<br>\n",
    "3) Compléter la méthode <span style=\"font-family:Courier New;font-size: 100%;\">bilan</span> permettant d’afficher la marque, le modèle de la voiture, le nombre de km, ainsi que le nombre de révisions déjà effectuées.<br>\n",
    "Puis, toujours dans la même cellule que celle de la classe, testez votre méthode sur chacune des instances crées. <br>\n",
    "Vérifiez que l'attribut <span style=\"font-family:Courier New;font-size: 100%;\">nb&#95;revisions</span> est correct dans chacun des cas.<br>\n"
   ]
  },
  {
   "cell_type": "code",
   "execution_count": null,
   "metadata": {},
   "outputs": [],
   "source": [
    "solution.bilan()"
   ]
  },
  {
   "cell_type": "markdown",
   "metadata": {},
   "source": [
    "4) Lorsqu'un véhicule est loué, il va parcourir une certaine distance entre les mains du conducteur.<br>\n",
    "Complétez la méthode <span style=\"font-family:Courier New;font-size: 100%;\">rouler(self, distance)</span>, qui <strong>actualise</strong> <span style=\"text-decoration: underline;\">le kilométrage</span> et le <span style=\"text-decoration: underline;\">nombre de révisions</span> du véhicule.<br>\n",
    "<br>\n",
    "Testez ensuite, dans la même cellule que la classe <span style=\"font-family:Courier New;font-size: 100%;\">Vehicule</span> les différents exemples suivants :<br>\n",
    "<span style=\"text-decoration: underline;\"><i>Exemple 1 :</i></span> <span style=\"font-family:Courier New;font-size: 100%;\">v1</span> a parcouru 4 000 km au cours de sa location.<br>\n",
    "<span style=\"text-decoration: underline;\"><i>Exemple 2 :</i></span> <span style=\"font-family:Courier New;font-size: 100%;\">v2</span> a parcouru 6 000 km au cours de sa location.<br>\n",
    "<span style=\"text-decoration: underline;\"><i>Exemple 3 :</i></span> <span style=\"font-family:Courier New;font-size: 100%;\">v3</span>, elle a parcouru 7 000 km au cours de sa location.<br>\n"
   ]
  },
  {
   "cell_type": "code",
   "execution_count": null,
   "metadata": {},
   "outputs": [],
   "source": [
    "solution.rouler()"
   ]
  },
  {
   "cell_type": "markdown",
   "metadata": {},
   "source": [
    "## <span style=\"text-decoration: underline;color:green;\">Exercice 4:</span> ##\n",
    "<img src=\"mes_images/cars.jpg\" style=\"float:left;\"> <br>\n",
    "1) Ecrire une classe <span style=\"font-family:Courier New;font-size: 100%;\">Voiture</span> dont le constructeur permet d’initialiser les attributs :<br>\n",
    "&nbsp;&nbsp;&nbsp;&nbsp;&nbsp;&nbsp;&nbsp;&nbsp;→ marque<br>\n",
    "&nbsp;&nbsp;&nbsp;&nbsp;&nbsp;&nbsp;&nbsp;&nbsp;→ modèle<br>\n",
    "&nbsp;&nbsp;&nbsp;&nbsp;&nbsp;&nbsp;&nbsp;&nbsp;→ consommation : en L/100km<br>\n",
    "&nbsp;&nbsp;&nbsp;&nbsp;&nbsp;&nbsp;&nbsp;&nbsp;→ reservoir : la contenance en L du réservoir<br>\n",
    "&nbsp;&nbsp;&nbsp;&nbsp;&nbsp;&nbsp;&nbsp;&nbsp;→ essence : la quantité d'essence en L présente dans le réservoir.<br>\n",
    "&nbsp;&nbsp;&nbsp;&nbsp;&nbsp;&nbsp;&nbsp;&nbsp;→ vitesse : la vitess maximale de la voiture<br>\n",
    "<br>\n",
    "&nbsp;&nbsp;&nbsp;&nbsp;&nbsp;&nbsp;&nbsp;&nbsp;Puis créer les 3 instances suivantes :<br>\n",
    "&nbsp;&nbsp;&nbsp;&nbsp;&nbsp;&nbsp;&nbsp;&nbsp;&nbsp;&nbsp;&nbsp;&nbsp;• Ferrari, F40, 12 L/100km, 120L, vitesse maxi de 320km/h<br>\n",
    "&nbsp;&nbsp;&nbsp;&nbsp;&nbsp;&nbsp;&nbsp;&nbsp;&nbsp;&nbsp;&nbsp;&nbsp;• Lamborghini, urus, 13 L/100km, 85L, vitesse maxi de 305km/h<br>\n",
    "&nbsp;&nbsp;&nbsp;&nbsp;&nbsp;&nbsp;&nbsp;&nbsp;&nbsp;&nbsp;&nbsp;&nbsp;• Buggati, chiron, 18 L/100km, 100L, vitesse maxi de 420km/h<br>\n",
    "<br>\n",
    "Lors de la création des instances, on partira du principe <span style=\"text-decoration: underline;\">que la voiture est livrée avec le plein</span>!<br>\n"
   ]
  },
  {
   "cell_type": "code",
   "execution_count": null,
   "metadata": {},
   "outputs": [],
   "source": [
    "# class Voiture et création de 3 instances:"
   ]
  },
  {
   "cell_type": "markdown",
   "metadata": {},
   "source": [
    "2) Ajouter une méthode <span style=\"font-family:Courier New;font-size: 100%;\">rouler(self, distance)</span>:<br>\n",
    "Cette méthode actualise la quantité d'essence du réservoir en fonction de la <span style=\"font-family:Courier New;font-size: 100%;\">distance</span> parcourue.<br>\n",
    "Elle <strong>renvoie</strong> <span style=\"font-family:Courier New;font-size: 100%;\">True</span> s'il y a assez d'essence pour parcourir <span style=\"font-family:Courier New;font-size: 100%;\">distance</span> et <span style=\"font-family:Courier New;font-size: 100%;\">False</span> sinon.<br>\n",
    "Par ailleurs, si la distance est trop grande, alors l'attribut essence est mis à <span style=\"font-family:Courier New;font-size: 100%;\">0</span> et un message :<br>\n",
    "<span style=\"font-family:Courier New;font-size: 100%;\">\"Panne sèche au bout de ... km\"</span> est affiché.<br>\n"
   ]
  },
  {
   "cell_type": "markdown",
   "metadata": {},
   "source": [
    "3) Ecrire une méthode <span style=\"font-family:Courier New;font-size: 100%;\">ajouter&#95;essence(self, quantite)</span>.<br>\n",
    "Cette méthode ajoute la <span style=\"font-family:Courier New;font-size: 100%;\">quantite</span> d'essence souhaité <strong>si c'est possible</strong>.<br>\n",
    "Dans le cas contraire, elle n'ajoute que la quantité d'essence nécessaire pour faire le plein et le signale la quantité qu'il était possible de mettre.<br>\n",
    "<br>\n",
    "4) Faire rouler la <i>Buggati Chiron</i> <span style=\"font-family:Courier New;font-size: 100%;\">200km</span>.<br>\n",
    "Véfifier la quantité d'essence.<br>\n",
    "Puis ajouter <span style=\"font-family:Courier New;font-size: 100%;\">10L</span> d'essence, et revérifiez le niveau d'essence :<br>\n"
   ]
  },
  {
   "cell_type": "code",
   "execution_count": null,
   "metadata": {},
   "outputs": [],
   "source": [
    "# à compléter"
   ]
  },
  {
   "cell_type": "code",
   "execution_count": null,
   "metadata": {},
   "outputs": [],
   "source": [
    "solution.class_voiture()"
   ]
  },
  {
   "cell_type": "markdown",
   "metadata": {},
   "source": [
    "5) On considère la liste <span style=\"font-family:Courier New;font-size: 100%;\">lst&#95;voitures = [voiture1, voiture2, voiture3]</span>.<br>\n",
    "<span style=\"font-family:Courier New;font-size: 100%;\">lst&#95;voitures</span> est une liste d'instances de classe <span style=\"font-family:Courier New;font-size: 100%;\">Voiture</span>.<br>\n",
    "Déterminez un code possible pour afficher le <strong>modèle</strong> le plus rapide de cette liste.<br>\n"
   ]
  },
  {
   "cell_type": "code",
   "execution_count": null,
   "metadata": {},
   "outputs": [],
   "source": [
    "# à compléter"
   ]
  },
  {
   "cell_type": "code",
   "execution_count": null,
   "metadata": {},
   "outputs": [],
   "source": [
    "solution.plus_rapide()"
   ]
  },
  {
   "cell_type": "markdown",
   "metadata": {},
   "source": [
    "6) On considère à présent une classe <span style=\"font-family:Courier New;font-size: 100%;\">Proprietaire</span> de voitures.<br>\n",
    "Construire les 3 instances <span style=\"font-family:Courier New;font-size: 100%;\">tommy</span>, <span style=\"font-family:Courier New;font-size: 100%;\">trevor</span> et <span style=\"font-family:Courier New;font-size: 100%;\">carl</span> de la classe <span style=\"font-family:Courier New;font-size: 100%;\">Proprietaire</span> :<br>\n",
    "Vercetti Tommy est l'heureux propriétaire de la <i>Ferrari F40</i>.<br>\n",
    "Trevor Phillips possède la <i>Lamborghini urus</i>, et Carl Johnson la <i>Bugatti chiron</i>.<br>\n"
   ]
  },
  {
   "cell_type": "code",
   "execution_count": null,
   "metadata": {},
   "outputs": [],
   "source": [
    "class Proprietaire:\n",
    "    def __init__(self, nom, prenom, voiture):\n",
    "        '''nom et prenom sont des strings et voiture une instance de la classe voiture'''\n",
    "        self.nom = nom\n",
    "        self.prenom = prenom\n",
    "        self.voiture = voiture\n",
    "\n",
    "# Construire les 3 instances\n",
    "# à compléter"
   ]
  },
  {
   "cell_type": "markdown",
   "metadata": {},
   "source": [
    "● Comment accéder au modèle de la voiture de <span style=\"font-family:Courier New;font-size: 100%;\">tommy</span>?<br>\n"
   ]
  },
  {
   "cell_type": "code",
   "execution_count": null,
   "metadata": {},
   "outputs": [],
   "source": [
    "# à compléter"
   ]
  },
  {
   "cell_type": "code",
   "execution_count": null,
   "metadata": {},
   "outputs": [],
   "source": [
    "solution.modele()"
   ]
  },
  {
   "cell_type": "markdown",
   "metadata": {},
   "source": [
    "● <span style=\"font-family:Courier New;font-size: 100%;\">tommy</span> décide de rouler <span style=\"font-family:Courier New;font-size: 100%;\">80km</span>. Puis de rajouter <span style=\"font-family:Courier New;font-size: 100%;\">17L</span> d'essence.<br>\n",
    "Donnez le code correspondant à ces deux actions <span style=\"text-decoration: underline;\">depuis l'instance <span style=\"font-family:Courier New;font-size: 100%;\">tommy</span></span>.<br>\n"
   ]
  },
  {
   "cell_type": "code",
   "execution_count": null,
   "metadata": {},
   "outputs": [],
   "source": [
    "# à compléter"
   ]
  },
  {
   "cell_type": "code",
   "execution_count": null,
   "metadata": {},
   "outputs": [],
   "source": [
    "solution.tommy()"
   ]
  },
  {
   "cell_type": "markdown",
   "metadata": {},
   "source": [
    "● <span style=\"font-family:Courier New;font-size: 100%;\">trevor</span> roule <span style=\"font-family:Courier New;font-size: 100%;\">300km</span>. Puis il reçoit un coup de fil de <span style=\"font-family:Courier New;font-size: 100%;\">carl</span> qui aimerait faire une course avec lui.<br>\n",
    "Mais Carl se trouve à <span style=\"font-family:Courier New;font-size: 100%;\">417 km</span> de lui! Donnez le code nécessaire pour savoir Trevor aura assez d'essence pour rejoindre Carl.<br>\n"
   ]
  },
  {
   "cell_type": "code",
   "execution_count": null,
   "metadata": {},
   "outputs": [],
   "source": [
    "# à compléter"
   ]
  },
  {
   "cell_type": "code",
   "execution_count": null,
   "metadata": {},
   "outputs": [],
   "source": [
    "solution.rejoindre_carl()"
   ]
  },
  {
   "cell_type": "markdown",
   "metadata": {},
   "source": [
    "## <span style=\"text-decoration: underline;color:green;\">Exercice 5:</span> ##\n",
    "<img src=\"mes_images/picsou.png\" style=\"float:left;\"> <br>\n",
    "On souhaite créer une classe <span style=\"font-family:Courier New;font-size: 100%;\">Compte</span> correspondant à un compte bancaire. <br>\n",
    "Un compte est défini par 2 attributs : <span style=\"font-family:Courier New;font-size: 100%;\">solde</span> et <span style=\"font-family:Courier New;font-size: 100%;\">titulaire</span>.<br>\n",
    "Lors de la création d’un compte, il faut donner le <span style=\"font-family:Courier New;font-size: 100%;\">nom</span> du titulaire, et le solde est mis à <span style=\"font-family:Courier New;font-size: 100%;\">0</span>.<br>\n",
    "Les méthodes sont les suivantes :<br>\n",
    "![alt text](mes_images/compte.png)<br>\n",
    "1) Ecrire le code de la classe <span style=\"font-family:Courier New;font-size: 100%;\">Compte</span> ci-dessous :<br>\n"
   ]
  },
  {
   "cell_type": "code",
   "execution_count": null,
   "metadata": {},
   "outputs": [],
   "source": [
    "# Code de la classe Compte"
   ]
  },
  {
   "cell_type": "markdown",
   "metadata": {},
   "source": [
    "2) <strong>Dans la même cellule que celle de la classe</strong>, créer deux instances <span style=\"font-family:Courier New;font-size: 100%;\">c1</span> et <span style=\"font-family:Courier New;font-size: 100%;\">c2</span> de titulaire <span style=\"font-family:Courier New;font-size: 100%;\">Picsou</span> et <span style=\"font-family:Courier New;font-size: 100%;\">Donald</span>.<br>\n",
    "Créditer le compte <span style=\"font-family:Courier New;font-size: 100%;\">c1</span> de <span style=\"font-family:Courier New;font-size: 100%;\">100€</span> et retirer <span style=\"font-family:Courier New;font-size: 100%;\">30€</span> sur le compte de <span style=\"font-family:Courier New;font-size: 100%;\">Donald</span> qui est à présent à découvert!<br>\n",
    "Vérifiez-le.<br>\n",
    "<br>\n",
    "3) Ajouter une <strong>méthode</strong> <span style=\"font-family:Courier New;font-size: 100%;\">transferer(self, montant, autre&#95;compte)</span> à la classe.<br>\n",
    "Cette méthode transfère <span style=\"font-family:Courier New;font-size: 100%;\">montant</span> du compte vers <span style=\"font-family:Courier New;font-size: 100%;\">autre&#95;compte</span>, instance de la classe <span style=\"font-family:Courier New;font-size: 100%;\">Compte</span>.<br>\n"
   ]
  },
  {
   "cell_type": "code",
   "execution_count": null,
   "metadata": {},
   "outputs": [],
   "source": [
    "solution.class_compte()"
   ]
  },
  {
   "cell_type": "markdown",
   "metadata": {},
   "source": [
    "4) Écrire une <strong>fonction</strong> <span style=\"font-family:Courier New;font-size: 100%;\">equilibrer(compteA, compteB)</span>.<br>\n",
    "Cette fonction, si c'est <span style=\"text-decoration: underline;\">possible</span> <strong>et</strong> <span style=\"text-decoration: underline;\">nécessaire</span>, transfère une partie de l’argent d’un des comptes vers l’autre <strong>afin que les deux soient positifs</strong>.<br>\n",
    "Sinon rien n’est fait.<br>\n",
    "En cas de transfert, le compte qui reçoit l’argent est mis à <span style=\"font-family:Courier New;font-size: 100%;\">0</span>.<br>\n"
   ]
  },
  {
   "cell_type": "code",
   "execution_count": null,
   "metadata": {},
   "outputs": [],
   "source": [
    "# code de la fonction equilibrer"
   ]
  },
  {
   "cell_type": "markdown",
   "metadata": {},
   "source": [
    "Apliquez la fonction <span style=\"font-family:Courier New;font-size: 100%;\">equilibrer(c1, c2)</span>.<br>\n"
   ]
  },
  {
   "cell_type": "code",
   "execution_count": null,
   "metadata": {},
   "outputs": [],
   "source": [
    "# à compléter"
   ]
  },
  {
   "cell_type": "code",
   "execution_count": null,
   "metadata": {},
   "outputs": [],
   "source": [
    "solution.equilibrer()"
   ]
  }
 ],
 "metadata": {},
 "nbformat": 4,
 "nbformat_minor": 4
}
