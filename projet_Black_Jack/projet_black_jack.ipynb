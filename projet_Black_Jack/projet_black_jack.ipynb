{
 "cells": [
  {
   "cell_type": "code",
   "execution_count": null,
   "metadata": {},
   "outputs": [],
   "source": [
    "from outils import* # import des outils nécessaires au notebook"
   ]
  },
  {
   "cell_type": "markdown",
   "metadata": {},
   "source": [
    "# <div style=\"text-align:center;\"><span style=\"border: 2px solid;padding:6px;color:dodgerblue;\">Projet Black Jack</span></div> #\n",
    "\n",
    "## <u style=\"color:red;\">I. Présentation :</u> ##\n",
    "### <u style=\"color:green;\">1. Principe du jeu :</u> ###\n",
    "https://www.casino.org/canada/fr/blackjack/gratuit/<br>\n",
    "<img src=\"mes_images/black_jack.jpg\" style=\"float:left;\"><br>\n",
    "Le <strong>Black Jack</strong> se joue avec un jeu de 52 cartes.<br>\n",
    "Un joueur et le croupier s'affrontent. Ils disposent chacun de la même somme d'argent en début de partie.<br>\n",
    "Une carte, visible de tous, est distribuée à chacun.<br>\n",
    "Le joueur indique alors sa <strong>mise</strong>.<br>\n",
    "L'objectif est de se rapprocher le plus possible de <span style=\"font-family:Courier New;font-size: 100%;\">21</span>, sans dépasser ce score.<br>\n",
    "Le joueur demande une carte, puis une autre, etc.<br>\n",
    "S'il dépasse <span style=\"font-family:Courier New;font-size: 100%;\">21</span>, il perd sa mise qui va au croupier.<br>\n",
    "Sinon, il s'arrête dès qu'il est satisfait de son score.<br>\n",
    "<br>\n",
    "Le croupier essaie alors de réaliser un score <strong>supérieur ou égal</strong> à celui du joueur.<br>\n",
    "S'il y arrive, il empoche la mise du joueur. <br>\n",
    "Sinon, il donne au joueur la somme que celui-ci avait misée.<br>\n",
    "<br>\n",
    "Le jeu se poursuit jusqu'à ce que l'un d'eux n'ait plus d'argent.<br>\n",
    "<br>\n",
    "\n",
    "### <u style=\"color:green;\">2. Calcul du score :</u> ###\n",
    "<img src=\"mes_images/valeurs.jpg\" style=\"float:left;\"><br>\n",
    "&nbsp;&nbsp;&nbsp;&nbsp;Les cartes du <strong>deux</strong> au <strong>dix</strong> ont pour valeur le nombre inscrit dessus : un deux vaut 2, un trois vaut 3, etc.<br>\n",
    "&nbsp;&nbsp;&nbsp;&nbsp;Le <strong>valet</strong>, la <strong>dame</strong> et le <strong>roi</strong> valent 10 points.<br>\n",
    "&nbsp;&nbsp;&nbsp;&nbsp;Le premier <strong>as</strong> qui apparait vaut 11 points si le total des cartes ne dépasse pas 21.<br>\n",
    "&nbsp;&nbsp;&nbsp;&nbsp;Il vaut 1 point dans le cas contraire.<br>\n",
    "&nbsp;&nbsp;&nbsp;&nbsp;Les deuxièmes, troisièmes et quatrièmes <strong>as</strong> éventuels qui apparaissent valent <strong>1</strong> point.<br>\n",
    "<br>\n",
    "<br>\n",
    "<br>\n",
    "\n",
    "## <u style=\"color:red;\">II. Construction des classes nécéssaires :</u> ##\n",
    "L'objectif de ce projet est de modéliser le jeu du <strong>Black Jack</strong> en utilisant la POO.<br>\n",
    "Nous allons créer plusieurs classes, et les faire interagir de façon à pouvoir jouer.\n",
    "### <u style=\"color:green;\">1. La classe <span style=\"font-family:Courier New;font-size: 100%;\">Carte</span> :</u> ###\n",
    "<img src=\"mes_images/roi_trefle.png\" style=\"float:left;\"><br>\n",
    "&nbsp;&nbsp;&nbsp;&nbsp;On peut copier-coller les symboles couleurs : <span style=\"font-family:Courier New;font-size: 100%;\">\"♠\", \"♥\", \"♦\", \"♣\"</span><br>\n",
    "&nbsp;&nbsp;&nbsp;&nbsp;Nous noterons <span style=\"font-family:Courier New;font-size: 100%;\">A</span> pour As, <span style=\"font-family:Courier New;font-size: 100%;\">R</span> pour Roi, <span style=\"font-family:Courier New;font-size: 100%;\">D</span> pour Dame et <span style=\"font-family:Courier New;font-size: 100%;\">V</span> pour valet.<br>\n",
    "&nbsp;&nbsp;&nbsp;&nbsp;Puis <span style=\"font-family:Courier New;font-size: 100%;\">2, 3, 4, 5, 6, 7, 8, 9, 10</span> pour les autres cartes.<br>\n",
    "<br>\n",
    "&nbsp;&nbsp;&nbsp;&nbsp;Ainsi :<br>\n",
    "&nbsp;&nbsp;&nbsp;&nbsp;&nbsp;&nbsp;&nbsp;&nbsp;&nbsp;&nbsp;&nbsp;&nbsp;→ un roi de trèfle a pour <span style=\"font-family:Courier New;font-size: 100%;\">nom</span> la chaine : <span style=\"font-family:Courier New;font-size: 100%;\">\"R♣\"</span><br>\n",
    "&nbsp;&nbsp;&nbsp;&nbsp;&nbsp;&nbsp;&nbsp;&nbsp;&nbsp;&nbsp;&nbsp;&nbsp;→ un huit de coeur a pour <span style=\"font-family:Courier New;font-size: 100%;\">nom</span> la chaine : <span style=\"font-family:Courier New;font-size: 100%;\">\"8♥\"</span><br>\n",
    "&nbsp;&nbsp;&nbsp;&nbsp;&nbsp;&nbsp;&nbsp;&nbsp;&nbsp;&nbsp;&nbsp;&nbsp;→ un as de carreau a pour <span style=\"font-family:Courier New;font-size: 100%;\">nom</span> la chaine : <span style=\"font-family:Courier New;font-size: 100%;\">\"A♦\"</span><br>\n",
    "&nbsp;&nbsp;&nbsp;&nbsp;&nbsp;&nbsp;&nbsp;&nbsp;&nbsp;&nbsp;&nbsp;&nbsp;→ un dix de pique a pour <span style=\"font-family:Courier New;font-size: 100%;\">nom</span> la chaine : <span style=\"font-family:Courier New;font-size: 100%;\">\"10♠\"</span><br>\n",
    "<br>\n",
    "<br>\n",
    "Voici le code de la classe <span style=\"font-family:Courier New;font-size: 100%;\">Carte</span> :<br>\n"
   ]
  },
  {
   "cell_type": "code",
   "execution_count": null,
   "metadata": {},
   "outputs": [],
   "source": [
    "class Carte:\n",
    "    def __init__(self, nom):\n",
    "        # un nom de carte est, sous forme de chaine, un entier entre 1 et 10 ou V, D, R, A suivi d'une couleur\n",
    "        self.nom = nom\n",
    "    \n",
    "    def valeur(self):\n",
    "        # renvoie la valeur de la carte. On met 1 pour un as pour le moment, car un as peut prendre la valeur 1 ou 11!\n",
    "        pass"
   ]
  },
  {
   "cell_type": "markdown",
   "metadata": {},
   "source": [
    "● Compléter la méthode <span style=\"font-family:Courier New;font-size: 100%;\">valeur</span>.<br>\n",
    "<br>\n",
    "Puis créez et vérifiez que votre méthode <span style=\"font-family:Courier New;font-size: 100%;\">valeur</span> fonctionne avec les instances suivantes:<br>\n",
    "&nbsp;&nbsp;&nbsp;&nbsp;&nbsp;&nbsp;&nbsp;&nbsp;→ <span style=\"font-family:Courier New;font-size: 100%;\">roi_trefle</span> du roi de trèfle<br>\n",
    "&nbsp;&nbsp;&nbsp;&nbsp;&nbsp;&nbsp;&nbsp;&nbsp;→ <span style=\"font-family:Courier New;font-size: 100%;\">huit_coeur</span> du huit de coeur<br>\n",
    "&nbsp;&nbsp;&nbsp;&nbsp;&nbsp;&nbsp;&nbsp;&nbsp;→ <span style=\"font-family:Courier New;font-size: 100%;\">as_carreau</span> de l'as de carreau<br>\n",
    "&nbsp;&nbsp;&nbsp;&nbsp;&nbsp;&nbsp;&nbsp;&nbsp;→ <span style=\"font-family:Courier New;font-size: 100%;\">dix_pique</span> du dix de pique.<br>\n"
   ]
  },
  {
   "cell_type": "code",
   "execution_count": null,
   "metadata": {},
   "outputs": [],
   "source": [
    "# à compléter"
   ]
  },
  {
   "cell_type": "code",
   "execution_count": null,
   "metadata": {},
   "outputs": [],
   "source": [
    "solution.Carte()"
   ]
  },
  {
   "cell_type": "markdown",
   "metadata": {},
   "source": [
    "● Coder la fonction <span style=\"font-family:Courier New;font-size: 100%;\">afficher(lst_cartes)</span> :<br>\n",
    "&nbsp;&nbsp;&nbsp;&nbsp;&nbsp;&nbsp;&nbsp;&nbsp;→ <span style=\"font-family:Courier New;font-size: 100%;\">lst_cartes</span> est une liste d'instances de la classe <span style=\"font-family:Courier New;font-size: 100%;\">Carte</span><br>\n",
    "&nbsp;&nbsp;&nbsp;&nbsp;&nbsp;&nbsp;&nbsp;&nbsp;→ et cette fonction affiche <strong>côte à côte</strong> chacun des noms de cartes.<br>\n",
    "<br>\n",
    "Pour afficher <strong>côte à côte</strong> plusieurs éléments, on peut rajouter le paramètre <span style=\"font-family:Courier New;font-size: 100%;\">end = \" \"</span> à la fonction print :<br>\n"
   ]
  },
  {
   "cell_type": "code",
   "execution_count": null,
   "metadata": {},
   "outputs": [],
   "source": [
    "print(\"Bonjour\", end = \" \")\n",
    "print(\"les amis!\", end = \" \")\n",
    "print(\"La forme?\")"
   ]
  },
  {
   "cell_type": "code",
   "execution_count": null,
   "metadata": {},
   "outputs": [],
   "source": [
    "def afficher(lst_cartes):\n",
    "    '''affiche côte à côte les noms des cartes de lst_cartes'''\n",
    "    # à compléter"
   ]
  },
  {
   "cell_type": "code",
   "execution_count": null,
   "metadata": {},
   "outputs": [],
   "source": [
    "solution.afficher()"
   ]
  },
  {
   "cell_type": "markdown",
   "metadata": {},
   "source": [
    "### <u style=\"color:green;\">2. Classe <span style=\"font-family:Courier New;font-size: 100%;\">JeuDeCartes</span> :</u> ###\n",
    "![alt text](mes_images/jeu.png)<br>\n",
    "● Importons la fonction <span style=\"font-family:Courier New;font-size: 100%;\">shuffle</span> module <span style=\"font-family:Courier New;font-size: 100%;\">random</span> :<br>\n"
   ]
  },
  {
   "cell_type": "code",
   "execution_count": null,
   "metadata": {},
   "outputs": [],
   "source": [
    "from random import shuffle"
   ]
  },
  {
   "cell_type": "markdown",
   "metadata": {},
   "source": [
    "● Affichez son *aide* :<br>\n"
   ]
  },
  {
   "cell_type": "code",
   "execution_count": null,
   "metadata": {},
   "outputs": [],
   "source": [
    "# Affichage de l'aide de chacune des fonctions :"
   ]
  },
  {
   "cell_type": "markdown",
   "metadata": {},
   "source": [
    "● Complétez le code de la classe <span style=\"font-family:Courier New;font-size: 100%;\">JeuDeCartes</span> :<br>\n"
   ]
  },
  {
   "cell_type": "code",
   "execution_count": null,
   "metadata": {},
   "outputs": [],
   "source": [
    "class JeuDeCartes:\n",
    "    def __init__(self):\n",
    "        self.contenu = [] #liste destinée à contenir toutes les cartes \n",
    "        # objectif : créer le jeu de 52 cartes, chaque carte étant une instance de la classe Carte\n",
    "        # ATTENTION : On note A pour as, et non pas 1!\n",
    "        pass\n",
    "            \n",
    "    def melanger(self):\n",
    "        '''mélange self.contenu'''\n",
    "        pass\n",
    "         \n",
    "    def piocher(self):\n",
    "        '''pioche la dernière carte (celle du dessus : d'index -1) de self.contenu.\n",
    "        Elle la renvoie et la retire de self.contenu'''\n",
    "        pass"
   ]
  },
  {
   "cell_type": "markdown",
   "metadata": {},
   "source": [
    "● <u><strong>Test la classe <span style=\"font-family:Courier New;font-size: 100%;\">JeuDeCartes</span> :</strong></u><br>\n",
    "&nbsp;&nbsp;&nbsp;&nbsp;&nbsp;&nbsp;&nbsp;&nbsp;→ Créer une instance <span style=\"font-family:Courier New;font-size: 100%;\">jeu</span>.<br>\n",
    "&nbsp;&nbsp;&nbsp;&nbsp;&nbsp;&nbsp;&nbsp;&nbsp;→ Afficher le <span style=\"font-family:Courier New;font-size: 100%;\">nom</span> de la première carte du <span style=\"font-family:Courier New;font-size: 100%;\">jeu</span>.<br>\n",
    "&nbsp;&nbsp;&nbsp;&nbsp;&nbsp;&nbsp;&nbsp;&nbsp;→ Mélanger le jeu.<br>\n",
    "&nbsp;&nbsp;&nbsp;&nbsp;&nbsp;&nbsp;&nbsp;&nbsp;→ Afficher le <span style=\"font-family:Courier New;font-size: 100%;\">nom</span> de la première carte du <span style=\"font-family:Courier New;font-size: 100%;\">jeu</span>.<br>\n",
    "&nbsp;&nbsp;&nbsp;&nbsp;&nbsp;&nbsp;&nbsp;&nbsp;→ Piocher une carte. Afficher son <span style=\"font-family:Courier New;font-size: 100%;\">nom</span>, et le nombre de cartes du <span style=\"font-family:Courier New;font-size: 100%;\">jeu</span> une fois piochée la carte.<br>\n"
   ]
  },
  {
   "cell_type": "code",
   "execution_count": null,
   "metadata": {},
   "outputs": [],
   "source": [
    "# Test de la classe JeuDeCartes\n",
    "# à compléter"
   ]
  },
  {
   "cell_type": "code",
   "execution_count": null,
   "metadata": {},
   "outputs": [],
   "source": [
    "solution.JeuDeCartes()"
   ]
  },
  {
   "cell_type": "markdown",
   "metadata": {},
   "source": [
    "### <u style=\"color:green;\">3. Classe <span style=\"font-family:Courier New;font-size: 100%;\">Joueur</span> :</u> ###\n",
    "Complétez le code  de la classe <span style=\"font-family:Courier New;font-size: 100%;\">Joueur</span> :<br>\n"
   ]
  },
  {
   "cell_type": "code",
   "execution_count": null,
   "metadata": {},
   "outputs": [],
   "source": [
    "class Joueur:\n",
    "    def __init__(self, nom, argent):\n",
    "        # Un joueur a un nom et une certaine somme d'argent au début du jeu\n",
    "        pass\n",
    "    \n",
    "    def debiter(self, mise):\n",
    "        '''retire mise à self.argent'''\n",
    "        pass\n",
    "\n",
    "    def crediter(self, mise):\n",
    "        '''ajoute mise à self.argent'''\n",
    "        pass"
   ]
  },
  {
   "cell_type": "code",
   "execution_count": null,
   "metadata": {},
   "outputs": [],
   "source": [
    "solution.Joueur()"
   ]
  },
  {
   "cell_type": "markdown",
   "metadata": {},
   "source": [
    "### <u style=\"color:green;\">4. Faire jouer le <span style=\"font-family:Courier New;font-size: 100%;\">Croupier</span> :</u> ###\n",
    "#### <u style=\"color:blue;\">a. Somme des cartes :</u> ####\n",
    "<img src=\"mes_images/croupier.jpg\" style=\"float:left;\"><br>\n",
    "Losque le croupier connait le <span style=\"font-family:Courier New;font-size: 100%;\">score_a_battre</span>, il doit piocher des cartes jusqu'à obtenir un propre score <strong>supérieur ou égal</strong> à <span style=\"font-family:Courier New;font-size: 100%;\">score_a_battre</span>.<br>\n",
    "Soit il va réussir, soit il dépassera <span style=\"font-family:Courier New;font-size: 100%;\">21</span> et perdra.<br>\n",
    "<br>\n",
    "Pour évaluer son score, il est nécessaire de coder une fonction <span style=\"font-family:Courier New;font-size: 100%;\">somme(lst_cartes)</span>.<br>\n",
    "Cette fonction <strong>renvoie</strong> la somme totale des cartes, en tenant compte des <u>deux valeurs possibles</u> du <strong>premier as</strong>.<br>\n",
    "Codez cette fonction.<br>\n"
   ]
  },
  {
   "cell_type": "code",
   "execution_count": null,
   "metadata": {},
   "outputs": [],
   "source": [
    "def somme(lst_cartes):\n",
    "    '''lst_cartes est une liste non vide composée d'instances de la classe Carte.\n",
    "        Elle renvoie la somme des valeurs des cartes, en tenant compte du rôle de l'as'''\n",
    "    # à compléter"
   ]
  },
  {
   "cell_type": "markdown",
   "metadata": {},
   "source": [
    "● <u><strong>Test la fonction <span style=\"font-family:Courier New;font-size: 100%;\">somme</span> :</strong></u><br>\n",
    "Voici une instance <span style=\"font-family:Courier New;font-size: 100%;\">as_coeur</span> de la classe <span style=\"font-family:Courier New;font-size: 100%;\">Carte</span>.<br>\n",
    "Et une série d'assertions :<br>\n"
   ]
  },
  {
   "cell_type": "code",
   "execution_count": null,
   "metadata": {},
   "outputs": [],
   "source": [
    "as_coeur = Carte(\"A♥\")\n",
    "sept_trefle = Carte(\"7♣\")\n",
    "assert somme([roi_trefle, as_coeur]) == 21, \"erreur [roi_trefle, as_coeur]\"\n",
    "assert somme([roi_trefle, huit_coeur, as_coeur]) == 19, \"erreur [roi_trefle, huit_coeur, as_coeur]\"\n",
    "assert somme([huit_coeur, as_coeur, as_carreau]) == 20, \"erreur [huit_coeur, as_coeur, as_pique]\"\n",
    "assert somme([sept_trefle, as_carreau, roi_trefle, as_coeur]) == 19, \"erreur [sept_trefle, as_carreau, roi_trefle, as_coeur]\""
   ]
  },
  {
   "cell_type": "code",
   "execution_count": null,
   "metadata": {},
   "outputs": [],
   "source": [
    "solution.somme()"
   ]
  },
  {
   "cell_type": "markdown",
   "metadata": {},
   "source": [
    "#### <u style=\"color:blue;\">b. La classe <span style=\"font-family:Courier New;font-size: 100%;\">Croupier</span> :</u> ####\n",
    "Complétez la classe <span style=\"font-family:Courier New;font-size: 100%;\">Croupier</span> ci-dessous :<br>\n"
   ]
  },
  {
   "cell_type": "code",
   "execution_count": null,
   "metadata": {},
   "outputs": [],
   "source": [
    "class Croupier:\n",
    "    def __init__(self, argent):\n",
    "        # un croupier dispose de la même somme d'argent que le joueur initialement\n",
    "        self.argent = argent\n",
    "\n",
    "    def debiter(self, mise):\n",
    "        '''retire mise à self.argent'''\n",
    "        pass\n",
    "\n",
    "    def crediter(self, mise):\n",
    "        '''ajoute mis à self.argent'''\n",
    "        pass\n",
    "        \n",
    "    def jouer(self, carte_depart, score_a_battre, jeu_de_cartes):\n",
    "        '''Le croupier dispose d'une carte de départ. Puis il pioche des cartes jusqu'à obtenir un score >= score_a_battre.\n",
    "            Cette méthode renvoie la liste des cartes piochées, dont le total peut éventuellement dépasser 21'''\n",
    "        pass"
   ]
  },
  {
   "cell_type": "markdown",
   "metadata": {},
   "source": [
    "● <u><strong>Test de la classe <span style=\"font-family:Courier New;font-size: 100%;\">Croupier</span> :</strong></u><br>\n",
    "Construire une instance <span style=\"font-family:Courier New;font-size: 100%;\">jeu</span> de <span style=\"font-family:Courier New;font-size: 100%;\">JeuDeCartes</span> et une instance <span style=\"font-family:Courier New;font-size: 100%;\">c</span> de <span style=\"font-family:Courier New;font-size: 100%;\">Croupier</span> disposant de <span style=\"font-family:Courier New;font-size: 100%;\">100€</span>.<br>\n",
    "Mélanger <span style=\"font-family:Courier New;font-size: 100%;\">jeu</span> et piocher la carte <span style=\"font-family:Courier New;font-size: 100%;\">carte_depart</span> du dessus<span style=\"font-family:Courier New;font-size: 100%;\"> via la méthode </span>piocher£.<br>\n",
    "Définir un <span style=\"font-family:Courier New;font-size: 100%;\">score_a_battre</span>. Par exemple <span style=\"font-family:Courier New;font-size: 100%;\">score_a_battre = 17</span>.<br>\n",
    "Puis <span style=\"font-family:Courier New;font-size: 100%;\">afficher</span> les cartes renvoyées par la méthode <span style=\"font-family:Courier New;font-size: 100%;\">c.jouer(carte_depart, score_a_battre, jeu)</span><br>\n"
   ]
  },
  {
   "cell_type": "code",
   "execution_count": null,
   "metadata": {},
   "outputs": [],
   "source": [
    "# Test de la méthode jouer du croupier\n",
    "# à compléter"
   ]
  },
  {
   "cell_type": "code",
   "execution_count": null,
   "metadata": {},
   "outputs": [],
   "source": [
    "solution.Croupier()"
   ]
  },
  {
   "cell_type": "markdown",
   "metadata": {},
   "source": [
    "## <u style=\"color:red;\">III. Finalisation:</u> ##\n",
    "La dernière classe que nous allons construire est la classe <span style=\"font-family:Courier New;font-size: 100%;\">BlackJack</span>.<br>\n",
    "Nous allons utiliser toutes les classes définies précédemment et les faire interagir.<br>\n"
   ]
  },
  {
   "cell_type": "code",
   "execution_count": null,
   "metadata": {},
   "outputs": [],
   "source": [
    "class BlackJack:\n",
    "    def __init__(self, nom, argent):\n",
    "        # nom est le nom du joueur et argent l'argent dont disposent joueur et croupier\n",
    "        # définir un attribut joueur : self.joueur est à créer avec la classe Joueur\n",
    "        # définir un attribut jeu : self.jeu est à créer avec la classe JeuDeCartes\n",
    "        # définit un attribut croupier : self.croupier est à créer avec la classe Croupier\n",
    "\n",
    "    def tour_de_jeu(self):\n",
    "        ''' Cette méthode :\n",
    "        pioche deux cartes du jeu : une pour le joueur, une pour le croupier.\n",
    "        Elle demande ensuite une mise valide, c'est à dire :\n",
    "            positive et inférieure ou égale à l'argent du joueur et du croupier\n",
    "        Le joueur demande des cartes, jusqu'à obtenir le score souhaité ou perdre!\n",
    "        On affiche les cartes du joueur et le total à chaque nouvelle carte.\n",
    "        Si le joueur perd, on actualise l'argent de chacun.\n",
    "        Sinon, on fait jouer le croupier, puis on actualise l'argent de chacun en fonction du résultat'''\n",
    "        pass\n",
    "\n",
    "    def partie(self):\n",
    "        '''On utilise la méthode tour_de_jeu tant que les deux joueurs ont encore de l'argent'''\n",
    "        pass\n",
    "\n",
    "# Construction d'une instance de la class BlackJack avec un nom de joueur, et 100 euros de mise de départ.\n",
    "# Puis on lance la partie\n",
    "# à compléter"
   ]
  },
  {
   "cell_type": "code",
   "execution_count": null,
   "metadata": {},
   "outputs": [],
   "source": [
    "solution.BlackJack()"
   ]
  }
 ],
 "metadata": {},
 "nbformat": 4,
 "nbformat_minor": 4
}
