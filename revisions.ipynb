{
 "cells": [
  {
   "cell_type": "code",
   "execution_count": null,
   "metadata": {},
   "outputs": [],
   "source": [
    "from outils import* # Lancer la cellule pour importer les outils nécessaires au notebook."
   ]
  },
  {
   "cell_type": "markdown",
   "metadata": {},
   "source": [
    "# <div style = \"text-align : center;\"><span style=\"border: 2px solid;padding:6px;color:dodgerblue;\">REVISIONS</span></div> #\n",
    "\n",
    "<span style=\"text-decoration: underline;color:blue;\"><strong>Exercice 1:</strong></span><br>\n",
    "1) <span style=\"font-family:Courier New;font-size: 100%;\">ma&#95;liste</span> est une liste non vide d'entiers.<br>\n",
    "Ecrire la fonction <span style=\"font-family:Courier New;font-size: 100%;\">somme(ma&#95;liste)</span> qui renvoie la somme des éléments de <span style=\"font-family:Courier New;font-size: 100%;\">ma&#95;liste</span>.<br>\n",
    "On ajoutera la précondition <span style=\"font-family:Courier New;font-size: 100%;\">ma&#95;liste</span> non vide<br>\n"
   ]
  },
  {
   "cell_type": "code",
   "execution_count": null,
   "metadata": {},
   "outputs": [],
   "source": [
    "# à compléter\n",
    "\n",
    "assert somme([2, 9, 7, 3, 1]) == 22, \"erreur avec [2, 9, 7, 3, 1]\""
   ]
  },
  {
   "cell_type": "code",
   "execution_count": null,
   "metadata": {},
   "outputs": [],
   "source": [
    "solution.somme()"
   ]
  },
  {
   "cell_type": "markdown",
   "metadata": {},
   "source": [
    "2) Comment ajouter la précondition : <span style=\"font-family:Courier New;font-size: 100%;\">ma&#95;liste</span> ne contient que des entiers?<br>\n"
   ]
  },
  {
   "cell_type": "code",
   "execution_count": null,
   "metadata": {},
   "outputs": [],
   "source": [
    "solution.que_entiers()"
   ]
  },
  {
   "cell_type": "markdown",
   "metadata": {},
   "source": [
    "<span style=\"text-decoration: underline;color:blue;\"><strong>Exercice 2:</strong></span><br>\n",
    "1) <span style=\"font-family:Courier New;font-size: 100%;\">ma&#95;liste</span> est une liste non vide d'entiers ou de flottants.<br>\n",
    "<strong>Sans écrire les préconditions</strong>, écrire la fonction <span style=\"font-family:Courier New;font-size: 100%;\">maximum(ma&#95;liste)</span> qui renvoie l'élément de valeur maximale de <span style=\"font-family:Courier New;font-size: 100%;\">ma&#95;liste</span>.<br>\n",
    "Il est évidemment interdit d'utiliser la fonction <span style=\"font-family:Courier New;font-size: 100%;\">max</span> nativement présente dans <i>Python</i>.<br>\n"
   ]
  },
  {
   "cell_type": "code",
   "execution_count": null,
   "metadata": {},
   "outputs": [],
   "source": [
    "# à compléter\n",
    "\n",
    "assert maximum([2, 9, 7, 3, 1]) == 9, \"erreur avec [2, 9, 7, 3, 1]\""
   ]
  },
  {
   "cell_type": "code",
   "execution_count": null,
   "metadata": {},
   "outputs": [],
   "source": [
    "solution.maximum()"
   ]
  },
  {
   "cell_type": "markdown",
   "metadata": {},
   "source": [
    "● Ajoutez à présent les deux préconditions souhaitées.<br>\n"
   ]
  },
  {
   "cell_type": "code",
   "execution_count": null,
   "metadata": {},
   "outputs": [],
   "source": [
    "solution.avec_preconditions()"
   ]
  },
  {
   "cell_type": "markdown",
   "metadata": {},
   "source": [
    "<span style=\"text-decoration: underline;color:blue;\"><strong>Exercice 3:</strong></span><br>\n",
    "Ecrire la fonction <span style=\"font-family:Courier New;font-size: 100%;\">indice(ma&#95;liste)</span> qui renvoie l'<strong>indice</strong> de l'élément de valeur minimale de <span style=\"font-family:Courier New;font-size: 100%;\">ma&#95;liste</span>.<br>\n",
    "On ajoutera la précondition <span style=\"font-family:Courier New;font-size: 100%;\">ma&#95;liste</span> non vide.<br>\n",
    "Les éléments de <span style=\"font-family:Courier New;font-size: 100%;\">ma&#95;liste</span> sont des entiers ou des flottants.<br>\n"
   ]
  },
  {
   "cell_type": "code",
   "execution_count": null,
   "metadata": {},
   "outputs": [],
   "source": [
    "# à compléter\n",
    "\n",
    "assert indice([2, 9, 7, 3, 1]) == 4, \"erreur avec [2, 9, 7, 3, 1]\""
   ]
  },
  {
   "cell_type": "code",
   "execution_count": null,
   "metadata": {},
   "outputs": [],
   "source": [
    "solution.indice()"
   ]
  },
  {
   "cell_type": "markdown",
   "metadata": {},
   "source": [
    "<span style=\"text-decoration: underline;color:blue;\"><strong>Exercice 4:</strong></span><br>\n",
    "On rappelle le principe du <span style=\"color:red;\"><strong>tri sélection</strong></span> d'un tableau <span style=\"font-family:Courier New;font-size: 100%;\">t</span> de taille <span style=\"font-family:Courier New;font-size: 100%;\">n > 0</span>:<br>\n",
    "<code><br>Pour i (index) de 0 à index avant dernier élément<br>&nbsp;&nbsp;&nbsp;&nbsp;On cherche l'index j0 du plus petit élément parmi ceux d'index j >= i<br>&nbsp;&nbsp;&nbsp;&nbsp;Une fois cet index j0 trouvé : on permute t[i] et t[j0]<br></code>"
   ]
  },
  {
   "cell_type": "code",
   "execution_count": null,
   "metadata": {},
   "outputs": [],
   "source": [
    "qcm.index_avant_dernier()"
   ]
  },
  {
   "cell_type": "code",
   "execution_count": null,
   "metadata": {},
   "outputs": [],
   "source": [
    "qcm.parcourir()"
   ]
  },
  {
   "cell_type": "markdown",
   "metadata": {},
   "source": [
    "● Ecrire la procédure <span style=\"font-family:Courier New;font-size: 100%;\">tri&#95;selection(t)</span> qui ordonne des éléments de <span style=\"font-family:Courier New;font-size: 100%;\">t</span> dans l'ordre <strong>croissant</strong>.<br>\n",
    "<span style=\"font-family:Courier New;font-size: 100%;\">t</span> est une liste non-vide d'entiers ou de flottants.<br>\n",
    "Puis vérifiez qu'elle trie bien le tableau <span style=\"font-family:Courier New;font-size: 100%;\">t = [2, 9, 7, 3, 1]</span>.<br>\n"
   ]
  },
  {
   "cell_type": "code",
   "execution_count": null,
   "metadata": {},
   "outputs": [],
   "source": [
    "# à compléter\n",
    "\n",
    "t = [2, 9, 7, 3, 1]"
   ]
  },
  {
   "cell_type": "code",
   "execution_count": null,
   "metadata": {},
   "outputs": [],
   "source": [
    "solution.tri_selection()"
   ]
  },
  {
   "cell_type": "markdown",
   "metadata": {},
   "source": [
    "<span style=\"text-decoration: underline;color:blue;\"><strong>Exercice 6:</strong></span><br>\n",
    "L'objectif de ce dernier exercice est de résoudre le problème de <i>Josephus</i> :<br>\n",
    "<br>\n",
    "<center><video src=\"josephus.mp4\" width=\"600\" height=\"340\" style=\"border:solid 5px #FF0000;text-align:center;\" controls></video></center><br>\n",
    "https://www.youtube.com/watch?v=uCsD3ZGzMgE&t=240s<br>\n",
    "<br>\n",
    "<span style=\"font-family:Courier New;font-size: 100%;\">n</span> soldats étant répartis en forme de cercle, le premier soldat tue le prochain soldat vivant sur le cercle.<br>\n",
    "Et le prochain survivant fait de même. Ainsi de suite jusqu'à ce qu'il ne reste plus qu'un seul soldat.<br>\n",
    "On souhaite écrire une fonction <span style=\"font-family:Courier New;font-size: 100%;\">josephus(n)</span> qui renvoie le numéro du dernier soldat vivant.<br>\n",
    "1) Résoudre ce problème à la main pour les entiers <span style=\"font-family:Courier New;font-size: 100%;\">n</span> de <span style=\"font-family:Courier New;font-size: 100%;\">2</span> à <span style=\"font-family:Courier New;font-size: 100%;\">7</span>.<br>\n",
    "2) Coder la fonction <span style=\"font-family:Courier New;font-size: 100%;\">josephus(n)</span> et vérifier qu'elle renvoie bien les entiers souhaités.<br>\n",
    "3) Quel est le dernier soldat vivant pour <span style=\"font-family:Courier New;font-size: 100%;\">n=41</span>?<br>\n"
   ]
  },
  {
   "cell_type": "code",
   "execution_count": null,
   "metadata": {},
   "outputs": [],
   "source": [
    "# à compléter"
   ]
  },
  {
   "cell_type": "code",
   "execution_count": null,
   "metadata": {},
   "outputs": [],
   "source": [
    "solution.josephus()"
   ]
  }
 ],
 "metadata": {},
 "nbformat": 4,
 "nbformat_minor": 4
}
