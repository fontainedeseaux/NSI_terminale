{
 "cells": [
  {
   "cell_type": "code",
   "execution_count": null,
   "metadata": {},
   "outputs": [],
   "source": [
    "from outils import* # Lancer la cellule pour importer les outils nécessaires au notebook."
   ]
  },
  {
   "cell_type": "markdown",
   "metadata": {},
   "source": [
    "## <div style = \"text-align : center;\"><span style=\"border: 2px solid;padding:6px;color:blue;\">Exercices sur les piles</span></div> ##\n",
    "\n",
    "Dans les exercices qui suivent, un <strong>crayon et un papier</strong> sont indispensables pour répondre aux questions!<br>\n",
    "![alt text](mes_images/crayon_papier.png \"crayon et papier nécessaires!\")\n",
    "### <span style=\"text-decoration: underline;color:green;\">Exercice 1</span> : ###\n",
    "On considère la pile <span style=\"font-family:Courier New;font-size: 100%;\">p = [2, 19, 33, 11, 41]</span> de sommet <span style=\"font-family:Courier New;font-size: 100%;\">41</span>.<br>\n",
    "On dispose des primitives <span style=\"font-family:Courier New;font-size: 100%;\">creer&#95;pile</span>, ainsi que <span style=\"font-family:Courier New;font-size: 100%;\">depiler, empiler</span>, données sous forme de <strong>fonctions</strong> qui peuvent <span style=\"text-decoration: underline;\">agir sur la pile</span>.<br>\n",
    "<br>\n",
    "On réalise successivement les instructions suivantes :<br>\n",
    "&nbsp;&nbsp;&nbsp;&nbsp;&nbsp;&nbsp;&nbsp;&nbsp;<span style=\"font-family:Courier New;font-size: 100%;\">depiler(P)</span><br>\n",
    "&nbsp;&nbsp;&nbsp;&nbsp;&nbsp;&nbsp;&nbsp;&nbsp;<span style=\"font-family:Courier New;font-size: 100%;\">depiler(P)</span><br>\n",
    "&nbsp;&nbsp;&nbsp;&nbsp;&nbsp;&nbsp;&nbsp;&nbsp;<span style=\"font-family:Courier New;font-size: 100%;\">empiler(P, sommet(P))</span><br>\n",
    "&nbsp;&nbsp;&nbsp;&nbsp;&nbsp;&nbsp;&nbsp;&nbsp;<span style=\"font-family:Courier New;font-size: 100%;\">depiler(P)</span><br>\n",
    "&nbsp;&nbsp;&nbsp;&nbsp;&nbsp;&nbsp;&nbsp;&nbsp;<span style=\"font-family:Courier New;font-size: 100%;\">x = depiler(P)</span><br>\n"
   ]
  },
  {
   "cell_type": "code",
   "execution_count": null,
   "metadata": {},
   "outputs": [],
   "source": [
    "question.resultat()"
   ]
  },
  {
   "cell_type": "code",
   "execution_count": null,
   "metadata": {},
   "outputs": [],
   "source": [
    "question.x()"
   ]
  },
  {
   "cell_type": "markdown",
   "metadata": {},
   "source": [
    "### <span style=\"text-decoration: underline;color:green;\">Exercice 2</span> : ###\n",
    "On considère la pile <span style=\"font-family:Courier New;font-size: 100%;\">q = [7, 5]</span>, de sommet <span style=\"font-family:Courier New;font-size: 100%;\">5</span>.<br>\n",
    "On réalise successivement les instructions suivantes :<br>\n",
    "<span style=\"font-family:Courier New;font-size: 100%;\">for k in range(100):</span><br>\n",
    "&nbsp;&nbsp;&nbsp;&nbsp;<span style=\"font-family:Courier New;font-size: 100%;\">empiler(q, 7)</span><br>\n",
    "<span style=\"font-family:Courier New;font-size: 100%;\">for k in range(20):</span><br>\n",
    "&nbsp;&nbsp;&nbsp;&nbsp;<span style=\"font-family:Courier New;font-size: 100%;\">depiler(q)</span><br>\n"
   ]
  },
  {
   "cell_type": "code",
   "execution_count": null,
   "metadata": {},
   "outputs": [],
   "source": [
    "question.combien_de_7()"
   ]
  },
  {
   "cell_type": "markdown",
   "metadata": {},
   "source": [
    "### <span style=\"text-decoration: underline;color:green;\">Exercice 3</span> : ###\n",
    "On redonne le code de la classe <span style=\"font-family:Courier New;font-size: 100%;\">Pile</span> que nous avons déjà crée:<br>\n"
   ]
  },
  {
   "cell_type": "code",
   "execution_count": null,
   "metadata": {},
   "outputs": [],
   "source": [
    "class Pile:\n",
    "    def __init__(self):\n",
    "        self.contenu = [] # création d'une pile vide\n",
    " \n",
    "    def est_vide(self):\n",
    "        '''renvoie True si la pile est vide'''\n",
    "        return self.contenu == []\n",
    "    \n",
    "    def empiler(self, element):\n",
    "        '''empile element dans la pile'''\n",
    "        self.contenu.append(element)\n",
    " \n",
    "    def depiler(self):\n",
    "        '''retire le sommet de pile et renvoie sa valeur'''\n",
    "        if not self.est_vide():\n",
    "            return self.contenu.pop(-1) # retire l'élément d'index -1\n",
    "        else:\n",
    "            print(\"la pile est vide!\")\n",
    "\n",
    "    def __str__(self):\n",
    "        '''affiche le contenu de la pile en vertical'''\n",
    "        if self.est_vide():\n",
    "            return \"pile vide!\"\n",
    "        q = Pile()\n",
    "        resultat = ''\n",
    "        while not self.est_vide():\n",
    "            x = self.depiler()\n",
    "            q.empiler(x)\n",
    "            resultat += str(x) + '\\n'\n",
    "        # on reconstitue la pile :\n",
    "        while not q.est_vide():\n",
    "            x = q.depiler()\n",
    "            self.empiler(x)\n",
    "        return resultat"
   ]
  },
  {
   "cell_type": "markdown",
   "metadata": {},
   "source": [
    "● Ajouter une méthode <span style=\"font-family:Courier New;font-size: 100%;\">renverser(self, n)</span> qui inverse l'ordre des <strong>n premiers éléments</strong> situés en haut de pile.<br>\n",
    "Par exemple, si <span style=\"font-family:Courier New;font-size: 100%;\">p.contenu</span>$=~\\begin{bmatrix}  ~\\\\~\\\\41\\\\11\\\\33\\\\19\\\\2  \\end{bmatrix}$ alors :<br>\n",
    "<br>\n",
    "L'instruction <span style=\"font-family:Courier New;font-size: 100%;\">p.renverser(2)</span> entraine <span style=\"font-family:Courier New;font-size: 100%;\">p.contenu</span>$=~\\begin{bmatrix}  ~\\\\~\\\\11\\\\41\\\\33\\\\19\\\\2  \\end{bmatrix}$<br>\n",
    "<br>\n",
    "Si <span style=\"font-family:Courier New;font-size: 100%;\">n</span> dépasse le nombre d'éléments contenus dans la pile, on inverse l'ordre de tous les éléments de la pile.<br>\n",
    "L'instruction <span style=\"font-family:Courier New;font-size: 100%;\">p.renverser(10)</span> entraine <span style=\"font-family:Courier New;font-size: 100%;\">p.contenu</span>$=~\\begin{bmatrix}  ~\\\\~\\\\2\\\\19\\\\33\\\\11\\\\41  \\end{bmatrix}$<br>\n",
    "<br>\n",
    "Pour coder cette méthode, on <span style=\"text-decoration: underline;\">n'utilisera que les primitives des piles</span> (<span style=\"font-family:Courier New;font-size: 100%;\">creer&#95;pile, empiler, depiler</span>)<br>\n"
   ]
  },
  {
   "cell_type": "code",
   "execution_count": null,
   "metadata": {},
   "outputs": [],
   "source": [
    "solution.renverser()"
   ]
  },
  {
   "cell_type": "markdown",
   "metadata": {},
   "source": [
    "● Ajouter une méthode <span style=\"font-family:Courier New;font-size: 100%;\">intercaler(self, autre&#95;pile)</span>.<br>\n",
    "Si <span style=\"font-family:Courier New;font-size: 100%;\">autre&#95;pile</span> contient <strong>1</strong> élément de moins que la pile, le contenu change en intercalant un élément de <span style=\"font-family:Courier New;font-size: 100%;\">autre&#95;pile</span> entre deux éléments de la pile.<br>\n",
    "Exemple :<br>\n",
    "si :<br>\n",
    "&nbsp;&nbsp;&nbsp;&nbsp;&nbsp;&nbsp;&nbsp;&nbsp;→ <span style=\"font-family:Courier New;font-size: 100%;\">p.contenu</span>$=~\\begin{bmatrix}  ~\\\\~\\\\5\\\\3\\\\1  \\end{bmatrix}$ <br>\n",
    "<br>\n",
    "&nbsp;&nbsp;&nbsp;&nbsp;&nbsp;&nbsp;&nbsp;&nbsp;→ <span style=\"font-family:Courier New;font-size: 100%;\">q.contenu</span>$=~\\begin{bmatrix}  ~\\\\~\\\\4\\\\2  \\end{bmatrix}$<br>\n",
    "alors <span style=\"font-family:Courier New;font-size: 100%;\">p.intercaler(q)</span> entraîne <span style=\"font-family:Courier New;font-size: 100%;\">p.contenu</span>$=~\\begin{bmatrix}  ~\\\\~\\\\5\\\\4\\\\3\\\\2\\\\1  \\end{bmatrix}$<br>\n",
    "<br>\n",
    "Si <span style=\"font-family:Courier New;font-size: 100%;\">autre&#95;pile</span> ne contient pas <strong>1</strong> élément de moins que la pile rien n'est fait.<br>\n",
    "<br>\n",
    "Pour coder cette méthode, on <span style=\"text-decoration: underline;\">n'utilisera que les <strong>primitives</strong> des piles</span> (<span style=\"font-family:Courier New;font-size: 100%;\">creer&#95;pile, empiler, depiler, est&#95;vide</span>)<br>\n"
   ]
  },
  {
   "cell_type": "code",
   "execution_count": null,
   "metadata": {},
   "outputs": [],
   "source": [
    "solution.intercaler()"
   ]
  }
 ],
 "metadata": {},
 "nbformat": 4,
 "nbformat_minor": 4
}
