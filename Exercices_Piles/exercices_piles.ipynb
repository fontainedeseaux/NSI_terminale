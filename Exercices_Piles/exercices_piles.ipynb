{
 "cells": [
  {
   "cell_type": "code",
   "execution_count": 1,
   "metadata": {},
   "outputs": [],
   "source": [
    "from outils import* # Lancer la cellule pour importer les outils nécessaires au notebook."
   ]
  },
  {
   "cell_type": "markdown",
   "metadata": {},
   "source": [
    "## <div style = \"text-align : center;\"><span style=\"border: 2px solid;padding:6px;color:blue;\">Exercices sur les piles</span></div> ##\n",
    "\n",
    "Dans les exercices qui suivent, un <strong>crayon et un papier</strong> sont indispensables pour répondre aux questions!<br>\n",
    "![alt text](mes_images/crayon_papier.png \"crayon et papier nécessaires!\")\n",
    "### <span style=\"text-decoration: underline;color:green;\">Exercice 1</span> : ###\n",
    "On considère la pile <span style=\"font-family:Courier New;font-size: 100%;\">p = [2, 19, 33, 11, 41]</span> de sommet <span style=\"font-family:Courier New;font-size: 100%;\">41</span>.<br>\n",
    "On dispose des primitives <span style=\"font-family:Courier New;font-size: 100%;\">creer&#95;pile</span>, ainsi que <span style=\"font-family:Courier New;font-size: 100%;\">depiler, empiler</span>, données sous forme de <strong>fonctions</strong> qui peuvent <span style=\"text-decoration: underline;\">agir sur la pile</span>.<br>\n",
    "<br>\n",
    "On réalise successivement les instructions suivantes :<br>\n",
    "&nbsp;&nbsp;&nbsp;&nbsp;&nbsp;&nbsp;&nbsp;&nbsp;<span style=\"font-family:Courier New;font-size: 100%;\">depiler(P)</span><br>\n",
    "&nbsp;&nbsp;&nbsp;&nbsp;&nbsp;&nbsp;&nbsp;&nbsp;<span style=\"font-family:Courier New;font-size: 100%;\">depiler(P)</span><br>\n",
    "&nbsp;&nbsp;&nbsp;&nbsp;&nbsp;&nbsp;&nbsp;&nbsp;<span style=\"font-family:Courier New;font-size: 100%;\">empiler(P, sommet(P))</span><br>\n",
    "&nbsp;&nbsp;&nbsp;&nbsp;&nbsp;&nbsp;&nbsp;&nbsp;<span style=\"font-family:Courier New;font-size: 100%;\">depiler(P)</span><br>\n",
    "&nbsp;&nbsp;&nbsp;&nbsp;&nbsp;&nbsp;&nbsp;&nbsp;<span style=\"font-family:Courier New;font-size: 100%;\">x = depiler(P)</span><br>\n"
   ]
  },
  {
   "cell_type": "code",
   "execution_count": null,
   "metadata": {},
   "outputs": [],
   "source": [
    "question.resultat()"
   ]
  },
  {
   "cell_type": "code",
   "execution_count": null,
   "metadata": {},
   "outputs": [],
   "source": [
    "question.x()"
   ]
  },
  {
   "cell_type": "markdown",
   "metadata": {},
   "source": [
    "### <span style=\"text-decoration: underline;color:green;\">Exercice 2</span> : ###\n",
    "On considère la pile <span style=\"font-family:Courier New;font-size: 100%;\">q = [7, 5]</span>, de sommet <span style=\"font-family:Courier New;font-size: 100%;\">5</span>.<br>\n",
    "On réalise successivement les instructions suivantes :<br>\n",
    "<span style=\"font-family:Courier New;font-size: 100%;\">for k in range(100):</span><br>\n",
    "&nbsp;&nbsp;&nbsp;&nbsp;<span style=\"font-family:Courier New;font-size: 100%;\">empiler(q, 7)</span><br>\n",
    "<span style=\"font-family:Courier New;font-size: 100%;\">for k in range(20):</span><br>\n",
    "&nbsp;&nbsp;&nbsp;&nbsp;<span style=\"font-family:Courier New;font-size: 100%;\">depiler(q)</span><br>\n"
   ]
  },
  {
   "cell_type": "code",
   "execution_count": null,
   "metadata": {},
   "outputs": [],
   "source": [
    "question.combien_de_7()"
   ]
  },
  {
   "cell_type": "markdown",
   "metadata": {},
   "source": [
    "### <span style=\"text-decoration: underline;color:green;\">Exercice 3</span> : ###\n",
    "On redonne le code de la classe <span style=\"font-family:Courier New;font-size: 100%;\">Pile</span> que nous avons déjà crée:<br>\n"
   ]
  },
  {
   "cell_type": "code",
   "execution_count": 31,
   "metadata": {},
   "outputs": [
    {
     "name": "stdout",
     "output_type": "stream",
     "text": [
      "None\n",
      "6\n",
      "4\n",
      "2\n",
      "\n"
     ]
    }
   ],
   "source": [
    "class Pile:\n",
    "    def __init__(self):\n",
    "        self.contenu = [] # création d'une pile vide\n",
    " \n",
    "    def est_vide(self):\n",
    "        '''renvoie True si la pile est vide'''\n",
    "        return self.contenu == []\n",
    "    \n",
    "    def empiler(self, element):\n",
    "        '''empile element dans la pile'''\n",
    "        self.contenu.append(element)\n",
    " \n",
    "    def depiler(self):\n",
    "        '''retire le sommet de pile et renvoie sa valeur'''\n",
    "        if not self.est_vide():\n",
    "            return self.contenu.pop(-1) # retire l'élément d'index -1\n",
    "\n",
    "\n",
    "    def __str__(self):\n",
    "        '''affiche le contenu de la pile en vertical'''\n",
    "        if self.est_vide():\n",
    "            return \"pile vide!\"\n",
    "        q = Pile()\n",
    "        resultat = ''\n",
    "        while not self.est_vide():\n",
    "            x = self.depiler()\n",
    "            q.empiler(x)\n",
    "            resultat += str(x) + '\\n'\n",
    "        # on reconstitue la pile :\n",
    "        while not q.est_vide():\n",
    "            x = q.depiler()\n",
    "            self.empiler(x)\n",
    "        return resultat\n",
    "\n",
    "    def intercaler(self, autre_pile):\n",
    "        assert not self.est_vide(), \"Il ne faut pas une pile vide!\"\n",
    "        '''intercale un element de autre_pile entre deux elements de la pile'''\n",
    "        # on cree une nouvelle pile :\n",
    "        p = Pile() # transfert self\n",
    "        # on depile le sommet pour avoir le meme nb d'elements dans chaque pile\n",
    "        p.empiler(self.depiler())\n",
    "        # Normalement, self et autre_pile ont le même nombre d'éléments, ce qu'on va vérifier en sortie de while\n",
    "        while not self.est_vide() and not autre_pile.est_vide(): # tant que l'une ou l'autre des piles n'est pas vide\n",
    "            p.empiler(autre_pile.depiler())\n",
    "            p.empiler(self.depiler())\n",
    "        # On vérifie à présent que les deux piles sont bien vides. Si c'est le cas, on réempile dans self\n",
    "        if self.est_vide() and autre_pile.est_vide(): #  # autre_pile a exactement un élément de moins que self\n",
    "            # On empile a present un element sur deux :\n",
    "            \n",
    "            while not p.est_vide():\n",
    "                self.empiler(p.depiler())\n",
    "            \n",
    "        else:\n",
    "            # autre_pile n'a pas exactement un élément de moins que self. \n",
    "            # On réempile dans self et autre_pile pour ne rien modifier\n",
    "            while not p.est_vide():\n",
    "                self.empiler(p.depiler())\n",
    "                autre_pile.empiler(p.depiler())\n",
    "    \n",
    "p1 = Pile()\n",
    "p1.empiler(1)\n",
    "p1.empiler(3)\n",
    "p1.empiler(5)\n",
    "\n",
    "p2 = Pile()\n",
    "p2.empiler(2)\n",
    "p2.empiler(4)\n",
    "p2.empiler(6)\n",
    "\n",
    "p1.intercaler(p2)\n",
    "print(p2)\n",
    "\n",
    "\n",
    "                \n",
    "                "
   ]
  },
  {
   "cell_type": "markdown",
   "metadata": {},
   "source": [
    "● Ajouter une méthode <span style=\"font-family:Courier New;font-size: 100%;\">renverser(self, n)</span> qui inverse l'ordre des <strong>n premiers éléments</strong> situés en haut de pile.<br>\n",
    "Par exemple, si <span style=\"font-family:Courier New;font-size: 100%;\">p.contenu</span>$=~\\begin{bmatrix}  ~\\\\~\\\\41\\\\11\\\\33\\\\19\\\\2  \\end{bmatrix}$ alors :<br>\n",
    "<br>\n",
    "L'instruction <span style=\"font-family:Courier New;font-size: 100%;\">p.renverser(2)</span> entraine <span style=\"font-family:Courier New;font-size: 100%;\">p.contenu</span>$=~\\begin{bmatrix}  ~\\\\~\\\\11\\\\41\\\\33\\\\19\\\\2  \\end{bmatrix}$<br>\n",
    "<br>\n",
    "Si <span style=\"font-family:Courier New;font-size: 100%;\">n</span> dépasse le nombre d'éléments contenus dans la pile, on inverse l'ordre de tous les éléments de la pile.<br>\n",
    "L'instruction <span style=\"font-family:Courier New;font-size: 100%;\">p.renverser(10)</span> entraine <span style=\"font-family:Courier New;font-size: 100%;\">p.contenu</span>$=~\\begin{bmatrix}  ~\\\\~\\\\2\\\\19\\\\33\\\\11\\\\41  \\end{bmatrix}$<br>\n",
    "<br>\n",
    "Pour coder cette méthode, on <span style=\"text-decoration: underline;\">n'utilisera que les primitives des piles</span> (<span style=\"font-family:Courier New;font-size: 100%;\">creer&#95;pile, empiler, depiler</span>)<br>\n"
   ]
  },
  {
   "cell_type": "code",
   "execution_count": null,
   "metadata": {},
   "outputs": [],
   "source": [
    "solution.renverser()"
   ]
  },
  {
   "cell_type": "markdown",
   "metadata": {},
   "source": [
    "● Ajouter une méthode <span style=\"font-family:Courier New;font-size: 100%;\">intercaler(self, autre&#95;pile)</span>.<br>\n",
    "Si <span style=\"font-family:Courier New;font-size: 100%;\">autre&#95;pile</span> contient <strong>1</strong> élément de moins que la pile, le contenu change en intercalant un élément de <span style=\"font-family:Courier New;font-size: 100%;\">autre&#95;pile</span> entre deux éléments de la pile.<br>\n",
    "Exemple :<br>\n",
    "si :<br>\n",
    "&nbsp;&nbsp;&nbsp;&nbsp;&nbsp;&nbsp;&nbsp;&nbsp;→ <span style=\"font-family:Courier New;font-size: 100%;\">p.contenu</span>$=~\\begin{bmatrix}  ~\\\\~\\\\5\\\\3\\\\1  \\end{bmatrix}$ <br>\n",
    "<br>\n",
    "&nbsp;&nbsp;&nbsp;&nbsp;&nbsp;&nbsp;&nbsp;&nbsp;→ <span style=\"font-family:Courier New;font-size: 100%;\">q.contenu</span>$=~\\begin{bmatrix}  ~\\\\~\\\\4\\\\2  \\end{bmatrix}$<br>\n",
    "alors <span style=\"font-family:Courier New;font-size: 100%;\">p.intercaler(q)</span> entraîne <span style=\"font-family:Courier New;font-size: 100%;\">p.contenu</span>$=~\\begin{bmatrix}  ~\\\\~\\\\5\\\\4\\\\3\\\\2\\\\1  \\end{bmatrix}$<br>\n",
    "<br>\n",
    "Si <span style=\"font-family:Courier New;font-size: 100%;\">autre&#95;pile</span> ne contient pas <strong>1</strong> élément de moins que la pile rien n'est fait.<br>\n",
    "<br>\n",
    "Pour coder cette méthode, on <span style=\"text-decoration: underline;\">n'utilisera que les <strong>primitives</strong> des piles</span> (<span style=\"font-family:Courier New;font-size: 100%;\">creer&#95;pile, empiler, depiler, est&#95;vide</span>)<br>\n"
   ]
  },
  {
   "cell_type": "code",
   "execution_count": 2,
   "metadata": {},
   "outputs": [
    {
     "data": {
      "application/vnd.jupyter.widget-view+json": {
       "model_id": "081bd2f705104d428c28b54ae3c1b045",
       "version_major": 2,
       "version_minor": 0
      },
      "text/plain": [
       "VBox(children=(Button(description='REPONSE', style=ButtonStyle()),))"
      ]
     },
     "metadata": {},
     "output_type": "display_data"
    },
    {
     "data": {
      "text/markdown": [
       "● Dans ce qui suit, on part du principe que <span style=\"font-family:Courier New;font-size: 100%;\">autre&#95;pile</span> a un élément de moins que la pile.<br>\n",
       "Voici un code possible pour la méthode <span style=\"font-family:Courier New;font-size: 100%;\">intercaler</span> :<br><br>\n",
       "&nbsp;&nbsp;&nbsp;&nbsp;<span style=\"font-family:Courier New;font-size: 100%;\">def intercaler(self, autre&#95;pile):</span><br>\n",
       "&nbsp;&nbsp;&nbsp;&nbsp;&nbsp;&nbsp;&nbsp;&nbsp;<span style=\"font-family:Courier New;font-size: 100%;\">assert not self.est&#95;vide(), \"Il ne faut pas une pile vide!\"</span><br>\n",
       "&nbsp;&nbsp;&nbsp;&nbsp;&nbsp;&nbsp;&nbsp;&nbsp;<span style=\"font-family:Courier New;font-size: 100%;\">'''intercale un element de autre&#95;pile entre deux elements de la pile'''</span><br>\n",
       "&nbsp;&nbsp;&nbsp;&nbsp;&nbsp;&nbsp;&nbsp;&nbsp;<span style=\"font-family:Courier New;font-size: 100%;\"># on cree deux nouvelles piles :</span><br>\n",
       "&nbsp;&nbsp;&nbsp;&nbsp;&nbsp;&nbsp;&nbsp;&nbsp;<span style=\"font-family:Courier New;font-size: 100%;\">q = Pile() # transfert self</span><br>\n",
       "&nbsp;&nbsp;&nbsp;&nbsp;&nbsp;&nbsp;&nbsp;&nbsp;<span style=\"font-family:Courier New;font-size: 100%;\">r = Pile() # tranfert autre&#95;pile</span><br>\n",
       "&nbsp;&nbsp;&nbsp;&nbsp;&nbsp;&nbsp;&nbsp;&nbsp;<span style=\"font-family:Courier New;font-size: 100%;\"># on depile le sommet pour avoir le meme nb d'elements dans chaque pile</span><br>\n",
       "&nbsp;&nbsp;&nbsp;&nbsp;&nbsp;&nbsp;&nbsp;&nbsp;<span style=\"font-family:Courier New;font-size: 100%;\">s = self.depiler()</span><br>\n",
       "&nbsp;&nbsp;&nbsp;&nbsp;&nbsp;&nbsp;&nbsp;&nbsp;<span style=\"font-family:Courier New;font-size: 100%;\">q.empiler(s)</span><br>\n",
       "&nbsp;&nbsp;&nbsp;&nbsp;&nbsp;&nbsp;&nbsp;&nbsp;<span style=\"font-family:Courier New;font-size: 100%;\">while not self.est&#95;vide():</span><br>\n",
       "&nbsp;&nbsp;&nbsp;&nbsp;&nbsp;&nbsp;&nbsp;&nbsp;&nbsp;&nbsp;&nbsp;&nbsp;<span style=\"font-family:Courier New;font-size: 100%;\">x = self.depiler()</span><br>\n",
       "&nbsp;&nbsp;&nbsp;&nbsp;&nbsp;&nbsp;&nbsp;&nbsp;&nbsp;&nbsp;&nbsp;&nbsp;<span style=\"font-family:Courier New;font-size: 100%;\">y = autre&#95;pile.depiler()</span><br>\n",
       "&nbsp;&nbsp;&nbsp;&nbsp;&nbsp;&nbsp;&nbsp;&nbsp;&nbsp;&nbsp;&nbsp;&nbsp;<span style=\"font-family:Courier New;font-size: 100%;\">q.empiler(x)</span><br>\n",
       "&nbsp;&nbsp;&nbsp;&nbsp;&nbsp;&nbsp;&nbsp;&nbsp;&nbsp;&nbsp;&nbsp;&nbsp;<span style=\"font-family:Courier New;font-size: 100%;\">r.empiler(y)</span><br>\n",
       "&nbsp;&nbsp;&nbsp;&nbsp;&nbsp;&nbsp;&nbsp;&nbsp;<span style=\"font-family:Courier New;font-size: 100%;\"># On empile a present un element sur deux :</span><br>\n",
       "&nbsp;&nbsp;&nbsp;&nbsp;&nbsp;&nbsp;&nbsp;&nbsp;<span style=\"font-family:Courier New;font-size: 100%;\">while not r.est&#95;vide():</span><br>\n",
       "&nbsp;&nbsp;&nbsp;&nbsp;&nbsp;&nbsp;&nbsp;&nbsp;&nbsp;&nbsp;&nbsp;&nbsp;<span style=\"font-family:Courier New;font-size: 100%;\">x = q.depiler()</span><br>\n",
       "&nbsp;&nbsp;&nbsp;&nbsp;&nbsp;&nbsp;&nbsp;&nbsp;&nbsp;&nbsp;&nbsp;&nbsp;<span style=\"font-family:Courier New;font-size: 100%;\">self.empiler(x)</span><br>\n",
       "&nbsp;&nbsp;&nbsp;&nbsp;&nbsp;&nbsp;&nbsp;&nbsp;&nbsp;&nbsp;&nbsp;&nbsp;<span style=\"font-family:Courier New;font-size: 100%;\">y = r.depiler()</span><br>\n",
       "&nbsp;&nbsp;&nbsp;&nbsp;&nbsp;&nbsp;&nbsp;&nbsp;&nbsp;&nbsp;&nbsp;&nbsp;<span style=\"font-family:Courier New;font-size: 100%;\">autre&#95;pile.empiler(y) # reconstitution autre&#95;pile</span><br>\n",
       "&nbsp;&nbsp;&nbsp;&nbsp;&nbsp;&nbsp;&nbsp;&nbsp;&nbsp;&nbsp;&nbsp;&nbsp;<span style=\"font-family:Courier New;font-size: 100%;\">self.empiler(y)</span><br>\n",
       "&nbsp;&nbsp;&nbsp;&nbsp;&nbsp;&nbsp;&nbsp;&nbsp;<span style=\"font-family:Courier New;font-size: 100%;\">self.empiler(s) # on empile le sommet depile au debut</span><br>\n",
       "<br><br>\n",
       "<span style=\"font-family:Courier New;font-size: 100%;\">p = Pile()</span><br>\n",
       "<span style=\"font-family:Courier New;font-size: 100%;\">p.empiler(1)</span><br>\n",
       "<span style=\"font-family:Courier New;font-size: 100%;\">p.empiler(3)</span><br>\n",
       "<span style=\"font-family:Courier New;font-size: 100%;\">p.empiler(5)</span><br>\n",
       "<span style=\"font-family:Courier New;font-size: 100%;\">print(\"p:\")</span><br>\n",
       "<span style=\"font-family:Courier New;font-size: 100%;\">print(p)</span><br>\n",
       "<span style=\"font-family:Courier New;font-size: 100%;\">print(50&#42;\"#\")</span><br>\n",
       "<br><br>\n",
       "<span style=\"font-family:Courier New;font-size: 100%;\">q = Pile()</span><br>\n",
       "<span style=\"font-family:Courier New;font-size: 100%;\">q.empiler(2)</span><br>\n",
       "<span style=\"font-family:Courier New;font-size: 100%;\">q.empiler(4)</span><br>\n",
       "<span style=\"font-family:Courier New;font-size: 100%;\">print(\"q:\")</span><br>\n",
       "<span style=\"font-family:Courier New;font-size: 100%;\">print(q)</span><br>\n",
       "<span style=\"font-family:Courier New;font-size: 100%;\">print(50&#42;\"#\")</span><br>\n",
       "<br><br>\n",
       "<span style=\"font-family:Courier New;font-size: 100%;\">p.intercaler(q)</span><br>\n",
       "<span style=\"font-family:Courier New;font-size: 100%;\">print(p)</span><br>\n"
      ],
      "text/plain": [
       "<IPython.core.display.Markdown object>"
      ]
     },
     "metadata": {},
     "output_type": "display_data"
    }
   ],
   "source": [
    "solution.intercaler()"
   ]
  }
 ],
 "metadata": {
  "kernelspec": {
   "display_name": "Python 3 (ipykernel)",
   "language": "python",
   "name": "python3"
  },
  "language_info": {
   "codemirror_mode": {
    "name": "ipython",
    "version": 3
   },
   "file_extension": ".py",
   "mimetype": "text/x-python",
   "name": "python",
   "nbconvert_exporter": "python",
   "pygments_lexer": "ipython3",
   "version": "3.8.8"
  }
 },
 "nbformat": 4,
 "nbformat_minor": 4
}
