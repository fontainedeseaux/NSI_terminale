{
 "cells": [
  {
   "cell_type": "code",
   "execution_count": null,
   "metadata": {},
   "outputs": [],
   "source": [
    "from outils import* # import des outils nécessaires au notebook"
   ]
  },
  {
   "cell_type": "markdown",
   "metadata": {},
   "source": [
    "# <div style = \"text-align : center;\"><span style=\"border: 2px solid;padding:6px;color:dodgerblue;\">Structure de Pile</span></div> #\n",
    "\n",
    "## <span style=\"text-decoration: underline;color:red;\">I. Généralités :</span> ##\n",
    "### <span style=\"text-decoration: underline;color:green;\">1. Définition :</span> ###\n",
    "● La <strong>pile</strong> (<strong>stack</strong> en anglais) est une structure <strong>abstraite</strong> essentielle en informatique.<br>\n",
    "Abstraite en ce sens qu'on la définit <strong>mathématiquement, indépendamment de tout langage de programmation</strong>.<br>\n",
    "Et qu'on peut ensuite la modéliser et la programmer (= <i>implémenter</i>) de différentes façons.<br>\n",
    "<br>\n",
    "● La structure de pile permet de <strong>stocker des éléments</strong> <span style=\"text-decoration: underline;\">de même nature</span>, en les <strong>empilant en mémoire</strong>.<br>\n",
    "<br><span style=\"border: 2px solid;padding:6px;\">Il est seulement possible de manipuler <u>le dernier élément empilé</u>.</span><br>\n",
    "<br>On peut se la représenter mentalement comme une pile d'assiettes :<br>\n",
    "![alt text](mes_images/pile_assiettes.png \"représentation d'une pile\")<br>\n",
    "● Les piles sont basées sur le principe <strong>LIFO</strong> : <strong>L</strong>ast <strong>I</strong>n <strong>F</strong>irst <strong>O</strong>ut (dernier arrivé, premier sorti).<br>\n",
    "C'exactement ce qui se passe quand on empile des assiettes : la <strong>dernière</strong> assiette empilée est la <strong>première</strong> que l'on reprend.<br>\n",
    "Le sommet de la pile porte le nom de <strong>top</strong> en anglais.<br>\n",
    "<br>\n",
    "● Voici les <strong>primitives</strong>, c'est à dire les <span style=\"text-decoration: underline;\">fonctionnalités de base</span> d'une pile :<br>\n",
    "Pour utiliser une pile <span style=\"font-family:Courier New;font-size: 100%;\">P</span>, il est nécessaire :<br>\n",
    "&nbsp;&nbsp;&nbsp;&nbsp;&nbsp;&nbsp;&nbsp;&nbsp;→ de savoir la <strong>créer</strong>, initialement vide.<br>\n",
    "&nbsp;&nbsp;&nbsp;&nbsp;&nbsp;&nbsp;&nbsp;&nbsp;→ de pouvoir y <strong>empiler</strong> un nouvel élément. Ce qui modifie sa taille et définit un nouveau sommet.<br>\n",
    "&nbsp;&nbsp;&nbsp;&nbsp;&nbsp;&nbsp;&nbsp;&nbsp;→ de pouvoir <strong>depiler</strong> P : ce qui <strong>renvoie</strong> et supprime le sommet de la pile. Donc modifie sa taille et définit un nouveau sommet.<br>\n",
    "&nbsp;&nbsp;&nbsp;&nbsp;&nbsp;&nbsp;&nbsp;&nbsp;→ Enfin, il faut savoir au gré des manipulations si la pile <strong>est vide</strong> à l'aide d'un booléen <span style=\"font-family:Courier New;font-size: 100%;\">True</span> ou <span style=\"font-family:Courier New;font-size: 100%;\">False</span><br>\n"
   ]
  },
  {
   "cell_type": "code",
   "execution_count": null,
   "metadata": {},
   "outputs": [],
   "source": [
    "question.modifiable()"
   ]
  },
  {
   "cell_type": "markdown",
   "metadata": {},
   "source": [
    "● D’autres fonctionnalités peuvent être ajoutées par la suite en fonction des besoins <br>\n",
    "&nbsp;&nbsp;&nbsp;&nbsp;&nbsp;&nbsp;&nbsp;&nbsp;→ consulter le dernier élément <strong>sans le dépiler</strong><br>\n",
    "&nbsp;&nbsp;&nbsp;&nbsp;&nbsp;&nbsp;&nbsp;&nbsp;→ connaitre le nombre d’éléments de la pile<br>\n",
    "&nbsp;&nbsp;&nbsp;&nbsp;&nbsp;&nbsp;&nbsp;&nbsp;→ etc.<br>\n",
    "<br>\n",
    "● Voici un premier exemple de création et d'évolution d'une pile <span style=\"font-family:Courier New;font-size: 100%;\">P</span> en utilisant les primitives précédemment définies :<br>\n",
    "![alt text](mes_images/exemple.png)<br>\n"
   ]
  },
  {
   "cell_type": "code",
   "execution_count": null,
   "metadata": {},
   "outputs": [],
   "source": [
    "qcm.debut()"
   ]
  },
  {
   "cell_type": "code",
   "execution_count": null,
   "metadata": {},
   "outputs": [],
   "source": [
    "qcm.milieu()"
   ]
  },
  {
   "cell_type": "code",
   "execution_count": null,
   "metadata": {},
   "outputs": [],
   "source": [
    "question.fin()"
   ]
  },
  {
   "cell_type": "markdown",
   "metadata": {},
   "source": [
    "● La structure de pile est parfois présente sans que l'on s'en rende compte!<br>\n",
    "<br>\n",
    "→ Lorsqu'on visite des pages Web en cliquant sur des liens successifs, les pages sont <strong>empilées</strong> dans l'historique.<br>\n",
    "En cliquant sur page précédente, on dépile ces pages pour revenir en arrière.<br>\n",
    "![alt text](mes_images/page_precedente.png \"pile des pages visitées\")<br>\n",
    "→ Lorsqu'on code dans un éditeur, les lignes de codes écrites sont empilées, et dépilées successivement lorsqu'on annule les dernières actions par appui sur Ctrl Z!<br>\n",
    "![alt text](mes_images/ctrlz.png \"pile des pages visitées\")\n",
    "### <span style=\"text-decoration: underline;color:green;\">2. Un autre exemple :</span> ###\n",
    "Considérons une pile <span style=\"font-family:Courier New;font-size: 100%;\">P</span> composée des éléments suivants : <span style=\"font-family:Courier New;font-size: 100%;\">11, 17, 5, 1, 19</span> et <span style=\"font-family:Courier New;font-size: 100%;\">29</span>.<br>\n",
    "La représentation mentale qu'on peut en avoir est :<br>\n",
    "![alt text](mes_images/pile_exemple.png \"représentation\")<br>\n",
    "● Nous allons <strong>successivement</strong> effectuer des instructions et observer l'évolution de la pile.<br>\n"
   ]
  },
  {
   "cell_type": "code",
   "execution_count": null,
   "metadata": {},
   "outputs": [],
   "source": [
    "qcm.depiler()"
   ]
  },
  {
   "cell_type": "code",
   "execution_count": null,
   "metadata": {},
   "outputs": [],
   "source": [
    "qcm.empiler()"
   ]
  },
  {
   "cell_type": "code",
   "execution_count": null,
   "metadata": {},
   "outputs": [],
   "source": [
    "qcm.est_vide()"
   ]
  },
  {
   "cell_type": "markdown",
   "metadata": {},
   "source": [
    "## <span style=\"text-decoration: underline;color:red;\">II. Implémentation en python :</span> ##\n",
    "Nous allons utiliser la POO pour proposer une première implémentation possible de pile en python.<br>\n",
    "Cette première modélisation utilise les listes python.<br>\n",
    "Ce n'est pas idéal, car les listes python sont des objets très puissants déjà programmés.<br>\n",
    "Nous ne les utiliserons d'ailleurs <strong>que pour définir les primitives</strong>.<br>\n",
    "Plus tard dans l'année, nous construirons une classe <span style=\"font-family:Courier New;font-size: 100%;\">Pile</span> intégralement.\n",
    "### <span style=\"text-decoration: underline;color:green;\">1. A l'aide de l'objet <span style=\"font-family:Courier New;font-size: 100%;\">list</span> :</span> ###\n",
    "Complétez le code de classe <span style=\"font-family:Courier New;font-size: 100%;\">Pile</span>.<br>\n",
    "Puis <strong>à l'aide des primitives</strong> correspondant aux méthodes, construire la pile proposée en exemple 2.<br>\n"
   ]
  },
  {
   "cell_type": "code",
   "execution_count": null,
   "metadata": {},
   "outputs": [],
   "source": [
    "class Pile:\n",
    "    ''' utilisation des listes python autorisée seulement pour les primitives'''\n",
    "    def __init__(self):\n",
    "        self.contenu = [] # création d'une pile vide\n",
    " \n",
    "    def est_vide(self):\n",
    "        '''renvoie True si la pile est vide'''\n",
    "        pass\n",
    "    \n",
    "    def empiler(self, element):\n",
    "        '''empile element dans la pile'''\n",
    "        pass\n",
    " \n",
    "    def depiler(self):\n",
    "        '''retire le sommet de pile et renvoie sa valeur'''\n",
    "        pass\n",
    "    \n",
    "        ######### listes python interdites pour les méthodes suivantes ######### \n",
    "\n",
    "# Construire la pile présentée en exemple :\n",
    "# à compléter"
   ]
  },
  {
   "cell_type": "code",
   "execution_count": null,
   "metadata": {},
   "outputs": [],
   "source": [
    "solution.class_Pile()"
   ]
  },
  {
   "cell_type": "markdown",
   "metadata": {},
   "source": [
    "● On souhaite réécrire la méthode <span style=\"font-family:Courier New;font-size: 100%;\">&#95;&#95;str&#95;&#95;</span> de façon à ce que <span style=\"font-family:Courier New;font-size: 100%;\">print(p)</span> affiche le <span style=\"font-family:Courier New;font-size: 100%;\">contenu</span> de la pile <span style=\"font-family:Courier New;font-size: 100%;\">p</span> <strong>verticalement</strong> :<br>\n",
    "<span style=\"font-family:Courier New;font-size: 100%;\">30</span><br>\n",
    "<span style=\"font-family:Courier New;font-size: 100%;\">19</span><br>\n",
    "<span style=\"font-family:Courier New;font-size: 100%;\">1</span><br>\n",
    "<span style=\"font-family:Courier New;font-size: 100%;\">5</span><br>\n",
    "<span style=\"font-family:Courier New;font-size: 100%;\">17</span><br>\n",
    "<span style=\"font-family:Courier New;font-size: 100%;\">11</span><br>\n",
    "<br>\n",
    "Si la pile est vide, on renverra <span style=\"font-family:Courier New;font-size: 100%;\">\"pile vide!\"</span>.<br>\n",
    "Sinon, on rappelle que la chaine <span style=\"font-family:Courier New;font-size: 100%;\">\"\\\\n\"</span> permet un retour à la ligne.<br>\n",
    "<br>\n",
    "⚠️  <strong>En n'utilisant que les primitives des piles</strong>, ajouter cette méthode. <br>\n",
    "<br>\n",
    "C'est à dire qu'on n'utilisera pas <span style=\"font-family:Courier New;font-size: 100%;\">self.contenu</span>, puisque <span style=\"text-decoration: underline;\">seul le sommet de pile est accessible</span>.<br>\n"
   ]
  },
  {
   "cell_type": "code",
   "execution_count": null,
   "metadata": {},
   "outputs": [],
   "source": [
    "solution.afficher()"
   ]
  },
  {
   "cell_type": "markdown",
   "metadata": {},
   "source": [
    "<span style=\"text-decoration: underline;\"><i>Amélioration possible :</i></span><br>\n",
    "Une fois le notebook terminé...<br>\n",
    "Faîtes en sorte que les entiers contenus dans la pile soient <strong>alignés en leur centre</strong> si les entiers n'ont pas le même nombre de chiffres.<br>\n",
    "<span style=\"font-family:Courier New;font-size: 100%;\">&nbsp;&nbsp;7</span><br>\n",
    "<span style=\"font-family:Courier New;font-size: 100%;\">&nbsp;223</span><br>\n",
    "<span style=\"font-family:Courier New;font-size: 100%;\">&nbsp;&nbsp;1</span><br>\n",
    "<span style=\"font-family:Courier New;font-size: 100%;\">21865</span><br>\n",
    "<span style=\"font-family:Courier New;font-size: 100%;\">&nbsp;&nbsp;94</span><br>\n",
    "<br>\n",
    "● test de la méthode <span style=\"font-family:Courier New;font-size: 100%;\">depiler</span> :<br>\n"
   ]
  },
  {
   "cell_type": "code",
   "execution_count": null,
   "metadata": {},
   "outputs": [],
   "source": [
    "x = p.depiler()\n",
    "assert x == 30, \"la valeur du sommet dépilé n'est pas 30\""
   ]
  },
  {
   "cell_type": "markdown",
   "metadata": {},
   "source": [
    "● Donnez le code permettant de dépiler autant de fois que nécessaire afin que <span style=\"font-family:Courier New;font-size: 100%;\">p.est&#95;vide()</span> renvoie <span style=\"font-family:Courier New;font-size: 100%;\">True</span>:<br>\n"
   ]
  },
  {
   "cell_type": "code",
   "execution_count": null,
   "metadata": {},
   "outputs": [],
   "source": [
    "print(p)\n",
    "# à compléter\n",
    "print(p)\n",
    "assert p.est_vide() == True, \"La pile doit être vide à l'issue des instructions\""
   ]
  },
  {
   "cell_type": "markdown",
   "metadata": {},
   "source": [
    "● Ajouter une méthode <span style=\"font-family:Courier New;font-size: 100%;\">sommet</span>, qui renvoie la valeur du sommet de pile <strong>sans le dépiler</strong><br>\n",
    "Pour tester, on reconstruit la pile de départ :<br>\n"
   ]
  },
  {
   "cell_type": "code",
   "execution_count": null,
   "metadata": {},
   "outputs": [],
   "source": [
    "p = Pile()\n",
    "p.empiler(11)\n",
    "p.empiler(17)\n",
    "p.empiler(5)\n",
    "p.empiler(1)\n",
    "p.empiler(19)\n",
    "p.empiler(30)\n",
    "\n",
    "assert p.sommet() == 30, \"erreur sur la valeur du sommet qui doit donner 30\""
   ]
  },
  {
   "cell_type": "code",
   "execution_count": null,
   "metadata": {},
   "outputs": [],
   "source": [
    "solution.sommet()"
   ]
  },
  {
   "cell_type": "markdown",
   "metadata": {},
   "source": [
    "● En vous inspirant du code de la méthode <span style=\"font-family:Courier New;font-size: 100%;\">&#95;&#95;str&#95;&#95;</span>, coder la méthode <span style=\"font-family:Courier New;font-size: 100%;\">&#95;&#95;len&#95;&#95;</span> qui permet de connaître le nombre d'éléments contenus dans la pile.<br>\n",
    "De telle sorte que l'instruction <span style=\"font-family:Courier New;font-size: 100%;\">len(p)</span> ou <span style=\"font-family:Courier New;font-size: 100%;\">p.&#95;&#95;len&#95;&#95;()</span> renvoie le nombre d'éléments empilés.<br>\n",
    "<br>\n",
    "⚠️ On n'utilisera une fois de plus <strong>que les primitives</strong> pour coder cette méthode.<br>\n"
   ]
  },
  {
   "cell_type": "code",
   "execution_count": null,
   "metadata": {},
   "outputs": [],
   "source": [
    "solution.len()"
   ]
  },
  {
   "cell_type": "markdown",
   "metadata": {},
   "source": [
    "### <span style=\"text-decoration: underline;color:green;\">2. Deuxième modélisation:</span> ###\n",
    "La classe <span style=\"font-family:Courier New;font-size: 100%;\">deque</span> importée depuis le module <span style=\"font-family:Courier New;font-size: 100%;\">collections</span> permet également de modéliser une pile.<br>\n",
    "On crée une pile vide, et on dispose ensuite des méthodes <span style=\"font-family:Courier New;font-size: 100%;\">append</span> et <span style=\"font-family:Courier New;font-size: 100%;\">pop</span> pour empiler et dépiler.<br>\n",
    "La méthode spéciale <span style=\"font-family:Courier New;font-size: 100%;\">&#95;&#95;len&#95;&#95;</span> permet de connaître le nombre d'éléments empilés.<br>\n"
   ]
  },
  {
   "cell_type": "code",
   "execution_count": null,
   "metadata": {},
   "outputs": [],
   "source": [
    "from collections import deque\n",
    "# création d'une pile vide:\n",
    "p = deque()\n",
    "# Empiler les trois éléments 4 puis 5 puis 6 :\n",
    "# à compléter\n",
    "\n",
    "# affichage de la pile :\n",
    "print(p)\n",
    "# Afficher le nombre d'éléments empilés :\n",
    "# à compléter"
   ]
  },
  {
   "cell_type": "markdown",
   "metadata": {},
   "source": [
    "## <span style=\"text-decoration: underline;color:red;\">III. Compléments :</span> ##\n",
    "Quel est l'intérêt d'avoir deux implémentations différentes?<br>\n",
    "Pourquoi utiliser un objet <span style=\"font-family:Courier New;font-size: 100%;\">deque</span> si la <span style=\"font-family:Courier New;font-size: 100%;\">list</span> fait le travail?\n",
    "### <span style=\"text-decoration: underline;color:green;\">1. Comparaison des vitesses :</span> ###\n",
    "Comparons les vitesses de chaque implémentation.<br>\n",
    "● La fonction ci-dessous, à compléter, crée une pile vide <span style=\"font-family:Courier New;font-size: 100%;\">p</span> et y empile les <span style=\"font-family:Courier New;font-size: 100%;\">n</span> premiers entiers à l'aide d'une liste.<br>\n"
   ]
  },
  {
   "cell_type": "code",
   "execution_count": null,
   "metadata": {},
   "outputs": [],
   "source": [
    "def modele_liste(n):\n",
    "    ''' crée et renvoie une pile p, initialement vide, dans laquelle on empile les n premiers entiers'''\n",
    "    # à compléter\n",
    "\n",
    "# mesure du temps pour empiler les 100 000 premiers entiers\n",
    "%timeit modele_liste(10**6)"
   ]
  },
  {
   "cell_type": "code",
   "execution_count": null,
   "metadata": {},
   "outputs": [],
   "source": [
    "solution.modele_liste()"
   ]
  },
  {
   "cell_type": "markdown",
   "metadata": {},
   "source": [
    "● La fonction ci-dessous, à compléter, crée une pile vide Q et y empile les n premiers entiers à l'aide d'un objet <span style=\"font-family:Courier New;font-size: 100%;\">deque</span>:<br>\n"
   ]
  },
  {
   "cell_type": "code",
   "execution_count": null,
   "metadata": {},
   "outputs": [],
   "source": [
    "def modele_deque(n):\n",
    "    ''' crée et renvoie une pile q, initialement vide, dans laquelle on empile les n premiers entiers'''\n",
    "    # à compléter\n",
    "\n",
    "# mesure du temps pour empiler les 100 000 premiers entiers\n",
    "%timeit modele_deque(10**6)"
   ]
  },
  {
   "cell_type": "code",
   "execution_count": null,
   "metadata": {},
   "outputs": [],
   "source": [
    "solution.modele_deque()"
   ]
  },
  {
   "cell_type": "markdown",
   "metadata": {},
   "source": [
    "### <span style=\"text-decoration: underline;color:green;\">2. Explications :</span> ###\n",
    "● En python, le éléments d'une <span style=\"font-family:Courier New;font-size: 100%;\">list</span> sont stockés <strong>les uns à côté des autres</strong> dans un bloc de cases mémoire <strong>contigües</strong> (= côte à côte).<br>\n",
    "Par exemple, la liste <span style=\"font-family:Courier New;font-size: 100%;\">[11, 17, 5, 1, 17, 29]</span> qui représente notre pile va être stockée dans le bloc rouge :<br>\n",
    "![alt text](mes_images/memoire.png \"cases mémoires\")<br>\n",
    "On s'apercoit que si on souhaite ajouter 3 éléments à notre liste, <span style=\"text-decoration: underline;color:red;\">le bloc mémoire rouge</span> alloué va devenir <span style=\"text-decoration: underline;color:red;\">trop petit</span>.<br>\n",
    "Il faut alors chercher un nouveau bloc mémoire (<span style=\"text-decoration: underline;color:green;\">le vert</span> par exemple), pour y stocker cette liste qui grandit.<br>\n",
    "Ce qui peut prendre du temps!<br>\n",
    "Il peut également ne pas y avoir de blocs mémoire suffisamment grands alloués à python pour accueillir notre liste, ce qui peut faire apparaître le message <span style=\"font-family:Courier New;font-size: 100%;\">MemoryError</span>.<br>\n",
    "<br>\n",
    "● L'implémentation via le module <span style=\"font-family:Courier New;font-size: 100%;\">deque</span> utilise le principe des <strong>listes chainées</strong>.<br>\n",
    "Dans une liste chainée, au lieu de réserver un bloc de cases mémoire contigües, chaque élément va utiliser :\n",
    "- une case mémoire pour contenir sa valeur\n",
    "\n",
    "- et une autre qui indiquera <span style=\"text-decoration: underline;\">l'adresse de la case mémoire qui contient l'élément suivant</span>. Cette deuxième case mémoire porte le nom de <strong>pointeur</strong>.\n",
    "\n",
    "Les éléments sont donc répartis un peu partout dans la mémoire.<br>\n",
    "![alt text](mes_images/liste_chainee.png \"liste chainée et pointeurs\")<br>\n",
    "<br>\n",
    "Comme un <strong>seul élément de la pile est pointé</strong>, l'accès se fait <strong>uniquement dans un sens</strong>.<br>\n",
    "<br>\n",
    "On peut utiliser les chaines <strong>double-chainées</strong> pour avoir un accès dans les deux sens :<br>\n",
    "https://fr.wikipedia.org/wiki/Liste_cha%C3%AEn%C3%A9e<br>\n",
    "C'est d'ailleurs ce principe du double chainage qui est utilisé pour réprésenter une pile avec un <span style=\"font-family:Courier New;font-size: 100%;\">deque</span>.<br>\n",
    "Nous étudierons ultérieurement les listes chainées.<br>\n",
    "<br>\n",
    "● Pour finir, chaque implémentation présente ses avantages :<br>\n",
    "Il est un peu plus rapide d'accéder à un élement d'une <span style=\"font-family:Courier New;font-size: 100%;\">list</span> qu'à celui d'un <span style=\"font-family:Courier New;font-size: 100%;\">deque</span>. Car python sait exactement où chercher puisque les valeurs sont dans des cases contigües.<br>\n",
    "Alors qu'il faut à chaque fois regarder l'adresse suivante dans une liste chainée.<br>\n",
    "Par contre, si on prévoit d'empiler beaucoup d'éléments, une modélisation via le <span style=\"font-family:Courier New;font-size: 100%;\">deque</span> est plus adaptée.<br>\n"
   ]
  }
 ],
 "metadata": {},
 "nbformat": 4,
 "nbformat_minor": 4
}
