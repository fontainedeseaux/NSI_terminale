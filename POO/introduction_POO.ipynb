{
 "cells": [
  {
   "cell_type": "code",
   "execution_count": null,
   "metadata": {},
   "outputs": [],
   "source": [
    "from outils import* # import des outils nécessaires au notebook"
   ]
  },
  {
   "cell_type": "markdown",
   "metadata": {},
   "source": [
    "# <div style = \"text-align : center;\"><span style=\"border: 2px solid;padding:6px;color:dodgerblue;\">Introduction à la POO</span></div> #\n",
    "\n",
    "## <span style=\"text-decoration: underline;color:red;\">I. Introduction :</span> ##\n",
    "● Jusqu’à présent, nous avons réalisé nos programmes en utilisant des <strong>fonctions</strong> et des <strong>procédures</strong>.<br>\n",
    "On rappelle qu'une fonction <strong>renvoie</strong> un résultat (présence d'un <span style=\"font-family:Courier New;font-size: 100%;\">return</span>), ce qui n'est pas le cas d'une procédure : <br>\n",
    "<span style=\"font-family:Courier New;font-size: 100%;\">print('bonjour')</span> affiche <span style=\"font-family:Courier New;font-size: 100%;\">'bonjour'</span> mais ne renvoie <strong>rien</strong> (<span style=\"font-family:Courier New;font-size: 100%;\">None</span>).<br>\n",
    "<span style=\"font-family:Courier New;font-size: 100%;\">print</span> est une <strong>procédure</strong>.<br>\n",
    "<br>\n",
    "● Nous avons ainsi pu <span style=\"text-decoration: underline;\">décomposer un problème complexe en sous-problèmes plus simples</span>.<br>\n",
    "Cette manière classique de programmer est appelée programmation <strong>procédurale</strong>.<br>\n",
    "<br>\n",
    "● Il existe d'autres façons de coder : la programmation <strong>fonctionnelle</strong>, la <strong>P</strong>rogrammation <strong>O</strong>rientée <strong>O</strong>bjet (<strong>POO</strong>), etc.<br>\n",
    "On appelle cela des <strong>paradigmes</strong>.<br>\n",
    "Programmer selon l'un des <strong>paradigmes</strong>, c'est <span style=\"text-decoration: underline;\">choisir une manière d'aborder un problème et d'organiser son code</span>.<br>\n",
    "<br>\n",
    "● Le paradigme de la POO propose de structurer son code en utilisant la construction et l'interaction d'<strong>objets</strong>.<br>\n",
    "Pour construire un <strong>objet</strong>, on utilise une <strong>classe</strong>.\n",
    "## <span style=\"text-decoration: underline;color:red;\">II. Notion de classe :</span> ##\n",
    "### <span style=\"text-decoration: underline;color:green;\">1. Un premier exemple :</span> ###\n",
    "Une <strong>classe</strong> peut être vue comme une <strong>usine</strong> à produire des objets.<br>\n",
    "![alt text](mes_images/usine.jpg)<br>\n",
    "Imaginons une classe <span style=\"font-family:Courier New;font-size: 100%;\">Robot</span>. <br>\n",
    "● On passe commande auprès du <strong>constructeur</strong> d'un exemplaire de robot en précisant :<br>\n",
    "&nbsp;&nbsp;&nbsp;&nbsp;→ son <span style=\"font-family:Courier New;font-size: 100%;\">nom</span> <br>\n",
    "&nbsp;&nbsp;&nbsp;&nbsp;→ et sa <span style=\"font-family:Courier New;font-size: 100%;\">taille</span>.<br>\n",
    "<br>\n",
    "● Le contructeur de la classe, qui recueille les informations nécessaires, est appelé <span style=\"font-family:Courier New;font-size: 100%;\">&#95;&#95;init&#95;&#95;</span> (pour <strong>initialisateur</strong>).<br>\n",
    "Ce constructeur prend un <i>robot vierge</i>, qu'il appelle <span style=\"font-family:Courier New;font-size: 100%;\">self</span>.<br>\n",
    "<span style=\"font-family:Courier New;font-size: 100%;\">self</span> est une notation <strong>interne à la classe</strong> qui désigne <span style=\"text-decoration: underline;\">l'exemplaire en cours de construction</span>.<br>\n",
    "![alt text](mes_images/self.png)<br>\n",
    "<br>\n",
    "● Le <span style=\"font-family:Courier New;font-size: 100%;\">nom</span> et la <span style=\"font-family:Courier New;font-size: 100%;\">taille</span> fournis sont <strong>attribués</strong> à l'exemplaire, par exemple en les gravant sur le robot vierge.<br>\n",
    "De telle sorte que ces attributs sont <strong>toujours accessibles</strong> depuis l'objet crée.<br>\n",
    "<br>\n",
    "<u><i>Remarque importante :</i></u> <span style=\"font-family:Courier New;font-size: 100%;\">nom</span> et <span style=\"font-family:Courier New;font-size: 100%;\">taille</span> sont des paramètres <strong>extérieurs</strong> à la classe.<br>\n",
    "<strong>Dans la classe</strong>, c'est <span style=\"font-family:Courier New;font-size: 100%;\">self.nom</span> et <span style=\"font-family:Courier New;font-size: 100%;\">self.taille</span> qu'on utilise.<br>\n",
    "Une batterie chargée à 100% est ajoutée : <span style=\"font-family:Courier New;font-size: 100%;\">self.batterie = 100</span>.<br>\n",
    "![alt text](mes_images/init.png)<br>\n",
    "<br>\n",
    "● La classe dote ensuite <span style=\"font-family:Courier New;font-size: 100%;\">self</span> :<br>\n",
    "&nbsp;&nbsp;&nbsp;&nbsp;→ d'une fonctionnalité pour se <span style=\"font-family:Courier New;font-size: 100%;\">presenter</span> : <br>\n",
    "&nbsp;&nbsp;&nbsp;&nbsp;&nbsp;&nbsp;&nbsp;&nbsp;<span style=\"font-family:Courier New;font-size: 100%;\">\"Je m'appelle ... et je mesure ... cm.</span> <br>\n",
    "&nbsp;&nbsp;&nbsp;&nbsp;&nbsp;&nbsp;&nbsp;&nbsp;<span style=\"font-family:Courier New;font-size: 100%;\">Ma batterie est chargée à ... %</span>\"<br>\n",
    "&nbsp;&nbsp;&nbsp;&nbsp;<br>\n",
    "&nbsp;&nbsp;&nbsp;&nbsp;→ d'une fonctionnalité qui lui permet d'<span style=\"font-family:Courier New;font-size: 100%;\">avancer</span> d'une certaine distance choisie par l'utilisateur.<br>\n",
    "&nbsp;&nbsp;&nbsp;&nbsp;&nbsp;&nbsp;&nbsp;&nbsp;Ce qui consomme d'ailleurs de la batterie.<br>\n",
    "<br>\n",
    "● Les fonctionnalités qu'on ajoute à l'objet se nomment des <strong>méthodes</strong>.<br>\n",
    "![alt text](mes_images/exemplaire.png)<br>\n",
    "<br>\n",
    "●  Tout exemplaire produit par la classe s'appelle une <strong>instance</strong>.<br>\n",
    "![alt text](mes_images/instances.png)<br>\n",
    "<br>\n",
    "● Récapitulons le fonctionnement interne de la classe :<br>\n",
    "![alt text](mes_images/fonctionnement.png)<br>\n",
    "● Voici le code python correspondant :<br>\n"
   ]
  },
  {
   "cell_type": "code",
   "execution_count": null,
   "metadata": {},
   "outputs": [],
   "source": [
    "class Robot:\n",
    "    '''docstring de la classe : classe destinée à modéliser un robot'''\n",
    "\n",
    "    def __init__(self, nom, taille): # constructeur de la classe : nom et taille passés en paramètres\n",
    "        '''constructeur créant un robot disposant de 3 attributs'''\n",
    "        self.nom = nom  # création d'un attribut nom\n",
    "        self.taille = taille # création d'un attribut taille\n",
    "        self.batterie = 100 # ajout d'un attribut batterie\n",
    "\n",
    "    def presenter(self): # création d'une méthode presenter\n",
    "        '''méthode qui renvoie la phrase de présentation sous forme d'une string'''\n",
    "        pass # à compléter\n",
    "\n",
    "    def avancer(self, distance): # création d'une méthode avancer\n",
    "        '''distance est donnée en mètres. Chaque avancée d'un mètre coûte 1% de batterie'''\n",
    "        pass # à compléter\n",
    "\n",
    "# Création d'une instance :\n",
    "robot1 = Robot(\"C3PO\", 167)\n",
    "\n",
    "# Accès aux 3 attributs de l'instance créee :\n",
    "print(\"nom du robot:\", robot1.nom)\n",
    "print(\"taille du robot:\", robot1.taille)\n",
    "print(\"Batterie du robot chargée à\", robot1.batterie, \"%\")"
   ]
  },
  {
   "cell_type": "markdown",
   "metadata": {},
   "source": [
    "● Vous pouvez <strong>visualiser</strong> la création de classe et d'une instance à l'aide de python tutor en cliquant <a href=\"http://pythontutor.com/visualize.html#code=class%20Robot%3A%0A%20%20%20%20'''docstring%20de%20la%20classe%20%3A%20classe%20destin%C3%A9e%20%C3%A0%20mod%C3%A9liser%20un%20robot'''%0A%0A%20%20%20%20def%20__init__%28self,%20nom,%20taille%29%3A%20%23%20constructeur%20de%20la%20classe%20%3Anom%20et%20taille%20pass%C3%A9s%20en%20param%C3%A8tres%0A%20%20%20%20%20%20%20%20'''constructeur%20cr%C3%A9ant%20un%20robot%20disposant%20de%203%20attributs'''%0A%20%20%20%20%20%20%20%20self.nom%20%3D%20nom%20%20%23%20cr%C3%A9ation%20d'un%20attribut%20nom%0A%20%20%20%20%20%20%20%20self.taille%20%3D%20taille%20%23%20cr%C3%A9ation%20d'un%20attribut%20taille%0A%20%20%20%20%20%20%20%20self.batterie%20%3D%20100%20%23%20ajout%20d'un%20attribut%20batterie%0A%0A%20%20%20%20def%20presenter%28self%29%3A%20%23%20cr%C3%A9ation%20d'une%20m%C3%A9thode%20presenter%0A%20%20%20%20%20%20%20%20'''m%C3%A9thode%20qui%20renvoie%20la%20phrase%20de%20pr%C3%A9sentation%20sous%20forme%20d'une%20string'''%0A%20%20%20%20%20%20%20%20pass%20%23%20%C3%A0%20compl%C3%A9ter%0A%0A%20%20%20%20def%20avancer%28self,%20distance%29%3A%20%23%20cr%C3%A9ation%20d'une%20m%C3%A9thode%20avancer%0A%20%20%20%20%20%20%20%20'''distance%20est%20donn%C3%A9e%20en%20m%C3%A8tres.%20Chaque%20avanc%C3%A9e%20d'un%20m%C3%A8tre%20co%C3%BBte%201%25%20de%20batterie'''%0A%20%20%20%20%20%20%20%20pass%20%23%20%C3%A0%20compl%C3%A9ter%0A%0A%23%20Cr%C3%A9ation%20d'une%20instance%20%3A%0Arobot1%20%3D%20Robot%28%22C3PO%22,%20167%29&cumulative=false&heapPrimitives=nevernest&mode=edit&origin=opt-frontend.js&py=3&rawInputLstJSON=%5B%5D&textReferences=false\">ici</a><br>\n",
    "<br>\n",
    "● Chaque objet robot dispose d'une <strong>méthode</strong> <span style=\"font-family:Courier New;font-size: 100%;\">presenter</span>.<br>\n",
    "Cette méthode renvoie (<span style=\"font-family:Courier New;font-size: 100%;\">return</span>) la chaine correspondant à la présentation du robot.<br>\n",
    "<br>\n",
    "Dans la <span style=\"font-family:Courier New;font-size: 100%;\">class Robot</span>, complétez la méthode puis testez ensuite la présentation de <span style=\"font-family:Courier New;font-size: 100%;\">robot1</span>.<br>\n",
    "⚠️ La méthode <span style=\"font-family:Courier New;font-size: 100%;\">presenter</span> est une <strong>fonction</strong> associée à l'objet. Ne pas oublier les parenthèses pour l'appliquer...<br>\n"
   ]
  },
  {
   "cell_type": "code",
   "execution_count": null,
   "metadata": {},
   "outputs": [],
   "source": [
    "# test de la méthode presenter"
   ]
  },
  {
   "cell_type": "code",
   "execution_count": null,
   "metadata": {},
   "outputs": [],
   "source": [
    "solution.presenter()"
   ]
  },
  {
   "cell_type": "markdown",
   "metadata": {},
   "source": [
    "● Complétez la méthode <span style=\"font-family:Courier New;font-size: 100%;\">avancer(self, distance)</span>.<br>\n",
    "Cette méthode diminue la charge de la batterie par rapport à la <span style=\"font-family:Courier New;font-size: 100%;\">distance</span> choisie, puis affiche l'un ou l'autre des messages :<br>\n",
    "&nbsp;&nbsp;&nbsp;&nbsp;→ <span style=\"font-family:Courier New;font-size: 100%;\">\"Je n'ai pu avancer que de ... Ma batterie est à plat\"</span><br>\n",
    "&nbsp;&nbsp;&nbsp;&nbsp;&nbsp;&nbsp;&nbsp;&nbsp;&nbsp;si <span style=\"font-family:Courier New;font-size: 100%;\">distance</span> est trop grande par rapport à l'autonomie du robot.<br>\n",
    "&nbsp;&nbsp;&nbsp;&nbsp;→ <span style=\"font-family:Courier New;font-size: 100%;\">\"Je viens d'avancer de ... mètres\"</span><br>\n",
    "&nbsp;&nbsp;&nbsp;&nbsp;&nbsp;&nbsp;&nbsp;&nbsp;&nbsp;si l'autonomie de la batterie est suffisante pour parcourir la <span style=\"font-family:Courier New;font-size: 100%;\">distance</span> choisie.<br>\n",
    "<br>\n",
    "Testez-la en faisant avancer <span style=\"font-family:Courier New;font-size: 100%;\">robot1</span> de 3 mètres.<br>\n",
    "Puis faîtes en sorte que <span style=\"font-family:Courier New;font-size: 100%;\">robot1</span> se présente à nouveau.<br>\n"
   ]
  },
  {
   "cell_type": "code",
   "execution_count": null,
   "metadata": {},
   "outputs": [],
   "source": [
    "# faire avancer robot1 de 3 mètres, puis le faire se présenter à nouveau.\n",
    "# à compléter"
   ]
  },
  {
   "cell_type": "code",
   "execution_count": null,
   "metadata": {},
   "outputs": [],
   "source": [
    "solution.avancer()"
   ]
  },
  {
   "cell_type": "markdown",
   "metadata": {},
   "source": [
    "<div class = \"alert alert-danger\"><img src=\"mes_images/redim.svg\" style=\"float:left;\" > → Lorsqu'on rédige le code d'une méthode, le premier paramètre à indiquer est <strong>self</strong><br> → On rappelle d'ailleurs que <strong>self</strong> n'a <u>aucun sens en dehors de la classe</u>.<br> → Lorsqu'on appelle une méthode, les paramètres à renseigner sont ceux qui suivent <strong>self</strong></div><br>\n"
   ]
  },
  {
   "cell_type": "markdown",
   "metadata": {},
   "source": [
    "● Créer une deuxième instance <span style=\"font-family:Courier New;font-size: 100%;\">robot2</span> nommée <span style=\"font-family:Courier New;font-size: 100%;\">\"R2D2\"</span>, et d'une hauteur de <span style=\"font-family:Courier New;font-size: 100%;\">109</span> cm.<br>\n",
    "Lui demander d'avancer de 300 mètres, puis le faire se présenter.<br>\n"
   ]
  },
  {
   "cell_type": "code",
   "execution_count": null,
   "metadata": {},
   "outputs": [],
   "source": [
    "# à compléter"
   ]
  },
  {
   "cell_type": "markdown",
   "metadata": {},
   "source": [
    "### <span style=\"text-decoration: underline;color:green;\">2. Documentation :</span> ###\n",
    "On peut accéder aux différentes méthodes que l'on a crées et à leur documentation en écrivant <span style=\"font-family:Courier New;font-size: 100%;\">help(Robot)</span>.<br>\n",
    "Ou encore <span style=\"font-family:Courier New;font-size: 100%;\">help(robot1)</span>, car <span style=\"font-family:Courier New;font-size: 100%;\">robot1</span> est une instance de la classe <span style=\"font-family:Courier New;font-size: 100%;\">Robot</span>.<br>\n"
   ]
  },
  {
   "cell_type": "code",
   "execution_count": null,
   "metadata": {},
   "outputs": [],
   "source": [
    "help(robot1)"
   ]
  },
  {
   "cell_type": "markdown",
   "metadata": {},
   "source": [
    "● On peut également accéder à l'ensemble des attributs/ méthodes dont dispose <span style=\"font-family:Courier New;font-size: 100%;\">robot1</span>:<br>\n"
   ]
  },
  {
   "cell_type": "code",
   "execution_count": null,
   "metadata": {},
   "outputs": [],
   "source": [
    "dir(robot1)"
   ]
  },
  {
   "cell_type": "markdown",
   "metadata": {},
   "source": [
    "Que constatez-vous?<br>\n"
   ]
  },
  {
   "cell_type": "code",
   "execution_count": null,
   "metadata": {},
   "outputs": [],
   "source": [
    "solution.constat()"
   ]
  },
  {
   "cell_type": "markdown",
   "metadata": {},
   "source": [
    "### <span style=\"text-decoration: underline;color:green;\">3. Utilisation de <span style=\"font-family:Courier New;font-size: 100%;\">print</span> :</span> ###\n",
    "L’usage de <span style=\"font-family:Courier New;font-size: 100%;\">print</span> est possible sur un objet :<br>\n"
   ]
  },
  {
   "cell_type": "code",
   "execution_count": null,
   "metadata": {},
   "outputs": [],
   "source": [
    "print(robot1)"
   ]
  },
  {
   "cell_type": "markdown",
   "metadata": {},
   "source": [
    "● On obtient l'information que l'objet est issu de la classe <span style=\"font-family:Courier New;font-size: 100%;\">Robot</span> ainsi que l’adresse de son emplacement en mémoire.<br>\n",
    "Il est possible de modifier cet affichage par défaut:<br>\n",
    "<br>\n",
    "<span style=\"font-family:Courier New;font-size: 100%;\">print</span> appelle en effet la méthode spéciale <span style=\"font-family:Courier New;font-size: 100%;\">&#95;&#95;str&#95;&#95;</span>.<br>\n",
    "On peut en effet observer que l'instruction <span style=\"font-family:Courier New;font-size: 100%;\">robot1.&#95;&#95;str&#95;&#95;()</span> donne le même affichage :<br>\n"
   ]
  },
  {
   "cell_type": "code",
   "execution_count": null,
   "metadata": {},
   "outputs": [],
   "source": [
    "robot1.__str__()"
   ]
  },
  {
   "cell_type": "markdown",
   "metadata": {},
   "source": [
    "● Dans le code de la classe <span style=\"font-family:Courier New;font-size: 100%;\">Robot</span>, remplacer le nom de la méthode <span style=\"font-family:Courier New;font-size: 100%;\">presenter</span> par <span style=\"font-family:Courier New;font-size: 100%;\">&#95;&#95;str&#95;&#95;</span>.<br>\n",
    "L'instruction <span style=\"font-family:Courier New;font-size: 100%;\">print(robot1)</span> devrait à présent donner l'affichage convivial que faisait la méthode <span style=\"font-family:Courier New;font-size: 100%;\">presentation</span> :<br>\n"
   ]
  },
  {
   "cell_type": "code",
   "execution_count": null,
   "metadata": {},
   "outputs": [],
   "source": [
    "print(robot1)"
   ]
  },
  {
   "cell_type": "markdown",
   "metadata": {},
   "source": [
    "### <span style=\"text-decoration: underline;color:green;\">4. Ajout d'une méthode <span style=\"font-family:Courier New;font-size: 100%;\">comparer</span>:</span> ###\n",
    "Ajouter une méthode <span style=\"font-family:Courier New;font-size: 100%;\">comparer(self, autre&#95;robot)</span> à la classe <span style=\"font-family:Courier New;font-size: 100%;\">Robot</span> :<br>\n",
    "<span style=\"font-family:Courier New;font-size: 100%;\">autre&#95;robot</span> est un objet de type <span style=\"font-family:Courier New;font-size: 100%;\">Robot</span>.<br>\n",
    "<span style=\"font-family:Courier New;font-size: 100%;\">robot1.comparer(robot2)</span> affiche la phrase :<br>\n",
    "&nbsp;&nbsp;&nbsp;&nbsp;<span style=\"font-family:Courier New;font-size: 100%;\">... mesure la même taille que  ...</span><br>\n",
    "&nbsp;&nbsp;&nbsp;&nbsp;&nbsp;&nbsp;&nbsp;&nbsp;&nbsp;&nbsp;&nbsp;&nbsp;&nbsp;&nbsp;&nbsp;&nbsp;&nbsp;&nbsp;&nbsp;&nbsp;&nbsp;&nbsp;&nbsp;&nbsp;&nbsp;ou<br>\n",
    "&nbsp;&nbsp;&nbsp;&nbsp;<span style=\"font-family:Courier New;font-size: 100%;\">... est plus grand que ...</span><br>\n",
    "&nbsp;&nbsp;&nbsp;&nbsp;&nbsp;&nbsp;&nbsp;&nbsp;&nbsp;&nbsp;&nbsp;&nbsp;&nbsp;&nbsp;&nbsp;&nbsp;&nbsp;&nbsp;&nbsp;&nbsp;&nbsp;&nbsp;&nbsp;&nbsp;&nbsp;ou<br>\n",
    "&nbsp;&nbsp;&nbsp;&nbsp;<span style=\"font-family:Courier New;font-size: 100%;\">... est plus petit que ...</span> en utilisant les noms de chaque robot.<br>\n",
    "<br>\n",
    "Puis comparez <span style=\"font-family:Courier New;font-size: 100%;\">robot1</span> et <span style=\"font-family:Courier New;font-size: 100%;\">robot2</span><br>\n"
   ]
  },
  {
   "cell_type": "code",
   "execution_count": null,
   "metadata": {},
   "outputs": [],
   "source": [
    "# comparaison de robot1 et robot2\n",
    "# à compléter"
   ]
  },
  {
   "cell_type": "code",
   "execution_count": null,
   "metadata": {},
   "outputs": [],
   "source": [
    "solution.comparer()"
   ]
  },
  {
   "cell_type": "markdown",
   "metadata": {},
   "source": [
    "## <span style=\"text-decoration: underline;color:red;\">III. Compléments :</span> ##\n",
    "### <span style=\"text-decoration: underline;color:green;\">1. Histoire de la POO:</span> ###\n",
    "La programmation orientée objet a fait ses débuts dans les années 1960 avec le langage <i>Lisp</i>.<br>\n",
    "Elle a été formellement définie avec les langages <i>Simula</i> (vers 1970) puis <i>SmallTalk</i> : une des sources d'inspiration de <i>Guido van Rossum</i> pour la création de <i>Python</i>.<br>\n",
    "Elle s’est ensuite développée dans les langages anciens comme le <i>Fortran</i>, le <i>Cobol</i> et est incontournable dans des langages récents comme le <i>Java</i>.\n",
    "### <span style=\"text-decoration: underline;color:green;\">2. Nommer une classe :</span> ###\n",
    "La <a href=\"https://openclassrooms.com/fr/courses/4425111-perfectionnez-vous-en-python/4464230-assimilez-les-bonnes-pratiques-de-la-pep-8\">PEP8</a> est un ensemble de conventions à respecter si possible lorsqu'on programme en python.<br>\n",
    "Pour nommer une classe, il est recommandé de la commencer par une <strong>majuscule</strong>, et de préférer les majuscules aux underscores <span style=\"font-family:Courier New;font-size: 100%;\">&#95;</span> :<br>\n",
    "<br>\n",
    "<span style=\"font-family:Courier New;font-size: 100%;\">MaSuperClasse</span>, <span style=\"font-family:Courier New;font-size: 100%;\">JeuDeCartes</span>, <span style=\"font-family:Courier New;font-size: 100%;\">VoitureDeCourse</span>, etc.\n",
    "### <span style=\"text-decoration: underline;color:green;\">3. Des classes nativement présentes :</span> ###\n",
    "En première partie, nous avons défini notre <strong>propre classe</strong> <span style=\"font-family:Courier New;font-size: 100%;\">Robot</span>.<br>\n",
    "Il faut savoir qu'en Python, tous les types de données que nous avons découverts sont construits avec des classes :<br>\n",
    "Existent ainsi les <span style=\"font-family:Courier New;font-size: 100%;\">class int, float, str, bool, list, dict, etc...</span><br>\n",
    "Considérons le flottant <span style=\"font-family:Courier New;font-size: 100%;\">y</span> égal à <span style=\"font-family:Courier New;font-size: 100%;\">4.36</span> :<br>\n"
   ]
  },
  {
   "cell_type": "code",
   "execution_count": null,
   "metadata": {},
   "outputs": [],
   "source": [
    "y = 4.36"
   ]
  },
  {
   "cell_type": "markdown",
   "metadata": {},
   "source": [
    "Affichez l'aide correspondant à la classe <span style=\"font-family:Courier New;font-size: 100%;\">float</span>, puis, <strong>à l'aide des méthodes proposées</strong>, trouvez comment :\n",
    "- obtenir l'arrondi à l'unité de <span style=\"font-family:Courier New;font-size: 100%;\">y</span>\n",
    "\n",
    "- obtenir l'arrondi au dixième de <span style=\"font-family:Courier New;font-size: 100%;\">y</span>\n",
    "\n",
    "- obtenir le résultat du produit de <span style=\"font-family:Courier New;font-size: 100%;\">y</span> par <span style=\"font-family:Courier New;font-size: 100%;\">2</span>\n",
    "\n"
   ]
  },
  {
   "cell_type": "code",
   "execution_count": null,
   "metadata": {},
   "outputs": [],
   "source": [
    "# Affichez l'aide correspondant à la classe float"
   ]
  },
  {
   "cell_type": "code",
   "execution_count": null,
   "metadata": {},
   "outputs": [],
   "source": [
    "# Obtenir les deux arrondis et le produis souhaités"
   ]
  },
  {
   "cell_type": "code",
   "execution_count": null,
   "metadata": {},
   "outputs": [],
   "source": [
    "solution.arrondis()"
   ]
  },
  {
   "cell_type": "markdown",
   "metadata": {},
   "source": [
    "### <span style=\"text-decoration: underline;color:green;\">4. Encapsulation des données :</span> ###\n",
    "Jusqu’à présent nous pouvons accéder aux attributs des objets crées et même les modifier :<br>\n"
   ]
  },
  {
   "cell_type": "code",
   "execution_count": null,
   "metadata": {},
   "outputs": [],
   "source": [
    "robot1.nom = \"Schtroumph\"\n",
    "robot1.batterie = 120"
   ]
  },
  {
   "cell_type": "markdown",
   "metadata": {},
   "source": [
    "● On voit bien qu'il s'agit là d'un problème puisqu'une batterie ne peut pas être chargée à plus de 100%...<br>\n",
    "Modifier ainsi un attribut n'est pas une bonne pratique.<br>\n",
    "On préfère gérer les modifications des attributs <strong>uniquement depuis la classe</strong>, en définissant une méthode appropriée  :<br>\n",
    "C'est à <strong>celui qui programme la classe</strong>, et <span style=\"text-decoration: underline;\">non à l'utilisateur</span>, de définir les autorisations de modifications.<br>\n",
    "<br>\n",
    "Pour modifier l'attribut <span style=\"font-family:Courier New;font-size: 100%;\">batterie</span>, on va donc créer une méthode <span style=\"font-family:Courier New;font-size: 100%;\">charger(self, pourcentage)</span> qui va remonter la batterie au <span style=\"font-family:Courier New;font-size: 100%;\">pourcentage</span> souhaité.<br>\n",
    "Nous pourrons également contrôler, <span style=\"text-decoration: underline;\">à l'aide d'une <span style=\"font-family:Courier New;font-size: 100%;\">assertion</span></span> :\n",
    "- le fait que le pourcentage ne puisse pas dépasser 100.\n",
    "\n",
    "- et que le pourcentage entré soit supérieur ou égal à la charge de batterie en cours.\n",
    "\n",
    "\n",
    "Ajoutez la méthode <span style=\"font-family:Courier New;font-size: 100%;\">charger(self, pourcentage)</span> à la classe.<br>\n"
   ]
  },
  {
   "cell_type": "code",
   "execution_count": null,
   "metadata": {},
   "outputs": [],
   "source": [
    "solution.charger()"
   ]
  },
  {
   "cell_type": "markdown",
   "metadata": {},
   "source": [
    "<span style=\"text-decoration: underline;\"><i>Remarques :</i></span><br>\n",
    "● L’utilisateur peut certes toujours exécuter le code <span style=\"font-family:Courier New;font-size: 100%;\">robot1.batterie = 120</span>.<br>\n",
    "&nbsp;&nbsp;&nbsp;&nbsp;Il existe des façons, que nous n'aborderons pas, pour éviter cela.<br>\n",
    "<br>\n",
    "● <strong>Par convention</strong>, les méthodes modifiant les attributs sont souvent nommées <span style=\"font-family:Courier New;font-size: 100%;\">set&#95;attribut</span>.<br>\n",
    "&nbsp;&nbsp;&nbsp;&nbsp;Nous aurions plutôt dû nommer <span style=\"font-family:Courier New;font-size: 100%;\">set&#95;batterie</span> la méthode <span style=\"font-family:Courier New;font-size: 100%;\">charger</span>. <br>\n",
    "<br>\n",
    "● Python est très permissif sur les accès et modifications des attributs.<br>\n",
    "&nbsp;&nbsp;&nbsp;&nbsp;Certains langages interdisent <span style=\"text-decoration: underline;\">la consultation</span> et <span style=\"text-decoration: underline;\">la modification</span> des attributs autrement que par une méthode dédiée.<br>\n",
    "&nbsp;&nbsp;&nbsp;&nbsp;Pour être plus rigoureux, on devrait travailler avec <i>getters (accesseurs)</i> et <i>setters (mutateurs)</i> en créant :<br>\n",
    "&nbsp;&nbsp;&nbsp;&nbsp;&nbsp;&nbsp;&nbsp;&nbsp;→ trois méthodes <span style=\"font-family:Courier New;font-size: 100%;\">get&#95;nom</span>, <span style=\"font-family:Courier New;font-size: 100%;\">get&#95;taille</span> et <span style=\"font-family:Courier New;font-size: 100%;\">get&#95;batterie</span> pour <strong>lire</strong> leur valeur<br>\n",
    "&nbsp;&nbsp;&nbsp;&nbsp;&nbsp;&nbsp;&nbsp;&nbsp;→ trois méthodes <span style=\"font-family:Courier New;font-size: 100%;\">set&#95;nom</span>, <span style=\"font-family:Courier New;font-size: 100%;\">set&#95;taille</span> et <span style=\"font-family:Courier New;font-size: 100%;\">set&#95;batterie</span> pour <strong>modifier</strong> leur valeur<br>\n",
    "<br>\n",
    "<div class = \"alert alert-info\">● L'<strong>encapsulation</strong> est un des <strong>grands intérêts</strong> de la POO :<br>Un programmeur peut coder la classe sans que les autres programmeurs, qui vont pourtant utiliser cette classe, ne se soucient de son code proprement dit.<br>Les détails et la complexité du code sont <strong>enfermés</strong> dans l'objet : il n'est pas nécessaire de savoir <u>comment il est fait</u> pour l'utiliser.<br>Le code peut <strong>changer au cours du temps</strong> pour être <strong>maintenu et amélioré</strong>, sans que cela n'affecte les utilisateurs.</div><br>\n",
    "<h3><u style=\"color:green;\">5. Interface d'une classe :</u></h3><br>\n",
    "Un objet est conçu pour être utilisé dans un programme et pour <strong>interagir</strong> avec d'autres objets.<br>\n",
    "Avant d'écrire le code d'une classe (on dit <strong>implémenter</strong>), il faut donc réfléchir à ce que les objets vont nous permettre de faire.<br>\n",
    "Cela revient à définir <strong>l'interface de la classe</strong> :<br>\n",
    "<br><div style = \"text-align : center;\"><span style=\"border: 2px solid;padding:6px;\">L'<strong>interface</strong> d'une classe, c'est l'ensemble des <strong>attributs et méthodes</strong> permettant d'interagir avec l'objet, et qui sont accessibles au reste du programme.</span></div><br>Idéalement, l'interface doit être décrite de manière <span style=\"text-decoration: underline;\">concise</span> dans la <span style=\"font-family:Courier New;font-size: 100%;\">docstring</span> de la classe.<br>\n",
    "<br>"
   ]
  },
  {
   "cell_type": "code",
   "execution_count": null,
   "metadata": {},
   "outputs": [],
   "source": [
    "class Robot:\n",
    "    # Interface de la classe :\n",
    "    '''Classe pour modéliser un robot\n",
    "        attributs :\n",
    "            nom : de type string\n",
    "            taille : int ou float\n",
    "            batterie : int\n",
    "        méthodes :\n",
    "            presenter(self) : renvoie une string correspondant à la présentation du robot\n",
    "            avancer(self, distance) : actualise self.batterie en fonction de distance\n",
    "            comparer(self, autre_robot) : affiche le nom du plus grand robot entre self et autre robot\n",
    "            charger(self, pourcentage) : recharge batterie à pourcentage\n",
    "    '''\n",
    "    \n",
    "    # Constructeur\n",
    "    # méthodes"
   ]
  }
 ],
 "metadata": {},
 "nbformat": 4,
 "nbformat_minor": 4
}
