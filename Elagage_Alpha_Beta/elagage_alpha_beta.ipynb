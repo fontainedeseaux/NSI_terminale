{
 "cells": [
  {
   "cell_type": "code",
   "execution_count": null,
   "id": "50ea6552",
   "metadata": {},
   "outputs": [],
   "source": [
    "from outils import* # Lancer la cellule pour importer les outils nécessaires au notebook.\n",
    "from complements import* # import de fonctions nécessaires au jeu"
   ]
  },
  {
   "cell_type": "markdown",
   "id": "fe01a572",
   "metadata": {},
   "source": [
    "# <div style = \"text-align : center;\"><span style=\"border: 2px solid;padding:6px;color:dodgerblue;\">L'algorithme MINIMAX avec ELAGAGE ALPHA - BETA</span></div> #\n",
    "\n",
    "## <span style=\"text-decoration: underline;color:red;\">I. Introduction :</span> ##\n",
    "### <span style=\"text-decoration: underline;color:green;\">1. Problématique</span> ###\n",
    "● <i>Deep Blue</i> a battu <i>Gary Kasparov</i> avec une version améliorée du MiniMax.<br>\n",
    "<br>\n",
    "● Le principal défaut du MiniMax est de devoir <strong>visiter tous les noeuds de l'arbre</strong> (jusqu'à la profondeur choisie) pour remonter le score.<br>\n",
    "Il existe cependant une façon d'<strong>élaguer certaines branches</strong>, afin de <strong>réduire le nombre de noeuds à visiter</strong>. <br>\n",
    "Ce qui permet <strong>d'augmenter la profondeur</strong> d'exploration.<br>\n",
    "<br>\n",
    "Cette variante porte le nom <strong>d'élagage alpha-beta</strong>.<br>\n",
    "![alt text](mes_images/bucheron.jpg)\n",
    "### <span style=\"text-decoration: underline;color:green;\">2. Principe :</span> ###\n",
    "● Reprenons l'exploration initiale de l'arbre des scores déjà étudié pour l'algorithme du minimax :<br>\n",
    "<br>\n",
    "N°1 interroge N°2.<br>\n",
    "&nbsp;&nbsp;&nbsp;&nbsp;N°2 interroge N°5.<br>\n",
    "&nbsp;&nbsp;&nbsp;&nbsp;&nbsp;&nbsp;&nbsp;&nbsp;N°5 interroge sa première feuille qui renvoie la valeur $7$. N°5 actualise son score à $7$.<br>\n",
    "&nbsp;&nbsp;&nbsp;&nbsp;&nbsp;&nbsp;&nbsp;&nbsp;N°5 interroge sa deuxième feuille qui renvoie $0$. N° 5 conserve son score de $7$ car $7 > 0$<br>\n",
    "&nbsp;&nbsp;&nbsp;&nbsp;&nbsp;&nbsp;&nbsp;&nbsp;N°5 remonte ce score à N°2.<br>\n",
    "&nbsp;&nbsp;&nbsp;&nbsp;N°2 actualise son score qui passe à $7$.<br>\n",
    "&nbsp;&nbsp;&nbsp;&nbsp;N°2 interroge N°6.<br>\n",
    "&nbsp;&nbsp;&nbsp;&nbsp;&nbsp;&nbsp;&nbsp;&nbsp;N°6 interroge sa première feuille qui renvoie la valeur $8$. N°6 actualise son score qui passe à $8$.<br>\n",
    "![alt text](mes_images/coupure_beta.png)<br>\n"
   ]
  },
  {
   "cell_type": "code",
   "execution_count": null,
   "id": "f53b8841",
   "metadata": {},
   "outputs": [],
   "source": [
    "qcm.coupure_beta()"
   ]
  },
  {
   "cell_type": "markdown",
   "id": "b1638ffc",
   "metadata": {},
   "source": [
    "● Poursuivons l'exploration de l'arbre après avoir interrompu N°6.<br>\n",
    "<br>\n",
    "&nbsp;&nbsp;&nbsp;&nbsp;N°2 remonte un score de 7 à N°1.<br>\n",
    "N°1 actualise son score à 7.<br>\n",
    "N°1 interroge N°3.<br>\n",
    "&nbsp;&nbsp;&nbsp;&nbsp;N°3 interroge N°7.<br>\n",
    "&nbsp;&nbsp;&nbsp;&nbsp;&nbsp;&nbsp;&nbsp;&nbsp;N°7 interroge sa première feuille qui renvoie la valeur $5$. N°7 actualise son score à $5$.<br>\n",
    "&nbsp;&nbsp;&nbsp;&nbsp;&nbsp;&nbsp;&nbsp;&nbsp;N°7 interroge sa deuxième feuille qui renvoie $-3$. N°7 conserve son score de $5$ car $5 > -3$.<br>\n",
    "&nbsp;&nbsp;&nbsp;&nbsp;&nbsp;&nbsp;&nbsp;&nbsp;N°7 remonte ce score à N°3.<br>\n",
    "&nbsp;&nbsp;&nbsp;&nbsp;N°3 actualise son score qui passe à $5$.<br>\n",
    "![alt text](mes_images/coupure_alpha.png)<br>\n"
   ]
  },
  {
   "cell_type": "code",
   "execution_count": null,
   "id": "59077297",
   "metadata": {},
   "outputs": [],
   "source": [
    "qcm.coupure_alpha()"
   ]
  },
  {
   "cell_type": "markdown",
   "id": "e2ae296d",
   "metadata": {},
   "source": [
    "● Terminons l'exploration de l'arbre après avoir interrompu N°3.<br>\n",
    "<br>\n",
    "&nbsp;&nbsp;&nbsp;&nbsp;N°3 remonte un score de $5$ à N°1.<br>\n",
    "N°1 conerve son score à $7$ car $7 > 5$.<br>\n",
    "N°1 interroge N°4.<br>\n",
    "&nbsp;&nbsp;&nbsp;&nbsp;N°4 interroge N°9.<br>\n",
    "&nbsp;&nbsp;&nbsp;&nbsp;&nbsp;&nbsp;&nbsp;&nbsp;N°9 interroge sa première feuille qui renvoie la valeur $-1$. N°9 actualise son score à $-1$.<br>\n",
    "&nbsp;&nbsp;&nbsp;&nbsp;&nbsp;&nbsp;&nbsp;&nbsp;N°9 interroge sa deuxième feuille qui renvoie $2$. N°9 actualise son score à $2$ car $2 > -1$.<br>\n",
    "&nbsp;&nbsp;&nbsp;&nbsp;&nbsp;&nbsp;&nbsp;&nbsp;N°9 remonte ce score à N°4.<br>\n",
    "&nbsp;&nbsp;&nbsp;&nbsp;N°4 actualise son score à $2$.<br>\n",
    "![alt text](mes_images/coupure_alpha_2.png)<br>\n"
   ]
  },
  {
   "cell_type": "code",
   "execution_count": null,
   "id": "496e3a31",
   "metadata": {},
   "outputs": [],
   "source": [
    "qcm.coupure_alpha_2()"
   ]
  },
  {
   "cell_type": "markdown",
   "id": "9d0f2526",
   "metadata": {},
   "source": [
    "## <span style=\"text-decoration: underline;color:red;\">III. Mise en oeuvre de l'élagage alpha - beta :</span> ##\n",
    "### <span style=\"text-decoration: underline;color:green;\">1. Principe:</span> ###\n",
    "● Tout noeud dispose de deux paramètres <span style=\"font-family:Courier New;font-size: 100%;\">alpha</span> et <span style=\"font-family:Courier New;font-size: 100%;\">beta</span> initialisés à $-\\infty$ et $+\\infty$.<br>\n",
    "<br>\n",
    "● Un noeud <strong>attaquant</strong> actualise <strong>alpha</strong> et un noeud <strong>défenseur beta</strong>. <br>\n",
    "<br>\n",
    "● Un noeud père transmets toujours à ses fils <strong>ses propres paramètres alpha et beta</strong>.<br>\n",
    "<br>\n",
    "De telle sorte :<br>\n",
    "&nbsp;&nbsp;&nbsp;&nbsp;→ qu'un noeud <strong>attaquant</strong> connait toujours le <strong>score maximum beta toléré par son père défenseur</strong><br>\n",
    "&nbsp;&nbsp;&nbsp;&nbsp;→ qu'un noeud <strong>défenseur</strong> connait toujours le <strong>score minimal alpha toléré par son père attaquant</strong><br>\n"
   ]
  },
  {
   "cell_type": "markdown",
   "id": "2bc782c1",
   "metadata": {},
   "source": [
    "<div class=\"alert alert-block alert-info\"><u><b>CONSEQUENCES :</u></b><br> Un noeud <strong>attaquant</strong> interrompt l'exploration de ses fils si l'un d'eux lui remonte un score <strong>supérieur ou égal à son paramètre beta</strong> (coupure beta).<br>Un noeud <strong>défenseur</strong> interrompt l'exploration de ses fils si l'un d'eux lui remonte un score <strong>inférieur ou égal à son paramètre alpha</strong> (coupure alpha).</div><br>\n",
    "\n",
    "### <span style=\"text-decoration: underline;color:green;\">2. Algorithme :</span> ###\n",
    "Voici, dans le langage de la POO,  l'algorithme du minimax avec élagage alpha-beta qui permet de coder la méthode <span style=\"font-family:Courier New;font-size: 100%;\">remonter&#95;score</span> depuis les noeuds enfants :<br>\n",
    "<br>\n",
    "<code>méthode remonter\\_score :<br>&nbsp;&nbsp;&nbsp;&nbsp;si noeud est une feuille ou de profondeur maximale :<br>&nbsp;&nbsp;&nbsp;&nbsp;&nbsp;&nbsp;&nbsp;&nbsp;score\\_noeud = son heuristique<br>&nbsp;&nbsp;&nbsp;&nbsp;sinon :<br>&nbsp;&nbsp;&nbsp;&nbsp;&nbsp;&nbsp;&nbsp;&nbsp;si noeud est attaquant: \\# role : trouver son score et maximiser son attribut alpha<br>&nbsp;&nbsp;&nbsp;&nbsp;&nbsp;&nbsp;&nbsp;&nbsp;&nbsp;&nbsp;&nbsp;&nbsp;score\\_noeud = - infini <br>&nbsp;&nbsp;&nbsp;&nbsp;&nbsp;&nbsp;&nbsp;&nbsp;&nbsp;&nbsp;&nbsp;&nbsp;pour chaque fils:<br>&nbsp;&nbsp;&nbsp;&nbsp;&nbsp;&nbsp;&nbsp;&nbsp;&nbsp;&nbsp;&nbsp;&nbsp;&nbsp;&nbsp;&nbsp;&nbsp;noeud transmet à fils ses paramètres alpha et beta<br>&nbsp;&nbsp;&nbsp;&nbsp;&nbsp;&nbsp;&nbsp;&nbsp;&nbsp;&nbsp;&nbsp;&nbsp;&nbsp;&nbsp;&nbsp;&nbsp;score\\_fils = fils.remonter\\_score()<br>&nbsp;&nbsp;&nbsp;&nbsp;&nbsp;&nbsp;&nbsp;&nbsp;&nbsp;&nbsp;&nbsp;&nbsp;&nbsp;&nbsp;&nbsp;&nbsp;score\\_noeud = max(score\\_noeud, score\\_fils)<br>&nbsp;&nbsp;&nbsp;&nbsp;&nbsp;&nbsp;&nbsp;&nbsp;&nbsp;&nbsp;&nbsp;&nbsp;&nbsp;&nbsp;&nbsp;&nbsp;si score\\_noeud >= self.beta : \\# coupure beta<br>&nbsp;&nbsp;&nbsp;&nbsp;&nbsp;&nbsp;&nbsp;&nbsp;&nbsp;&nbsp;&nbsp;&nbsp;&nbsp;&nbsp;&nbsp;&nbsp;&nbsp;&nbsp;&nbsp;&nbsp;break \\# inutile de poursuivre l'exploration<br>&nbsp;&nbsp;&nbsp;&nbsp;&nbsp;&nbsp;&nbsp;&nbsp;&nbsp;&nbsp;&nbsp;&nbsp;&nbsp;&nbsp;&nbsp;&nbsp;self.alpha = max(score\\_noeud, self.alpha) \\# attaquant actualise alpha<br>&nbsp;&nbsp;&nbsp;&nbsp;&nbsp;&nbsp;&nbsp;&nbsp;sinon: \\# noeud est défenseur. role : trouver son score et minimmiser son attribut beta<br>&nbsp;&nbsp;&nbsp;&nbsp;&nbsp;&nbsp;&nbsp;&nbsp;&nbsp;&nbsp;&nbsp;&nbsp;score\\_noeud = + infini <br>&nbsp;&nbsp;&nbsp;&nbsp;&nbsp;&nbsp;&nbsp;&nbsp;&nbsp;&nbsp;&nbsp;&nbsp;pour chaque fils:<br>&nbsp;&nbsp;&nbsp;&nbsp;&nbsp;&nbsp;&nbsp;&nbsp;&nbsp;&nbsp;&nbsp;&nbsp;&nbsp;&nbsp;&nbsp;&nbsp;noeud transmet à fils ses paramètres alpha et beta<br>&nbsp;&nbsp;&nbsp;&nbsp;&nbsp;&nbsp;&nbsp;&nbsp;&nbsp;&nbsp;&nbsp;&nbsp;&nbsp;&nbsp;&nbsp;&nbsp;score\\_fils = fils.remonter\\_score()<br>&nbsp;&nbsp;&nbsp;&nbsp;&nbsp;&nbsp;&nbsp;&nbsp;&nbsp;&nbsp;&nbsp;&nbsp;&nbsp;&nbsp;&nbsp;&nbsp;score\\_noeud = min(score\\_noeud, score\\_fils)<br>&nbsp;&nbsp;&nbsp;&nbsp;&nbsp;&nbsp;&nbsp;&nbsp;&nbsp;&nbsp;&nbsp;&nbsp;&nbsp;&nbsp;&nbsp;&nbsp;si score\\_noeud <= self.alpha : \\# coupure alpha<br>&nbsp;&nbsp;&nbsp;&nbsp;&nbsp;&nbsp;&nbsp;&nbsp;&nbsp;&nbsp;&nbsp;&nbsp;&nbsp;&nbsp;&nbsp;&nbsp;&nbsp;&nbsp;&nbsp;&nbsp;break \\# inutile de poursuivre l'exploration<br>&nbsp;&nbsp;&nbsp;&nbsp;&nbsp;&nbsp;&nbsp;&nbsp;&nbsp;&nbsp;&nbsp;&nbsp;&nbsp;&nbsp;&nbsp;&nbsp;self.beta = min(score\\_noeud, self.beta) \\# défenseur actualise beta<br>&nbsp;&nbsp;&nbsp;&nbsp;renvoyer score\\_noeud<br></code>\n",
    "## <span style=\"text-decoration: underline;color:red;\">IV. Application au puissance 4 :</span> ##\n",
    "### <span style=\"text-decoration: underline;color:green;\">1. Les fonctions nécessaires :</span> ###\n",
    "COPIER-COLLEZ le code des fonctions <span style=\"font-family:Courier New;font-size: 100%;\">grille&#95;vierge, grille&#95;complete, hauteur, jouer</span> et <span style=\"font-family:Courier New;font-size: 100%;\">heuristique</span> codées dans le notebook précédent.<br>\n"
   ]
  },
  {
   "cell_type": "code",
   "execution_count": null,
   "id": "300d5e8d",
   "metadata": {},
   "outputs": [],
   "source": [
    "# Code des fonctions nécessaires au jeu"
   ]
  },
  {
   "cell_type": "markdown",
   "id": "31ceab64",
   "metadata": {},
   "source": [
    "### <span style=\"text-decoration: underline;color:green;\">2. Codage des noeuds via la classe <span style=\"font-family:Courier New;font-size: 100%;\">AlphaBeta</span> :</span> ###\n",
    "On conserve la même classe noeud que pour le Minimax. En rajoutant simplement :\n",
    "- deux attributs <span style=\"font-family:Courier New;font-size: 100%;\">alpha</span> et <span style=\"font-family:Courier New;font-size: 100%;\">beta</span> initialisés à $-\\infty$ et $+\\infty$ par défaut\n",
    "\n",
    "<strong>Seule la méthode</strong> <span style=\"font-family:Courier New;font-size: 100%;\">remonter&#95;score</span> va changer, puisqu'elle utilise <span style=\"font-family:Courier New;font-size: 100%;\">self.alpha</span> et <span style=\"font-family:Courier New;font-size: 100%;\">self.beta</span>.<br>\n"
   ]
  },
  {
   "cell_type": "code",
   "execution_count": null,
   "id": "23138bd2",
   "metadata": {},
   "outputs": [],
   "source": [
    "class Noeud:\n",
    "\n",
    "    def __init__(self, pion_ordi, lst_colonnes, attaquant = True , profondeur = 0, dernier_coup = None):\n",
    "        self.pion_ordi = pion_ordi # fixé en début de partie. Permet de calculer l'heuristique\n",
    "        self.colonnes = lst_colonnes # état du jeu\n",
    "        self.attaquant = attaquant # la racine est un noeud attaquant par défaut. Ses fils défenseurs, etc.\n",
    "        self.profondeur = profondeur\n",
    "        self.dernier_coup = dernier_coup\n",
    "        # attributs ajoutés :\n",
    "        self.pion_humain = 3 - pion_ordi\n",
    "        self.pion_a_placer = self.pion_ordi if self.attaquant else self.pion_humain\n",
    "        self.fils = []\n",
    "        self.alpha = -float(\"inf\")\n",
    "        self.beta = float(\"inf\")\n",
    "\n",
    "    def est_feuille(self, profondeur_max):\n",
    "        '''renvoie True si la partie est finie ou si le noeud est de profondeur profondeur_max'''\n",
    "        pass\n",
    "        \n",
    "\n",
    "    def creer_fils(self, x, y):\n",
    "        '''Crée une instance fils en jouant en colonne x hauteur y EN LUI PASSANT SES PARAMETRES ALPHA BETA'''\n",
    "        pass\n",
    "\n",
    "    def remonter_score(self, profondeur_max):\n",
    "        '''remonte les scores selon l'algorithme alpha - beta avec une profondeur_max d'exploration'''\n",
    "        pass\n",
    "\n",
    "\n",
    "    def meilleur_coup(self, profondeur_max):\n",
    "        '''renvoie le tuple (x, y) correspondant aux coordonnées où doit jouer l'IA'''\n",
    "        pass"
   ]
  },
  {
   "cell_type": "markdown",
   "id": "2dcf0700",
   "metadata": {},
   "source": [
    "### <span style=\"text-decoration: underline;color:green;\">3. Les méthodes :</span> ###\n",
    "Complétez toutes les méthodes.<br>\n",
    "Seule la méthode <span style=\"font-family:Courier New;font-size: 100%;\">remonter&#95;score</span> change!<br>\n",
    "Notez que le gain de temps est net! On peut explorer jusqu'à 7 voire 8 à présent!<br>\n"
   ]
  },
  {
   "cell_type": "code",
   "execution_count": null,
   "id": "165e6577",
   "metadata": {},
   "outputs": [],
   "source": [
    "lst_col = grille_vierge()\n",
    "scores_attendus = [6, 0, 5] # pour des profondeurs de 5, 6, et 7. On obtient -2 à une profondeur de 8\n",
    "for profondeur in range(5, 8):\n",
    "    racine = Noeud(1, lst_col)\n",
    "    assert racine.remonter_score(profondeur) == scores_attendus[profondeur-5], f'''erreur score à une profondeur de {scores_attendus[profondeur-5]}'''"
   ]
  },
  {
   "cell_type": "code",
   "execution_count": null,
   "id": "eb19a470",
   "metadata": {},
   "outputs": [],
   "source": [
    "solution.Noeud()   "
   ]
  },
  {
   "cell_type": "markdown",
   "id": "4102be06",
   "metadata": {},
   "source": [
    "## <span style=\"text-decoration: underline;color:red;\">V. Match homme-IA:</span> ##\n",
    "Vous pouvez relancer un match contre votre IA.<br>\n",
    "Vous devriez noter une accélération du jeu, puisque les choix sont les mêmes, mais avec élagage.<br>\n",
    "Vous pouvez passer la profondeur d'exploration à 6, 7 voire 8...<br>\n"
   ]
  },
  {
   "cell_type": "code",
   "execution_count": null,
   "id": "8558e436",
   "metadata": {},
   "outputs": [],
   "source": [
    "# Match homme - IA :\n",
    "def match(prof_max, affichage = 1): # affichage = 1 pour pion de couleur ou 2 pour croix et rond\n",
    "    pion_ordi = int(input(\"Qui commence? (Ordi : 1, humain : 2) :\"))\n",
    "    pion_humain = 3 - pion_ordi\n",
    "    tour_humain = True\n",
    "    if pion_ordi == 1:\n",
    "        tour_humain = False\n",
    "    lst_col = grille_vierge()\n",
    "    num_joueur = 1\n",
    "    dic_joueurs = {pion_ordi : \"Ordinateur\", pion_humain : \"Humain\"}\n",
    "    x = None\n",
    "    while True:\n",
    "        effacer()\n",
    "        afficher(lst_col, affichage)\n",
    "        if x is not None and num_joueur == pion_humain: # on affiche toujours ou vient de jouer Ordi\n",
    "            print(dic_joueurs[pion_ordi], \"a joué en colonne\", x)\n",
    "        if num_joueur == pion_humain: # on interroge humain \n",
    "            while True: # on demande un coup valide à l'humain\n",
    "                x = input(\"En quelle colonne souhaitez-vous jouer?\")\n",
    "                if x == \"q\":# On quitte le jeu\n",
    "                    return\n",
    "                try: # On détecte les choix invalides (colonne complète, invalide ou erreur de saisie)\n",
    "                    x = int(x)\n",
    "                    y = hauteur(x, lst_col)\n",
    "                    if y != -1:\n",
    "                        break\n",
    "                except:\n",
    "                    print(\"choix invalide\")\n",
    "            # on actualise la grille :\n",
    "            lst_col = jouer(x, y, pion_humain, lst_col)\n",
    "            \n",
    "        else:\n",
    "            # ordi joue\n",
    "            racine = Noeud(pion_ordi, lst_col) # la racine est un noeud attaquant par défaut\n",
    "            x = racine.meilleur_coup(prof_max)\n",
    "            y = hauteur(x, lst_col)\n",
    "            lst_col = jouer(x, y, pion_ordi, lst_col)\n",
    "        # vainqueur ou nulle?\n",
    "        if abs(heuristique(lst_col, pion_ordi)) == float(\"inf\"):\n",
    "            effacer()\n",
    "            afficher(lst_col, affichage)\n",
    "            print(dic_joueurs[num_joueur], \"gagne!\")\n",
    "            return\n",
    "        if grille_complete(lst_col):\n",
    "            effacer()\n",
    "            afficher(lst_col, affichage)\n",
    "            print(\"match nul!\")\n",
    "            return\n",
    "        num_joueur = 3 - num_joueur\n",
    "        \n",
    "match(7) # match avec une profondeur max de 7"
   ]
  },
  {
   "cell_type": "markdown",
   "id": "56b8acbd",
   "metadata": {},
   "source": [
    "## <span style=\"text-decoration: underline;color:red;\">VI. Améliorations... :</span> ##\n",
    "<strong>FACULTATIF!</strong><br>\n",
    "Si vous voulez améliorer votre IA...<br>\n",
    "Cherchez meilleure heuristique...<br>\n",
    "L'ordre d'exploration des fils peut-elle être changée pour améliorer l'élagage?...<br>\n",
    "Peut-on mieux coder une grille?<br>\n",
    "Explorez-toutes les pistes possibles!<br>\n"
   ]
  },
  {
   "cell_type": "code",
   "execution_count": null,
   "id": "2effa624",
   "metadata": {},
   "outputs": [],
   "source": [
    "# IA amélioréé"
   ]
  }
 ],
 "metadata": {},
 "nbformat": 4,
 "nbformat_minor": 5
}
