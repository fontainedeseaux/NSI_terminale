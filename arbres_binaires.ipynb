{
 "cells": [
  {
   "cell_type": "code",
   "execution_count": null,
   "metadata": {},
   "outputs": [],
   "source": [
    "from outils import* # Lancer la cellule pour importer les outils nécessaires au notebook."
   ]
  },
  {
   "cell_type": "markdown",
   "metadata": {},
   "source": [
    "# <div style=\"text-align:center;\"><span style=\"border: 2px solid;padding:6px;color:dodgerblue;\">Structures hiérarchiques : arbres et arbres binaires</span></div> #\n",
    "\n",
    "Nous avons déjà découvert la structure d'arbre en début d'année.<br>\n",
    "Il s'agit ici de formaliser le vocabulaire et les définitions. <br>\n",
    "On s'intéressera avant tout aux arbres <strong>binaires</strong>, à leur implémentation et leurs parcours.\n",
    "## <u style=\"color:red;\">I. Définitions et propriétés :</u> ##\n",
    "### <u style=\"color:green;\">1. Définitions :</u> ###\n",
    "<u>*Définition 1 :*</u><br>\n",
    "Un arbre est un ensemble <u>soit vide</u>, <u>soit organisé de <strong>noeuds</strong></u> :<br>\n",
    "&nbsp;&nbsp;&nbsp;&nbsp;&nbsp;&nbsp;&nbsp;&nbsp;• chaque noeud ayant un père et un seul<br>\n",
    "&nbsp;&nbsp;&nbsp;&nbsp;&nbsp;&nbsp;&nbsp;&nbsp;• excepté un noeud, la <strong>racine</strong>, qui n’a pas de père<br>\n",
    "<br>\n",
    "● Les <strong>fils</strong> d’un noeud <span style=\"font-family:Courier New;font-size: 100%;\">p</span> sont les noeuds qui ont pour père <span style=\"font-family:Courier New;font-size: 100%;\">p</span>.<br>\n",
    "● Les <strong>feuilles</strong> d’un arbre sont les noeuds qui n’ont pas de fils.<br>\n",
    "<br>\n",
    "Voici l’exemple d’un arbre <span style=\"font-family:Lucida Calligraphy\">A</span> dont les noeuds sont \"<strong>étiquetés</strong>\" avec des nombres entiers :<br>\n",
    "![alt text](mes_images/exemple_arbre.png \"Un arbre n- aire\")<br>\n",
    "● De manière équivalente, on peut définir un arbre de manière <strong>récursive</strong> :<br>\n",
    "<br>\n",
    "<u>*Définition 2 :*</u><br>\n",
    "Un arbre est :<br>\n",
    "&nbsp;&nbsp;&nbsp;&nbsp;&nbsp;&nbsp;&nbsp;&nbsp;• soit vide<br>\n",
    "&nbsp;&nbsp;&nbsp;&nbsp;&nbsp;&nbsp;&nbsp;&nbsp;• soit constitué : <br>\n",
    "&nbsp;&nbsp;&nbsp;&nbsp;&nbsp;&nbsp;&nbsp;&nbsp;&nbsp;&nbsp;&nbsp;&nbsp;&nbsp;&nbsp;&nbsp;&nbsp;→ d’un noeud <span style=\"font-family:Courier New;font-size: 100%;\">r</span>, sa racine<br>\n",
    "&nbsp;&nbsp;&nbsp;&nbsp;&nbsp;&nbsp;&nbsp;&nbsp;&nbsp;&nbsp;&nbsp;&nbsp;&nbsp;&nbsp;&nbsp;&nbsp;→ d’une suite de sous-arbres $(a_1, a_2,..., a_k)$<br>\n",
    "<br>\n",
    "Les <strong>racines</strong> des arbres $a_1, a_2,..., a_k$ sont les fils de <span style=\"font-family:Courier New;font-size: 100%;\">r</span>.<br>\n",
    "<br>\n",
    "<u>*Exemple :*</u><br>\n",
    "![alt text](mes_images/sous_arbre.png \"Notion de sous-arbre\")\n",
    "### <u style=\"color:green;\">2. Notions complémentaires :</u> ###\n",
    "#### <u style=\"color:blue;\">a. Taille d’un arbre</u> ####\n",
    "La <strong>taille</strong> d’un arbre est le nombre de noeuds qui le composent.<br>\n"
   ]
  },
  {
   "cell_type": "code",
   "execution_count": null,
   "metadata": {},
   "outputs": [],
   "source": [
    "question.taille()"
   ]
  },
  {
   "cell_type": "markdown",
   "metadata": {},
   "source": [
    "#### <u style=\"color:blue;\">b. Hauteur d'un arbre :</u> ####\n",
    "La hauteur d’un arbre <strong>non vide</strong> est le nombre de branches du chemin le plus long de l’arbre.<br>\n",
    "<br>\n",
    "<u>*Remarque :*</u> <br>\n",
    "La définition précédente ne donne pas la définition de la hauteur d’un arbre vide.<br>\n"
   ]
  },
  {
   "cell_type": "code",
   "execution_count": null,
   "metadata": {},
   "outputs": [],
   "source": [
    "question.hauteur()"
   ]
  },
  {
   "cell_type": "markdown",
   "metadata": {},
   "source": [
    "⚠️ Il existe une autre définition (tout aussi valable...) de la hauteur d’un arbre :<br>\n",
    "<br><span style=\"border: 2px solid;padding:6px;\">hauteur = <strong>nombre de noeuds</strong> du chemin le plus long de l’arbre.</span><br>\n",
    "<br><br>\n",
    "L'avantage de cette définition est qu'elle permet cette fois-ci de donner la hauteur d'un arbre vide.<br>\n"
   ]
  },
  {
   "cell_type": "code",
   "execution_count": null,
   "metadata": {},
   "outputs": [],
   "source": [
    "question.hauteur_nouvelle_definition()"
   ]
  },
  {
   "cell_type": "markdown",
   "metadata": {},
   "source": [
    "## <u style=\"color:red;\">II. Arbre binaire :</u> ##\n",
    "### <u style=\"color:green;\">1. Définition :</u> ###\n",
    "Un arbre est dit <strong>binaire</strong> lorsque chacun de ses noeuds a <strong>au maximum deux fils</strong>.<br>\n",
    "<br>\n",
    "<u>*Exemple :*</u>  <br>\n",
    "![alt text](mes_images/arbre_binaire.png)<br>\n",
    "<u>*Remarque :*</u>  <br>\n",
    "En lien avec la définition <strong>récursive</strong> des arbres, on appellera souvent <strong>sous-arbre-gauche</strong> et <strong>sous-arbre-droit</strong> les deux sous-arbres (éventuellement vides) obtenus depuis un noeud.<br>\n",
    "<br>\n",
    "En particulier, il faudra bien considérer que les arbres suivants sont <u>différents</u> :<br>\n",
    "![alt text](mes_images/arbres_differents.png \"arbres binaires distincts\")<br>\n",
    "A noter qu’il n’y a pas de norme établie pour représenter un arbre. <br>\n",
    "On trouvera parfois les étiquettes des noeuds encerclées et les branches orientées ou non (flèche ou pas).<br>\n",
    "On peut même renforcer la présentation en indiquant une branche sans noeud.<br>\n",
    "Ainsi, les deux arbres de droite des exemples précédents peuvent se présenter également ainsi :<br>\n",
    "![alt text](mes_images/peignes.png \"arbres peignes\")<br>\n",
    "On peut aussi qualifier ce type d'arbre de <strong>dégénéré</strong>.<br>\n"
   ]
  },
  {
   "cell_type": "code",
   "execution_count": null,
   "metadata": {},
   "outputs": [],
   "source": [
    "question.degenere()"
   ]
  },
  {
   "cell_type": "markdown",
   "metadata": {},
   "source": [
    "### <u style=\"color:green;\">2. Quelques implémentations en python:</u> ###\n",
    "#### <u style=\"color:blue;\">a. A l'aide de <span style=\"font-family:Courier New;font-size: 100%;\">tuple</span>:</u> ####\n",
    "Considérons l'arbre binaire suivant :<br>\n",
    "![alt text](mes_images/sad.png)<br>\n",
    "On va représenter ici un arbre / sous-arbre :<br>\n",
    "&nbsp;&nbsp;&nbsp;&nbsp;&nbsp;&nbsp;&nbsp;&nbsp;• <strong>vide</strong> par <span style=\"font-family:Courier New;font-size: 100%;\">None</span>.<br>\n",
    "&nbsp;&nbsp;&nbsp;&nbsp;&nbsp;&nbsp;&nbsp;&nbsp;• <strong>non vide</strong> par un <span style=\"font-family:Courier New;font-size: 100%;\">tuple</span> de 3 éléments : <span style=\"font-family:Courier New;font-size: 100%;\">(etiquette, sous_arbre_gauche, sous_arbre_droit)</span><br>\n",
    "<br>\n",
    "Voici donc une implémentation possible de cet arbre :<br>\n"
   ]
  },
  {
   "cell_type": "code",
   "execution_count": null,
   "metadata": {},
   "outputs": [],
   "source": [
    "# On remonte niveau par niveau, en partant des noeuds les plus profonds :\n",
    "noeud_21 = (21, None, None)\n",
    "noeud_27 = (27, None, None)\n",
    "# On remonte d'un niveau dans l'arbre :\n",
    "noeud_15 = (15, None, None)\n",
    "noeud_24 = (24, noeud_21, noeud_27)\n",
    "# On termine par la racine qu'on assimile à l'arbre :\n",
    "arbre_1= (18, noeud_15, noeud_24)"
   ]
  },
  {
   "cell_type": "code",
   "execution_count": null,
   "metadata": {},
   "outputs": [],
   "source": [
    "question.une_seule_ligne()"
   ]
  },
  {
   "cell_type": "code",
   "execution_count": null,
   "metadata": {},
   "outputs": [],
   "source": [
    "question.etiquette_arbre_1()"
   ]
  },
  {
   "cell_type": "code",
   "execution_count": null,
   "metadata": {},
   "outputs": [],
   "source": [
    "question.etiquette_racine_sous_arbre_droit()"
   ]
  },
  {
   "cell_type": "markdown",
   "metadata": {},
   "source": [
    "● On souhaite à présent obtenir l'arbre ci-dessous :<br>\n",
    "![alt text](mes_images/arbre_binaire.png)<br>\n",
    "<br>\n",
    "En utilisant la variable <span style=\"font-family:Courier New;font-size: 100%;\">arbre_1</span>, complétez sa construction afin d'obtenir l'arbre complet.<br>\n",
    "Il s'agit donc d'obtenir une variable <span style=\"font-family:Courier New;font-size: 100%;\">arbre</span> de type <span style=\"font-family:Courier New;font-size: 100%;\">tuple</span> qui modélise l'arbre complet.<br>\n"
   ]
  },
  {
   "cell_type": "code",
   "execution_count": null,
   "metadata": {},
   "outputs": [],
   "source": [
    "# à compléter"
   ]
  },
  {
   "cell_type": "code",
   "execution_count": null,
   "metadata": {},
   "outputs": [],
   "source": [
    "solution.arbre_complet_tuple()"
   ]
  },
  {
   "cell_type": "markdown",
   "metadata": {},
   "source": [
    "#### <u style=\"color:blue;\">b. A l'aide d'un dictionnaire :</u> ####\n",
    "On peut créer une clé <span style=\"font-family:Courier New;font-size: 100%;\">'valeur'</span> ou <span style=\"font-family:Courier New;font-size: 100%;\">'etiquette'</span>. Mais au lieu de créer une liste de fils, on ajoute deux clés :<br>\n",
    "<span style=\"font-family:Courier New;font-size: 100%;\">'filsG'</span> et <span style=\"font-family:Courier New;font-size: 100%;\">filsD'</span>.<br>\n",
    "Ce qui donne sur comme autre implémentation possible du sous-arbre <span style=\"font-family:Courier New;font-size: 100%;\">arbre_1</span>:<br>\n"
   ]
  },
  {
   "cell_type": "code",
   "execution_count": null,
   "metadata": {},
   "outputs": [],
   "source": [
    "dic_noeud_21 = {'etiquette': 21, 'filsG': None, 'filsD' : None}\n",
    "dic_noeud_27 = {'etiquette': 27, 'filsG': None, 'filsD' : None}\n",
    "# Puis on remonte dans l'arbre :\n",
    "dic_noeud_15 = {'etiquette': 15, 'filsG': None, 'filsD' : None}\n",
    "dic_noeud_24 = {'etiquette': 24, 'filsG': dic_noeud_15, 'filsD' : dic_noeud_27}\n",
    "# On termine par la racine qu'on assimile à l'arbre :\n",
    "dic_arbre_1 = {'etiquette': 18, 'filsG': dic_noeud_15, 'filsD' : dic_noeud_24}"
   ]
  },
  {
   "cell_type": "code",
   "execution_count": null,
   "metadata": {},
   "outputs": [],
   "source": [
    "qcm.etiquette_dic_arbre_1()"
   ]
  },
  {
   "cell_type": "code",
   "execution_count": null,
   "metadata": {},
   "outputs": [],
   "source": [
    "qcm.etiq_racine_sous_arbre_droit()"
   ]
  },
  {
   "cell_type": "markdown",
   "metadata": {},
   "source": [
    "● En utilisant la variable <span style=\"font-family:Courier New;font-size: 100%;\">dic_arbre_1</span>, complétez la construction de l'arbre.<br>\n",
    "Il s'agit d'obtenir une variable <span style=\"font-family:Courier New;font-size: 100%;\">dic_arbre</span> de type <span style=\"font-family:Courier New;font-size: 100%;\">dict</span> modélisant l'arbre complet.<br>\n"
   ]
  },
  {
   "cell_type": "code",
   "execution_count": null,
   "metadata": {},
   "outputs": [],
   "source": [
    "# à compléter"
   ]
  },
  {
   "cell_type": "code",
   "execution_count": null,
   "metadata": {},
   "outputs": [],
   "source": [
    "solution.arbre_complet_dictionnaire()"
   ]
  },
  {
   "cell_type": "markdown",
   "metadata": {},
   "source": [
    "#### <u style=\"color:blue;\">c. A l'aide de classes :</u> ####\n",
    "Nous verrons cette implémentation dans un notebook spécialement dédié.<br>\n",
    "Deux approches sont possibles :<br>\n",
    "&nbsp;&nbsp;&nbsp;&nbsp;&nbsp;&nbsp;&nbsp;&nbsp;• soit créer une class <span style=\"font-family:Courier New;font-size: 100%;\">Noeud</span> seulement. En considérant qu'un arbre est connu par la donnée de sa racine.<br>\n",
    "&nbsp;&nbsp;&nbsp;&nbsp;&nbsp;&nbsp;&nbsp;&nbsp;• soit créer une classe <span style=\"font-family:Courier New;font-size: 100%;\">Noeud</span> puis une classe <span style=\"font-family:Courier New;font-size: 100%;\">Arbre</span>, dont on précise alors un attribut <span style=\"font-family:Courier New;font-size: 100%;\">racine</span>.<br>\n",
    "Comme nous l'avions fait pour les listes chainées, il est ensuite possible d'ajouter des méthodes à cette classe <span style=\"font-family:Courier New;font-size: 100%;\">Arbre</span>.\n",
    "## <u style=\"color:red;\">III. Algorithmes de calcul de taille et hauteur d'un arbre binaire :</u> ##\n",
    "### <u style=\"color:green;\">1. Calcul de la taille :</u> ###\n",
    "On part sur le principe d'une implémentation de l'arbre à l'aide d'un <span style=\"font-family:Courier New;font-size: 100%;\">tuple</span>.<br>\n",
    "On souhaite construire une fonction <strong>récursive</strong> <span style=\"font-family:Courier New;font-size: 100%;\">taille(mon_arbre)</span> qui renvoie la taille de l'arbre binaire <span style=\"font-family:Courier New;font-size: 100%;\">mon_arbre</span>.<br>\n",
    "Complétez son code et testez-la sur les arbres <span style=\"font-family:Courier New;font-size: 100%;\">arbre_1</span> et <span style=\"font-family:Courier New;font-size: 100%;\">arbre</span> précédemment crées.<br>\n"
   ]
  },
  {
   "cell_type": "code",
   "execution_count": null,
   "metadata": {},
   "outputs": [],
   "source": [
    "def taille(mon_arbre):\n",
    "    '''renvoie la taille de l'arbre binaire mon_arbre'''\n",
    "    # à compléter"
   ]
  },
  {
   "cell_type": "code",
   "execution_count": null,
   "metadata": {},
   "outputs": [],
   "source": [
    "solution.taille()"
   ]
  },
  {
   "cell_type": "markdown",
   "metadata": {},
   "source": [
    "### <u style=\"color:green;\">2. Calcul de la hauteur :</u> ###\n",
    "On prend ici la définition de la hauteur comme le <strong>nombre de noeuds</strong> du chemin le plus long.<br>\n",
    "Et on reste sur une modélisation de l'arbre sous forme de <span style=\"font-family:Courier New;font-size: 100%;\">tuple</span>.<br>\n",
    "Complétez le code de la fonction récursive <span style=\"font-family:Courier New;font-size: 100%;\">hauteur(mon_arbre)</span> et testez-la sur les arbres <span style=\"font-family:Courier New;font-size: 100%;\">arbre_1</span> et <span style=\"font-family:Courier New;font-size: 100%;\">arbre</span> précédemment crées.<br>\n"
   ]
  },
  {
   "cell_type": "code",
   "execution_count": null,
   "metadata": {},
   "outputs": [],
   "source": [
    "def hauteur(mon_arbre):\n",
    "    '''renvoie la hauteur de l'arbre binaire mon_arbre'''\n",
    "    # à compléter"
   ]
  },
  {
   "cell_type": "code",
   "execution_count": null,
   "metadata": {},
   "outputs": [],
   "source": [
    "solution.hauteur()"
   ]
  },
  {
   "cell_type": "markdown",
   "metadata": {},
   "source": [
    "<u style=\"color:blue;\">Exercice 1 :</u><br>\n",
    "Réécrire les deux fonctions qui précèdent en adoptant la représentation d'un arbre binaire à l'aide de <strong>dictionnaire</strong>.<br>\n",
    "Pensez à les tester avec <span style=\"font-family:Courier New;font-size: 100%;\">dic_arbre_1</span> et <span style=\"font-family:Courier New;font-size: 100%;\">dic_arbre</span>.<br>\n"
   ]
  },
  {
   "cell_type": "code",
   "execution_count": null,
   "metadata": {},
   "outputs": [],
   "source": [
    "def taille_dic(mon_arbre):\n",
    "    '''renvoie la taille d'un arbre dont les noeuds sont représentés sous forme de dico'''\n",
    "    # à compléter"
   ]
  },
  {
   "cell_type": "code",
   "execution_count": null,
   "metadata": {},
   "outputs": [],
   "source": [
    "solution.taille_dic()"
   ]
  },
  {
   "cell_type": "code",
   "execution_count": null,
   "metadata": {},
   "outputs": [],
   "source": [
    "def hauteur_dic(mon_arbre):\n",
    "    '''renvoie la hauteur (nb_noeuds_chemin plus long) d'un arbre dont les noeuds sont représentés sous forme de dico'''\n",
    "    # à compléter"
   ]
  },
  {
   "cell_type": "code",
   "execution_count": null,
   "metadata": {},
   "outputs": [],
   "source": [
    "solution.hauteur_dic()"
   ]
  },
  {
   "cell_type": "markdown",
   "metadata": {},
   "source": [
    "<u style=\"color:blue;\">Exercice 2 :</u><br>\n",
    "On reprend la modélisation d'un arbre <u>à l'aide de tuple</u>.<br>\n",
    "Ecrire une fonction <strong>récursive</strong> <span style=\"font-family:Courier New;font-size: 100%;\">nb_feuilles(mon_arbre)</span> qui renvoie le nombre de feuilles de <span style=\"font-family:Courier New;font-size: 100%;\">mon_arbre</span> :<br>\n"
   ]
  },
  {
   "cell_type": "code",
   "execution_count": null,
   "metadata": {},
   "outputs": [],
   "source": [
    "def nb_feuilles(mon_arbre):\n",
    "    '''renvoie le nombre de feuilles de mon_arbre'''\n",
    "    # à compléter"
   ]
  },
  {
   "cell_type": "code",
   "execution_count": null,
   "metadata": {},
   "outputs": [],
   "source": [
    "solution.nb_feuilles()"
   ]
  },
  {
   "cell_type": "markdown",
   "metadata": {},
   "source": [
    "### <u style=\"color:green;\">3. Encadrement de la taille d'un arbre :</u> ###\n",
    "<u>*Définition :*</u><br>\n",
    "Un arbre binaire est dit <strong>complet</strong> lorsque :<br>\n",
    "&nbsp;&nbsp;&nbsp;&nbsp;&nbsp;&nbsp;&nbsp;&nbsp;• chaque noeud (hormis les feuilles) a <strong>exactement deux fils</strong><br>\n",
    "&nbsp;&nbsp;&nbsp;&nbsp;&nbsp;&nbsp;&nbsp;&nbsp;• <strong>les chemins</strong> reliant la racine aux feuilles <strong>ont la même longueur</strong><br>\n",
    "<br>\n",
    "En prenant comme hauteur la longueur du chemin le plus long, voici quelques arbres binaires complets :<br>\n",
    "![alt text](mes_images/complet.png \"Arbres complets de hauteurs 1, 2 et 3\")<br>\n"
   ]
  },
  {
   "cell_type": "code",
   "execution_count": null,
   "metadata": {},
   "outputs": [],
   "source": [
    "qcm.taille_arbre_complet()"
   ]
  },
  {
   "cell_type": "code",
   "execution_count": null,
   "metadata": {},
   "outputs": [],
   "source": [
    "question.taille_arbre_degenere()"
   ]
  },
  {
   "cell_type": "markdown",
   "metadata": {},
   "source": [
    "● En déduire un encadrement de la taille d'un arbre binaire quelconque de hauteur $h$.<br>\n",
    "Puis vérifiez votre réponse ci-dessous.<br>\n",
    "![alt text](mes_images/crayon_papier.png)<br>\n"
   ]
  },
  {
   "cell_type": "code",
   "execution_count": null,
   "metadata": {},
   "outputs": [],
   "source": [
    "solution.encadrement()"
   ]
  },
  {
   "cell_type": "markdown",
   "metadata": {},
   "source": [
    "## <u style=\"color:red;\">IV. Parcours en largeur et en profondeur d'un arbre binaire :</u> ##\n",
    "### <u style=\"color:green;\">1. Parcours en largeur :</u> ###\n",
    "Voici le parcours en largeur d'un arbre binaire <strong>non vide</strong> :<br>\n",
    "<br>\n",
    "`créer une file vide`<br>\n",
    "`y enfiler le noeud racine`<br>\n",
    "`tant que la file est non vide:`<br>\n",
    "&nbsp;&nbsp;&nbsp;&nbsp;&nbsp;&nbsp;&nbsp;&nbsp;`defiler la tete (facultatif : afficher son étiquette)`<br>\n",
    "&nbsp;&nbsp;&nbsp;&nbsp;&nbsp;&nbsp;&nbsp;&nbsp;`enfiler filsG si le sous arbre gauche est non vide`<br>\n",
    "&nbsp;&nbsp;&nbsp;&nbsp;&nbsp;&nbsp;&nbsp;&nbsp;`enfiler filsD si le sous arbre droiteest non vide`<br>\n",
    "<br>\n",
    "<u style=\"color:blue;\">Exercice 3 :</u><br>\n",
    "Programmer une fonction <span style=\"font-family:Courier New;font-size: 100%;\">rechercher(valeur, mon_arbre)</span> qui renvoie <span style=\"font-family:Courier New;font-size: 100%;\">True</span> si <span style=\"font-family:Courier New;font-size: 100%;\">valeur</span> est une étiquette d'un noeud de <span style=\"font-family:Courier New;font-size: 100%;\">mon_arbre</span> et <span style=\"font-family:Courier New;font-size: 100%;\">False</span> sinon.<br>\n",
    "On effectuera pour cela un <u>parcours en largeur</u> de l'arbre binaire à l'aide d'une <strong>file</strong>.<br>\n"
   ]
  },
  {
   "cell_type": "code",
   "execution_count": null,
   "metadata": {},
   "outputs": [],
   "source": [
    "def rechercher(valeur, mon_arbre):\n",
    "    '''renvoie True ou False selon que valeur est une étiquette d'un noeud de mon_arbre'''\n",
    "    # à compléter"
   ]
  },
  {
   "cell_type": "code",
   "execution_count": null,
   "metadata": {},
   "outputs": [],
   "source": [
    "solution.rechercher()"
   ]
  },
  {
   "cell_type": "markdown",
   "metadata": {},
   "source": [
    "### <u style=\"color:green;\">2. Parcours en profondeur :</u> ###\n",
    "Ecrire le parcours en profondeur d'un arbre binaire en utilisant une <strong>pile</strong>.<br>\n",
    "![alt text](mes_images/crayon_papier.png)<br>\n"
   ]
  },
  {
   "cell_type": "code",
   "execution_count": null,
   "metadata": {},
   "outputs": [],
   "source": [
    "solution.profondeur()"
   ]
  },
  {
   "cell_type": "markdown",
   "metadata": {},
   "source": [
    "● De la même façon, on peut coder la fonction <span style=\"font-family:Courier New;font-size: 100%;\">rechercher</span> en utilisant le parcours en profondeur à l'aide d'une pile.<br>\n",
    "<br>\n",
    "Cependant, <u style=\"color:u;\">dans le cas d'une recherche en profondeur</u>, la version la plus classique consiste à utiliser une fonction <strong>récursive</strong>.<br>\n",
    "<br>\n",
    "<u style=\"color:blue;\">Exercice 4 :</u><br>\n",
    "Programmer une fonction <strong>récursive</strong> <span style=\"font-family:Courier New;font-size: 100%;\">rechercher_en_profondeur(valeur, mon_arbre)</span> qui renvoie <span style=\"font-family:Courier New;font-size: 100%;\">True</span> si <span style=\"font-family:Courier New;font-size: 100%;\">valeur</span> est une étiquette d'un noeud de <span style=\"font-family:Courier New;font-size: 100%;\">mon_arbre</span> et <span style=\"font-family:Courier New;font-size: 100%;\">False</span> sinon.<br>\n"
   ]
  },
  {
   "cell_type": "code",
   "execution_count": null,
   "metadata": {},
   "outputs": [],
   "source": [
    "def rechercher_en_profondeur(valeur, mon_arbre):\n",
    "    ''' renvoie True si valeur est une étiquette d'un des noeuds de l'arbre binaire'''\n",
    "    # à compléter"
   ]
  },
  {
   "cell_type": "code",
   "execution_count": null,
   "metadata": {},
   "outputs": [],
   "source": [
    "solution.rechercher_en_profondeur()"
   ]
  },
  {
   "cell_type": "markdown",
   "metadata": {},
   "source": [
    "● On reprend l'implémentation d'un arbre binaire à l'aide d'un <span style=\"font-family:Courier New;font-size: 100%;\">tuple</span>.<br>\n",
    "Codez en python la fonction <span style=\"font-family:Courier New;font-size: 100%;\">parcours_profondeur(mon_arbre)</span> de façon à afficher les étiquettes des noeuds successivement visités lors du parcours de <span style=\"font-family:Courier New;font-size: 100%;\">mon_arbre</span> en profondeur.<br>\n"
   ]
  },
  {
   "cell_type": "code",
   "execution_count": null,
   "metadata": {},
   "outputs": [],
   "source": [
    "def parcours_profondeur(mon_arbre):\n",
    "    '''affiche les étiquettes des noeuds successivement visités de mon_arbre'''\n",
    "    # à compléter"
   ]
  },
  {
   "cell_type": "code",
   "execution_count": null,
   "metadata": {},
   "outputs": [],
   "source": [
    "solution.parcours_profondeur()"
   ]
  },
  {
   "cell_type": "markdown",
   "metadata": {},
   "source": [
    "<u>*Remarque:*</u><br>\n",
    "Pour un arbre <u>binaire</u>, on verra qu'il y a trois parcours en profondeur possibles : infixe, préfixe et postfixe.<br>\n",
    "Ces parcours feront l'objet d'un notebook dédié.<br>\n",
    "Le parcours en profondeur proposé ici est le parcours en profondeur <strong>préfixe</strong>.<br>\n"
   ]
  }
 ],
 "metadata": {},
 "nbformat": 4,
 "nbformat_minor": 4
}
