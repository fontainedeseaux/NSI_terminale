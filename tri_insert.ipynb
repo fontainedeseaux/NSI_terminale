{
 "cells": [
  {
   "cell_type": "code",
   "execution_count": null,
   "metadata": {},
   "outputs": [],
   "source": [
    "from outils import * # import des outils nécessaires au notebook"
   ]
  },
  {
   "cell_type": "markdown",
   "metadata": {},
   "source": [
    "# <div style=\"text-align:center;\"><span style=\"border: 2px solid;padding:6px;color:dodgerblue;\">Tri par insertion</span></div> #\n",
    "\n",
    "Nous avons déjà vu le tri par sélection.<br>\n",
    "Nous allons ici découvrir le tri par <strong>insertion</strong>, qu'on utilise naturellement pour trier ses cartes.<br>\n",
    "![alt text](mes_images/jeu_initial.png \"jeu de cartes\")<br>\n",
    "\n",
    "## <u style=\"color:red;\">I. Principe du tri par insertion :</u> ##\n",
    "A partir d’un tableau <span style=\"font-family:Courier New;font-size: 100%;\">t</span> <u>non vide</u> et non trié de <span style=\"font-family:Courier New;font-size: 100%;\">n</span> éléments :\n",
    "- <span style=\"font-family:Courier New;font-size: 100%;\">1</span>$^{ère}$ étape : on insère le 2$^{ème}$  élément <span style=\"font-family:Courier New;font-size: 100%;\">t[1]</span> par rapport à <span style=\"font-family:Courier New;font-size: 100%;\">t[0]</span>. <span style=\"font-family:Courier New;font-size: 100%;\">t[1]</span> est donc soit inséré avant <span style=\"font-family:Courier New;font-size: 100%;\">t[0]</span> s'il est inférieur, soit inchangé de place s'il est supérieur.\n",
    "\n",
    "- <span style=\"font-family:Courier New;font-size: 100%;\">2</span>$^{ème}$ étape : on insère le  3$^{ème}$  élément, <span style=\"font-family:Courier New;font-size: 100%;\">t[2]</span> de telle sorte que les trois premiers éléments du tableau soient triés.\n",
    "\n",
    "- etc...\n",
    "\n",
    "- <span style=\"font-family:Courier New;font-size: 100%;\">i</span>$^{ème}$ étape : on insère le <span style=\"font-family:Courier New;font-size: 100%;\">i+1</span>$^{ème}$ élément, <span style=\"font-family:Courier New;font-size: 100%;\">t[i]</span>, de telle sorte que les <span style=\"font-family:Courier New;font-size: 100%;\">i+1</span> premiers éléments du tableau soient triés.\n",
    "\n",
    "- <span style=\"font-family:Courier New;font-size: 100%;\">n-1</span>$^{ème}$ et dernière étape : on insère le <span style=\"font-family:Courier New;font-size: 100%;\">n</span>$^{ème}$ élément, <span style=\"font-family:Courier New;font-size: 100%;\">t[n-1]</span> de telle sorte que le tableau soit trié.\n",
    "\n",
    "\n",
    "Pour notre jeu de cartes, on obtient donc successivement :<br>\n",
    "<br>\n",
    "<u>étape 1</u> : la <strong>deuxième carte, le neuf</strong>, est inséré avant la dame. <u>Les 2 premières cartes sont triées.</u><br>\n",
    "![alt text](mes_images/etape1.png \"étape 1\")<br>\n",
    "<br>\n",
    "<u>étape 2</u> : la <strong>troisième carte, l'as</strong> est déjà à sa place. Le jeu ne change pas et <u>les 3 premières cartes sont triées.</u><br>\n",
    "![alt text](mes_images/etape2.png \"étape 2\")<br>\n",
    "<br>\n",
    "<u>étape 3</u> : la <strong>quatrième carte, le dix</strong> est inséré avant la dame. <u>Les 4 premières cartes sont triées.</u><br>\n",
    "![alt text](mes_images/etape3.png \"étape 3\")<br>\n",
    "<br>\n",
    "<u>étape 4</u> : la <strong>dernière carte, le roi</strong> est inséré avant l'as. <u>Le jeu est trié</u>.<br>\n",
    "![alt text](mes_images/etape4.png \"étape 4\")<br>\n",
    "<br>\n",
    "<br>Trier par insertion consiste à <span style=\"border: 2px solid;padding:6px;\">décaler à droite des éléments plus grands que l'élément à insérer</span>.<br>\n",
    "<br>L'animation ci-dessous permet de visualier ces différentes étapes d'insertion.<br>\n"
   ]
  },
  {
   "cell_type": "code",
   "execution_count": null,
   "metadata": {},
   "outputs": [],
   "source": [
    "montre.insertion()"
   ]
  },
  {
   "cell_type": "markdown",
   "metadata": {},
   "source": [
    "## <u style=\"color:red;\">II. Se familiariser avec ce tri avec un exemple :</u> ##\n",
    "Voici un tableau non trié : <span style=\"font-family:Courier New;font-size: 100%;\">[5,2,6,3,8,1]</span>. Reprendre les étapes précédentes, et trier pas à pas ce tableau.<br>\n"
   ]
  },
  {
   "cell_type": "code",
   "execution_count": null,
   "metadata": {},
   "outputs": [],
   "source": [
    "question.etape1()"
   ]
  },
  {
   "cell_type": "code",
   "execution_count": null,
   "metadata": {},
   "outputs": [],
   "source": [
    "question.etape2()"
   ]
  },
  {
   "cell_type": "code",
   "execution_count": null,
   "metadata": {},
   "outputs": [],
   "source": [
    "question.etape3()"
   ]
  },
  {
   "cell_type": "code",
   "execution_count": null,
   "metadata": {},
   "outputs": [],
   "source": [
    "question.etape4()"
   ]
  },
  {
   "cell_type": "code",
   "execution_count": null,
   "metadata": {},
   "outputs": [],
   "source": [
    "question.etape5()"
   ]
  },
  {
   "cell_type": "markdown",
   "metadata": {},
   "source": [
    "## <u style=\"color:red;\">III. Algorithme du tri par insertion :</u> ##\n",
    "Entrée : un tableau <span style=\"font-family:Courier New;font-size: 100%;\">t</span> <u>non vide</u>, et non trié à priori.<br>\n",
    "Voici un code possible du tri par insertion :<br>\n",
    "![alt text](mes_images/complete_tri_insertion.png \"code tri insertion\")<br>\n",
    "● Complète le code ci-dessous. Tu peux t'aider avec une indication ou obtenir la réponse une fois que tu as suffisamment cherché.<br>\n"
   ]
  },
  {
   "cell_type": "code",
   "execution_count": null,
   "metadata": {},
   "outputs": [],
   "source": [
    "t=[5, 2, 6, 3, 8, 1]\n",
    "n = len(t)\n",
    "# assert(...), \"le tableau ne doit pas être vide!\"\n",
    "# à compléter"
   ]
  },
  {
   "cell_type": "code",
   "execution_count": null,
   "metadata": {},
   "outputs": [],
   "source": [
    "solution.tri_insertion()"
   ]
  },
  {
   "cell_type": "markdown",
   "metadata": {},
   "source": [
    "<u>REMARQUE IMPORTANTE</u> :<br>\n",
    "Pour voir si ce tri est bien compris, il faut essayer de le réécrire à partir d'un <u>fichier vierge</u>, sans le code sous les yeux.<br>\n",
    "Si tu y arrives, c'est qu'il est assimilé!\n",
    "## <u style=\"color:red;\">IV. Calcul du coût et complexité :</u> ##\n",
    "Le nombre d'opérations élémentaires effectuées est un peu plus difficile à évaluer dans le cas du tri par insertion.<br>\n",
    "En effet :\n",
    "- lorsqu'on insère l'élément d'index 1, on fait au plus 1 décalage.\n",
    "\n",
    "- lorsqu'on insère l'élément d'index 2, on fait au plus 2 décalages.\n",
    "\n",
    "- ...\n",
    "\n",
    "- lorsqu'on insère le dernier élément, d'index (n-1), on fait au plus (n-1) décalages.\n",
    "\n",
    "Pour trier par insertion un tableau de taille <span style=\"font-family:Courier New;font-size: 100%;\">n</span>, le nombre d'opérations élémentaires est donc <strong>au plus</strong> de : $1+2+3+4+(n−1)$ <br>\n",
    "<br>\n",
    "Et nous avons déjà vu lors du tri par sélection que : $1+2+3+4+(n−1)=\\frac{(n−1)n}{2}=\\frac{n^2-n}{2}$<br>\n",
    "On dit qu'on a calculé la complexité <u>dans le pire des cas</u>.<br>\n",
    "Le terme de plus haut degré est de <u>degré 2</u>. On obtient dans ce cas une compléxité <strong>équivalente</strong> à celle du <u>tri sélection</u>.\n",
    "## <u style=\"color:red;\">V. Terminaison et correction :</u> ##\n",
    "### <u style=\"color:green;\">1. Terminaison :</u> ###\n",
    "Ici, on au une première boucle de compteur <span style=\"font-family:Courier New;font-size: 100%;\">i</span>, <span style=\"font-family:Courier New;font-size: 100%;\">i</span> n'étant pas modifié. Il y a donc un nombre fini d'itérations pour cette boucle.<br>\n",
    "A l'intérieur de cette boucle de compteur <span style=\"font-family:Courier New;font-size: 100%;\">i</span>, on a une boucle <span style=\"font-family:Courier New;font-size: 100%;\">while</span> :<br>\n"
   ]
  },
  {
   "cell_type": "code",
   "execution_count": null,
   "metadata": {},
   "outputs": [],
   "source": [
    "qcm.nb_iterations()"
   ]
  },
  {
   "cell_type": "markdown",
   "metadata": {},
   "source": [
    "● <span style=\"font-family:Courier New;font-size: 100%;\">j</span> est un entier qui décrémente de 1 à chaque tour. On dit que <span style=\"font-family:Courier New;font-size: 100%;\">j</span> est un <strong>variant de boucle</strong>.  <br>\n",
    "→ soit <span style=\"font-family:Courier New;font-size: 100%;\">j</span> finit par atteindre la valeur <span style=\"font-family:Courier New;font-size: 100%;\">0</span>.<br>\n",
    "→ soit la boucle se termine car <span style=\"font-family:Courier New;font-size: 100%;\">x</span> est supérieur ou égal à <span style=\"font-family:Courier New;font-size: 100%;\">t[j]</span>.  <br>\n",
    "Dans les deux cas, il y a un nombre <u>fini</u> d'itérations pour cette boucle <span style=\"font-family:Courier New;font-size: 100%;\">while j...</span>  <br>\n",
    "<u>Conclusion</u> : on est donc certain qu'il y aura un nombre <strong>fini</strong> d'itérations dans cet algorithme.  <br>\n",
    "La terminaison est donc prouvée.  \n",
    "### <u style=\"color:green;\">2. Correction :</u> ###\n",
    "On rappelle qu'un <strong>invariant de boucle</strong> une propriété qui est vraie avant et après toute itération. <br>\n"
   ]
  },
  {
   "cell_type": "code",
   "execution_count": null,
   "metadata": {},
   "outputs": [],
   "source": [
    "qcm.invariant()"
   ]
  }
 ],
 "metadata": {},
 "nbformat": 4,
 "nbformat_minor": 4
}
